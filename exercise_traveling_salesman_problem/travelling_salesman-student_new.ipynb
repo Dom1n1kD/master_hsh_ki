{
 "cells": [
  {
   "cell_type": "markdown",
   "metadata": {},
   "source": [
    "# TRAVELLING SALESMAN PROBLEM"
   ]
  },
  {
   "cell_type": "markdown",
   "metadata": {},
   "source": [
    "Im ersten Schritt werden die benötigten Pakete importiert"
   ]
  },
  {
   "cell_type": "code",
   "execution_count": 22,
   "metadata": {},
   "outputs": [
    {
     "data": {
      "text/plain": [
       "'\\n!pip install numpy\\n!pip install python-tsp\\n!pip install geopy\\n'"
      ]
     },
     "execution_count": 22,
     "metadata": {},
     "output_type": "execute_result"
    }
   ],
   "source": [
    "\"\"\"\n",
    "!pip install numpy\n",
    "!pip install python-tsp\n",
    "!pip install geopy\n",
    "\"\"\""
   ]
  },
  {
   "cell_type": "code",
   "execution_count": 23,
   "metadata": {},
   "outputs": [],
   "source": [
    "import numpy as np #Paket für mathematische Operationen\n",
    "from python_tsp.distances import great_circle_distance_matrix\n",
    "from python_tsp.exact import solve_tsp_dynamic_programming\n",
    "from python_tsp.heuristics import solve_tsp_simulated_annealing\n",
    "from geopy.geocoders import Nominatim #Paket für Koordinatenabfragen "
   ]
  },
  {
   "cell_type": "markdown",
   "metadata": {},
   "source": [
    "Tragen Sie die englischen Namen von fünf (großen) Städten in Europa ein. Diese werden in Variablen gespeichert."
   ]
  },
  {
   "cell_type": "code",
   "execution_count": 24,
   "metadata": {},
   "outputs": [],
   "source": [
    "town_1 = \"Hanover\"\n",
    "town_2 = \"Rom\"\n",
    "town_3 = \"Praque\"\n",
    "town_4 = \"Paris\"\n",
    "town_5 = \"London\""
   ]
  },
  {
   "cell_type": "markdown",
   "metadata": {},
   "source": [
    "Ein Geolocator wird erstellt und mit den fünf Städtenamen konfiguriert"
   ]
  },
  {
   "cell_type": "code",
   "execution_count": 25,
   "metadata": {},
   "outputs": [],
   "source": [
    "geolocator = Nominatim(user_agent=\"user_agent\")"
   ]
  },
  {
   "cell_type": "code",
   "execution_count": 26,
   "metadata": {},
   "outputs": [
    {
     "data": {
      "text/plain": [
       "Location(Hannover, Region Hannover, Niedersachsen, Deutschland, (52.3744779, 9.7385532, 0.0))"
      ]
     },
     "execution_count": 26,
     "metadata": {},
     "output_type": "execute_result"
    }
   ],
   "source": [
    "location_1 = geolocator.geocode(town_1)\n",
    "location_2 = geolocator.geocode(town_2)\n",
    "location_3 = geolocator.geocode(town_3)\n",
    "location_4 = geolocator.geocode(town_4)\n",
    "location_5 = geolocator.geocode(town_5)\n",
    "location_1"
   ]
  },
  {
   "cell_type": "markdown",
   "metadata": {},
   "source": [
    "Eine Koordinatenliste wird mithilfe der 5 Locations befüllt"
   ]
  },
  {
   "cell_type": "code",
   "execution_count": 27,
   "metadata": {},
   "outputs": [],
   "source": [
    "coords_list = [(location_1.longitude, location_1.latitude), \n",
    "               (location_2.longitude, location_2.latitude), \n",
    "               (location_3.longitude, location_3.latitude), \n",
    "               (location_4.longitude, location_4.latitude), \n",
    "               (location_5.longitude, location_5.latitude)]"
   ]
  },
  {
   "cell_type": "markdown",
   "metadata": {},
   "source": [
    "Die Koordinaten werden in eine Distanzmatrix konvertiert."
   ]
  },
  {
   "cell_type": "code",
   "execution_count": 28,
   "metadata": {},
   "outputs": [],
   "source": [
    "distance_matrix = great_circle_distance_matrix(coords_list)"
   ]
  },
  {
   "cell_type": "markdown",
   "metadata": {},
   "source": [
    "Ein exakter Algorithmus wird für die Lösung des TSP angewendet."
   ]
  },
  {
   "cell_type": "code",
   "execution_count": 29,
   "metadata": {},
   "outputs": [],
   "source": [
    "permutation_exact, distance1 = solve_tsp_dynamic_programming(distance_matrix)"
   ]
  },
  {
   "cell_type": "markdown",
   "metadata": {},
   "source": [
    "Ein heuristischer Algorithmus wird für die Lösung des TSP angewendet."
   ]
  },
  {
   "cell_type": "code",
   "execution_count": 30,
   "metadata": {},
   "outputs": [],
   "source": [
    "permutation_heur, distance2 = solve_tsp_simulated_annealing(distance_matrix)"
   ]
  },
  {
   "cell_type": "markdown",
   "metadata": {},
   "source": [
    "Es wird die ermittelte Route und ein Güteparameter ausgegeben"
   ]
  },
  {
   "cell_type": "code",
   "execution_count": 31,
   "metadata": {},
   "outputs": [
    {
     "name": "stdout",
     "output_type": "stream",
     "text": [
      "The best route found exactly is:  [0, 4, 3, 2, 1] with distance:  4169147.3595929183\n",
      "The best route found heuristically is:  [0, 1, 2, 3, 4] with distance:  4169147.3595929183\n"
     ]
    }
   ],
   "source": [
    "print('The best route found exactly is: ', permutation_exact , 'with distance: ', distance1)\n",
    "print('The best route found heuristically is: ', permutation_heur, 'with distance: ', distance2)"
   ]
  },
  {
   "cell_type": "markdown",
   "metadata": {},
   "source": [
    "Gibt es Unterschiede beim Ergebnis?"
   ]
  },
  {
   "cell_type": "markdown",
   "metadata": {},
   "source": [
    "- Ja, es gibt eine Richtungs&auml;nderung bei den beiden Algorithmen.\n",
    "- Die Distanzen sind bei beiden Algorithmen gleich."
   ]
  },
  {
   "cell_type": "markdown",
   "metadata": {},
   "source": [
    "## Für mdl. Pr&uuml;fung\n",
    "- Verstehen was der Code ungef&uuml;hr macht, nicht jedoch auf Attributebene"
   ]
  }
 ],
 "metadata": {
  "kernelspec": {
   "display_name": "Python 3.9.6 ('.venv': venv)",
   "language": "python",
   "name": "python3"
  },
  "language_info": {
   "codemirror_mode": {
    "name": "ipython",
    "version": 3
   },
   "file_extension": ".py",
   "mimetype": "text/x-python",
   "name": "python",
   "nbconvert_exporter": "python",
   "pygments_lexer": "ipython3",
   "version": "3.9.6"
  },
  "vscode": {
   "interpreter": {
    "hash": "e9e8d54f1b11bdb20df567f1cd8b7f8e794c526b927ac9d4eed24ec039083ef6"
   }
  }
 },
 "nbformat": 4,
 "nbformat_minor": 2
}
