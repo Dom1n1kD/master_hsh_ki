{
 "cells": [
  {
   "cell_type": "markdown",
   "metadata": {},
   "source": [
    "# Exam Preparation Data Mining Cup 2014\n",
    "\n",
    "## Files:\n",
    "- data/orders_class.txt (target features - this is the 'test' data)\n",
    "- data/orders_train.txt (training data - this is the ground truth and will be used to train the algo)\n",
    "- data/DMC 2014_realclass.txt (validation data - quality check for algo)\n",
    "\n",
    "## File Handling:\n",
    "- Use the 'data/orders_train.txt' dataset to train the algo\n",
    "- Afterwards use 'data/orders_class.txt' dataset to predict the target feature\n",
    "- Finally check the quality of the results with 'data/DMC 2014_realclass.txt' dataset\n",
    "\n",
    "## Scenario:\n",
    "'On the basis of historical purchase data of an online shop a model is to be learned generating a\n",
    "prediction of the probability that a certain purchase is converted into a return on the basis of new\n",
    "purchase  data  of  the  shop.'\n",
    "\n",
    "## Data:\n",
    "- Item kept = '0'\n",
    "- Item returned = '1'"
   ]
  },
  {
   "cell_type": "markdown",
   "metadata": {},
   "source": [
    "# Data Exploration"
   ]
  },
  {
   "cell_type": "code",
   "execution_count": 323,
   "metadata": {},
   "outputs": [],
   "source": [
    "import pandas as pd\n",
    "import numpy as np\n",
    "from datetime import timedelta\n",
    "from datetime import datetime"
   ]
  },
  {
   "cell_type": "code",
   "execution_count": 208,
   "metadata": {},
   "outputs": [],
   "source": [
    "def perform_data_quality_check(initial_dataframe):\n",
    "    qc_df = pd.DataFrame(columns=['field', 'missing_values', 'min_value', 'max_value'])\n",
    "\n",
    "    for column in initial_dataframe:\n",
    "        \n",
    "        # calcualte the count of missing values (defined as '?' or numpy.NaN)\n",
    "        if (df[column]=='?').sum() is not None or df[column].isna().sum() is not None:\n",
    "            missing_values = (df[column]=='?').sum() + df[column].isna().sum()\n",
    "        else:\n",
    "            missing_values = float('NaN')\n",
    "        \n",
    "        # calculate the min and max if the field is a date or numeric\n",
    "        if column not in ('size','color','salutation','state'):\n",
    "            min_value = df[column].min()\n",
    "            max_value = df[column].max()\n",
    "        else:\n",
    "            min_value = float('NaN')\n",
    "            max_value = float('NaN')\n",
    "    \n",
    "        new_row = {'field': column, 'missing_values': missing_values, 'min_value': min_value, 'max_value': max_value}\n",
    "        qc_df.loc[len(qc_df)] = new_row\n",
    "        \n",
    "    return qc_df"
   ]
  },
  {
   "cell_type": "code",
   "execution_count": 209,
   "metadata": {},
   "outputs": [
    {
     "data": {
      "text/html": [
       "<div>\n",
       "<style scoped>\n",
       "    .dataframe tbody tr th:only-of-type {\n",
       "        vertical-align: middle;\n",
       "    }\n",
       "\n",
       "    .dataframe tbody tr th {\n",
       "        vertical-align: top;\n",
       "    }\n",
       "\n",
       "    .dataframe thead th {\n",
       "        text-align: right;\n",
       "    }\n",
       "</style>\n",
       "<table border=\"1\" class=\"dataframe\">\n",
       "  <thead>\n",
       "    <tr style=\"text-align: right;\">\n",
       "      <th></th>\n",
       "      <th>orderItemID</th>\n",
       "      <th>orderDate</th>\n",
       "      <th>deliveryDate</th>\n",
       "      <th>itemID</th>\n",
       "      <th>size</th>\n",
       "      <th>color</th>\n",
       "      <th>manufacturerID</th>\n",
       "      <th>price</th>\n",
       "      <th>customerID</th>\n",
       "      <th>salutation</th>\n",
       "      <th>dateOfBirth</th>\n",
       "      <th>state</th>\n",
       "      <th>creationDate</th>\n",
       "      <th>returnShipment</th>\n",
       "    </tr>\n",
       "  </thead>\n",
       "  <tbody>\n",
       "    <tr>\n",
       "      <th>0</th>\n",
       "      <td>1</td>\n",
       "      <td>2012-04-01</td>\n",
       "      <td>2012-04-03</td>\n",
       "      <td>186</td>\n",
       "      <td>m</td>\n",
       "      <td>denim</td>\n",
       "      <td>25</td>\n",
       "      <td>69.90</td>\n",
       "      <td>794</td>\n",
       "      <td>Mrs</td>\n",
       "      <td>1965-01-06</td>\n",
       "      <td>Baden-Wuerttemberg</td>\n",
       "      <td>2011-04-25</td>\n",
       "      <td>0</td>\n",
       "    </tr>\n",
       "    <tr>\n",
       "      <th>1</th>\n",
       "      <td>2</td>\n",
       "      <td>2012-04-01</td>\n",
       "      <td>2012-04-03</td>\n",
       "      <td>71</td>\n",
       "      <td>9+</td>\n",
       "      <td>ocher</td>\n",
       "      <td>21</td>\n",
       "      <td>69.95</td>\n",
       "      <td>794</td>\n",
       "      <td>Mrs</td>\n",
       "      <td>1965-01-06</td>\n",
       "      <td>Baden-Wuerttemberg</td>\n",
       "      <td>2011-04-25</td>\n",
       "      <td>1</td>\n",
       "    </tr>\n",
       "    <tr>\n",
       "      <th>2</th>\n",
       "      <td>3</td>\n",
       "      <td>2012-04-01</td>\n",
       "      <td>2012-04-03</td>\n",
       "      <td>71</td>\n",
       "      <td>9+</td>\n",
       "      <td>curry</td>\n",
       "      <td>21</td>\n",
       "      <td>69.95</td>\n",
       "      <td>794</td>\n",
       "      <td>Mrs</td>\n",
       "      <td>1965-01-06</td>\n",
       "      <td>Baden-Wuerttemberg</td>\n",
       "      <td>2011-04-25</td>\n",
       "      <td>1</td>\n",
       "    </tr>\n",
       "    <tr>\n",
       "      <th>3</th>\n",
       "      <td>4</td>\n",
       "      <td>2012-04-02</td>\n",
       "      <td>?</td>\n",
       "      <td>22</td>\n",
       "      <td>m</td>\n",
       "      <td>green</td>\n",
       "      <td>14</td>\n",
       "      <td>39.90</td>\n",
       "      <td>808</td>\n",
       "      <td>Mrs</td>\n",
       "      <td>1959-11-09</td>\n",
       "      <td>Saxony</td>\n",
       "      <td>2012-01-04</td>\n",
       "      <td>0</td>\n",
       "    </tr>\n",
       "    <tr>\n",
       "      <th>4</th>\n",
       "      <td>5</td>\n",
       "      <td>2012-04-02</td>\n",
       "      <td>1990-12-31</td>\n",
       "      <td>151</td>\n",
       "      <td>39</td>\n",
       "      <td>black</td>\n",
       "      <td>53</td>\n",
       "      <td>29.90</td>\n",
       "      <td>825</td>\n",
       "      <td>Mrs</td>\n",
       "      <td>1964-07-11</td>\n",
       "      <td>Rhineland-Palatinate</td>\n",
       "      <td>2011-02-16</td>\n",
       "      <td>0</td>\n",
       "    </tr>\n",
       "  </tbody>\n",
       "</table>\n",
       "</div>"
      ],
      "text/plain": [
       "   orderItemID   orderDate deliveryDate  itemID size  color  manufacturerID  \\\n",
       "0            1  2012-04-01   2012-04-03     186    m  denim              25   \n",
       "1            2  2012-04-01   2012-04-03      71   9+  ocher              21   \n",
       "2            3  2012-04-01   2012-04-03      71   9+  curry              21   \n",
       "3            4  2012-04-02            ?      22    m  green              14   \n",
       "4            5  2012-04-02   1990-12-31     151   39  black              53   \n",
       "\n",
       "   price  customerID salutation dateOfBirth                 state  \\\n",
       "0  69.90         794        Mrs  1965-01-06    Baden-Wuerttemberg   \n",
       "1  69.95         794        Mrs  1965-01-06    Baden-Wuerttemberg   \n",
       "2  69.95         794        Mrs  1965-01-06    Baden-Wuerttemberg   \n",
       "3  39.90         808        Mrs  1959-11-09                Saxony   \n",
       "4  29.90         825        Mrs  1964-07-11  Rhineland-Palatinate   \n",
       "\n",
       "  creationDate  returnShipment  \n",
       "0   2011-04-25               0  \n",
       "1   2011-04-25               1  \n",
       "2   2011-04-25               1  \n",
       "3   2012-01-04               0  \n",
       "4   2011-02-16               0  "
      ]
     },
     "execution_count": 209,
     "metadata": {},
     "output_type": "execute_result"
    }
   ],
   "source": [
    "df = pd.read_csv('data/orders_train.txt', delimiter=';')\n",
    "df.head()"
   ]
  },
  {
   "cell_type": "code",
   "execution_count": 210,
   "metadata": {},
   "outputs": [
    {
     "name": "stdout",
     "output_type": "stream",
     "text": [
      "<class 'pandas.core.frame.DataFrame'>\n",
      "RangeIndex: 481092 entries, 0 to 481091\n",
      "Data columns (total 14 columns):\n",
      " #   Column          Non-Null Count   Dtype  \n",
      "---  ------          --------------   -----  \n",
      " 0   orderItemID     481092 non-null  int64  \n",
      " 1   orderDate       481092 non-null  object \n",
      " 2   deliveryDate    481092 non-null  object \n",
      " 3   itemID          481092 non-null  int64  \n",
      " 4   size            481092 non-null  object \n",
      " 5   color           481092 non-null  object \n",
      " 6   manufacturerID  481092 non-null  int64  \n",
      " 7   price           481092 non-null  float64\n",
      " 8   customerID      481092 non-null  int64  \n",
      " 9   salutation      481092 non-null  object \n",
      " 10  dateOfBirth     481092 non-null  object \n",
      " 11  state           481092 non-null  object \n",
      " 12  creationDate    481092 non-null  object \n",
      " 13  returnShipment  481092 non-null  int64  \n",
      "dtypes: float64(1), int64(5), object(8)\n",
      "memory usage: 51.4+ MB\n"
     ]
    }
   ],
   "source": [
    "# check for datatypes and NaN values\n",
    "df.info()"
   ]
  },
  {
   "cell_type": "markdown",
   "metadata": {},
   "source": [
    "## Note\n",
    "- DataTypes are not right\n",
    "  - for example 'orderDate' is of type 'object' needs to be of type 'date'\n",
    "- 'df.info()' doesnt detect the right NaN Values because they are not numpy NaN but simple '?' instead\n",
    "  - Documentation states that there are for example missing values in column 'deliveryDate'"
   ]
  },
  {
   "cell_type": "code",
   "execution_count": 211,
   "metadata": {},
   "outputs": [
    {
     "data": {
      "text/html": [
       "<div>\n",
       "<style scoped>\n",
       "    .dataframe tbody tr th:only-of-type {\n",
       "        vertical-align: middle;\n",
       "    }\n",
       "\n",
       "    .dataframe tbody tr th {\n",
       "        vertical-align: top;\n",
       "    }\n",
       "\n",
       "    .dataframe thead th {\n",
       "        text-align: right;\n",
       "    }\n",
       "</style>\n",
       "<table border=\"1\" class=\"dataframe\">\n",
       "  <thead>\n",
       "    <tr style=\"text-align: right;\">\n",
       "      <th></th>\n",
       "      <th>field</th>\n",
       "      <th>missing_values</th>\n",
       "      <th>min_value</th>\n",
       "      <th>max_value</th>\n",
       "    </tr>\n",
       "  </thead>\n",
       "  <tbody>\n",
       "    <tr>\n",
       "      <th>0</th>\n",
       "      <td>orderItemID</td>\n",
       "      <td>0</td>\n",
       "      <td>1</td>\n",
       "      <td>481092</td>\n",
       "    </tr>\n",
       "    <tr>\n",
       "      <th>1</th>\n",
       "      <td>orderDate</td>\n",
       "      <td>0</td>\n",
       "      <td>2012-04-01</td>\n",
       "      <td>2013-03-31</td>\n",
       "    </tr>\n",
       "    <tr>\n",
       "      <th>2</th>\n",
       "      <td>deliveryDate</td>\n",
       "      <td>39419</td>\n",
       "      <td>1990-12-31</td>\n",
       "      <td>?</td>\n",
       "    </tr>\n",
       "    <tr>\n",
       "      <th>3</th>\n",
       "      <td>itemID</td>\n",
       "      <td>0</td>\n",
       "      <td>1</td>\n",
       "      <td>3071</td>\n",
       "    </tr>\n",
       "    <tr>\n",
       "      <th>4</th>\n",
       "      <td>size</td>\n",
       "      <td>0</td>\n",
       "      <td>NaN</td>\n",
       "      <td>NaN</td>\n",
       "    </tr>\n",
       "    <tr>\n",
       "      <th>5</th>\n",
       "      <td>color</td>\n",
       "      <td>143</td>\n",
       "      <td>NaN</td>\n",
       "      <td>NaN</td>\n",
       "    </tr>\n",
       "    <tr>\n",
       "      <th>6</th>\n",
       "      <td>manufacturerID</td>\n",
       "      <td>0</td>\n",
       "      <td>1</td>\n",
       "      <td>166</td>\n",
       "    </tr>\n",
       "    <tr>\n",
       "      <th>7</th>\n",
       "      <td>price</td>\n",
       "      <td>0</td>\n",
       "      <td>0.0</td>\n",
       "      <td>999.0</td>\n",
       "    </tr>\n",
       "    <tr>\n",
       "      <th>8</th>\n",
       "      <td>customerID</td>\n",
       "      <td>0</td>\n",
       "      <td>6</td>\n",
       "      <td>86611</td>\n",
       "    </tr>\n",
       "    <tr>\n",
       "      <th>9</th>\n",
       "      <td>salutation</td>\n",
       "      <td>0</td>\n",
       "      <td>NaN</td>\n",
       "      <td>NaN</td>\n",
       "    </tr>\n",
       "    <tr>\n",
       "      <th>10</th>\n",
       "      <td>dateOfBirth</td>\n",
       "      <td>48889</td>\n",
       "      <td>1655-04-19</td>\n",
       "      <td>?</td>\n",
       "    </tr>\n",
       "    <tr>\n",
       "      <th>11</th>\n",
       "      <td>state</td>\n",
       "      <td>0</td>\n",
       "      <td>NaN</td>\n",
       "      <td>NaN</td>\n",
       "    </tr>\n",
       "    <tr>\n",
       "      <th>12</th>\n",
       "      <td>creationDate</td>\n",
       "      <td>0</td>\n",
       "      <td>2011-02-16</td>\n",
       "      <td>2013-03-31</td>\n",
       "    </tr>\n",
       "    <tr>\n",
       "      <th>13</th>\n",
       "      <td>returnShipment</td>\n",
       "      <td>0</td>\n",
       "      <td>0</td>\n",
       "      <td>1</td>\n",
       "    </tr>\n",
       "  </tbody>\n",
       "</table>\n",
       "</div>"
      ],
      "text/plain": [
       "             field  missing_values   min_value   max_value\n",
       "0      orderItemID               0           1      481092\n",
       "1        orderDate               0  2012-04-01  2013-03-31\n",
       "2     deliveryDate           39419  1990-12-31           ?\n",
       "3           itemID               0           1        3071\n",
       "4             size               0         NaN         NaN\n",
       "5            color             143         NaN         NaN\n",
       "6   manufacturerID               0           1         166\n",
       "7            price               0         0.0       999.0\n",
       "8       customerID               0           6       86611\n",
       "9       salutation               0         NaN         NaN\n",
       "10     dateOfBirth           48889  1655-04-19           ?\n",
       "11           state               0         NaN         NaN\n",
       "12    creationDate               0  2011-02-16  2013-03-31\n",
       "13  returnShipment               0           0           1"
      ]
     },
     "execution_count": 211,
     "metadata": {},
     "output_type": "execute_result"
    }
   ],
   "source": [
    "# perform some basic data quality checks\n",
    "# including count of missing values, min and max value (if its a numeric field)\n",
    "dq_check_df = perform_data_quality_check(df)\n",
    "dq_check_df"
   ]
  },
  {
   "cell_type": "code",
   "execution_count": 214,
   "metadata": {},
   "outputs": [],
   "source": [
    "# replace '?' values with numpy NaN\n",
    "df.replace('?', np.nan, inplace=True)"
   ]
  },
  {
   "cell_type": "code",
   "execution_count": 217,
   "metadata": {},
   "outputs": [
    {
     "ename": "OutOfBoundsDatetime",
     "evalue": "Out of bounds nanosecond timestamp: 1655-04-19 00:00:00 present at position 11578",
     "output_type": "error",
     "traceback": [
      "\u001b[0;31m---------------------------------------------------------------------------\u001b[0m",
      "\u001b[0;31mOutOfBoundsDatetime\u001b[0m                       Traceback (most recent call last)",
      "Cell \u001b[0;32mIn [217], line 1\u001b[0m\n\u001b[0;32m----> 1\u001b[0m df[[\u001b[38;5;124m'\u001b[39m\u001b[38;5;124morderDate\u001b[39m\u001b[38;5;124m'\u001b[39m, \u001b[38;5;124m'\u001b[39m\u001b[38;5;124mdeliveryDate\u001b[39m\u001b[38;5;124m'\u001b[39m, \u001b[38;5;124m'\u001b[39m\u001b[38;5;124mdateOfBirth\u001b[39m\u001b[38;5;124m'\u001b[39m, \u001b[38;5;124m'\u001b[39m\u001b[38;5;124mcreationDate\u001b[39m\u001b[38;5;124m'\u001b[39m]] \u001b[38;5;241m=\u001b[39m df[[\u001b[38;5;124m'\u001b[39m\u001b[38;5;124morderDate\u001b[39m\u001b[38;5;124m'\u001b[39m, \u001b[38;5;124m'\u001b[39m\u001b[38;5;124mdeliveryDate\u001b[39m\u001b[38;5;124m'\u001b[39m, \u001b[38;5;124m'\u001b[39m\u001b[38;5;124mdateOfBirth\u001b[39m\u001b[38;5;124m'\u001b[39m, \u001b[38;5;124m'\u001b[39m\u001b[38;5;124mcreationDate\u001b[39m\u001b[38;5;124m'\u001b[39m]]\u001b[38;5;241m.\u001b[39mapply(pd\u001b[38;5;241m.\u001b[39mto_datetime, \u001b[38;5;28mformat\u001b[39m\u001b[38;5;241m=\u001b[39m\u001b[38;5;124m'\u001b[39m\u001b[38;5;124m%\u001b[39m\u001b[38;5;124mY-\u001b[39m\u001b[38;5;124m%\u001b[39m\u001b[38;5;124mm-\u001b[39m\u001b[38;5;132;01m%d\u001b[39;00m\u001b[38;5;124m'\u001b[39m)\n",
      "File \u001b[0;32m/Library/Frameworks/Python.framework/Versions/3.9/lib/python3.9/site-packages/pandas/core/frame.py:9558\u001b[0m, in \u001b[0;36mDataFrame.apply\u001b[0;34m(self, func, axis, raw, result_type, args, **kwargs)\u001b[0m\n\u001b[1;32m   9547\u001b[0m \u001b[39mfrom\u001b[39;00m \u001b[39mpandas\u001b[39;00m\u001b[39m.\u001b[39;00m\u001b[39mcore\u001b[39;00m\u001b[39m.\u001b[39;00m\u001b[39mapply\u001b[39;00m \u001b[39mimport\u001b[39;00m frame_apply\n\u001b[1;32m   9549\u001b[0m op \u001b[39m=\u001b[39m frame_apply(\n\u001b[1;32m   9550\u001b[0m     \u001b[39mself\u001b[39m,\n\u001b[1;32m   9551\u001b[0m     func\u001b[39m=\u001b[39mfunc,\n\u001b[0;32m   (...)\u001b[0m\n\u001b[1;32m   9556\u001b[0m     kwargs\u001b[39m=\u001b[39mkwargs,\n\u001b[1;32m   9557\u001b[0m )\n\u001b[0;32m-> 9558\u001b[0m \u001b[39mreturn\u001b[39;00m op\u001b[39m.\u001b[39;49mapply()\u001b[39m.\u001b[39m__finalize__(\u001b[39mself\u001b[39m, method\u001b[39m=\u001b[39m\u001b[39m\"\u001b[39m\u001b[39mapply\u001b[39m\u001b[39m\"\u001b[39m)\n",
      "File \u001b[0;32m/Library/Frameworks/Python.framework/Versions/3.9/lib/python3.9/site-packages/pandas/core/apply.py:741\u001b[0m, in \u001b[0;36mFrameApply.apply\u001b[0;34m(self)\u001b[0m\n\u001b[1;32m    738\u001b[0m \u001b[39melif\u001b[39;00m \u001b[39mself\u001b[39m\u001b[39m.\u001b[39mraw:\n\u001b[1;32m    739\u001b[0m     \u001b[39mreturn\u001b[39;00m \u001b[39mself\u001b[39m\u001b[39m.\u001b[39mapply_raw()\n\u001b[0;32m--> 741\u001b[0m \u001b[39mreturn\u001b[39;00m \u001b[39mself\u001b[39;49m\u001b[39m.\u001b[39;49mapply_standard()\n",
      "File \u001b[0;32m/Library/Frameworks/Python.framework/Versions/3.9/lib/python3.9/site-packages/pandas/core/apply.py:868\u001b[0m, in \u001b[0;36mFrameApply.apply_standard\u001b[0;34m(self)\u001b[0m\n\u001b[1;32m    867\u001b[0m \u001b[39mdef\u001b[39;00m \u001b[39mapply_standard\u001b[39m(\u001b[39mself\u001b[39m):\n\u001b[0;32m--> 868\u001b[0m     results, res_index \u001b[39m=\u001b[39m \u001b[39mself\u001b[39;49m\u001b[39m.\u001b[39;49mapply_series_generator()\n\u001b[1;32m    870\u001b[0m     \u001b[39m# wrap results\u001b[39;00m\n\u001b[1;32m    871\u001b[0m     \u001b[39mreturn\u001b[39;00m \u001b[39mself\u001b[39m\u001b[39m.\u001b[39mwrap_results(results, res_index)\n",
      "File \u001b[0;32m/Library/Frameworks/Python.framework/Versions/3.9/lib/python3.9/site-packages/pandas/core/apply.py:884\u001b[0m, in \u001b[0;36mFrameApply.apply_series_generator\u001b[0;34m(self)\u001b[0m\n\u001b[1;32m    881\u001b[0m \u001b[39mwith\u001b[39;00m option_context(\u001b[39m\"\u001b[39m\u001b[39mmode.chained_assignment\u001b[39m\u001b[39m\"\u001b[39m, \u001b[39mNone\u001b[39;00m):\n\u001b[1;32m    882\u001b[0m     \u001b[39mfor\u001b[39;00m i, v \u001b[39min\u001b[39;00m \u001b[39menumerate\u001b[39m(series_gen):\n\u001b[1;32m    883\u001b[0m         \u001b[39m# ignore SettingWithCopy here in case the user mutates\u001b[39;00m\n\u001b[0;32m--> 884\u001b[0m         results[i] \u001b[39m=\u001b[39m \u001b[39mself\u001b[39;49m\u001b[39m.\u001b[39;49mf(v)\n\u001b[1;32m    885\u001b[0m         \u001b[39mif\u001b[39;00m \u001b[39misinstance\u001b[39m(results[i], ABCSeries):\n\u001b[1;32m    886\u001b[0m             \u001b[39m# If we have a view on v, we need to make a copy because\u001b[39;00m\n\u001b[1;32m    887\u001b[0m             \u001b[39m#  series_generator will swap out the underlying data\u001b[39;00m\n\u001b[1;32m    888\u001b[0m             results[i] \u001b[39m=\u001b[39m results[i]\u001b[39m.\u001b[39mcopy(deep\u001b[39m=\u001b[39m\u001b[39mFalse\u001b[39;00m)\n",
      "File \u001b[0;32m/Library/Frameworks/Python.framework/Versions/3.9/lib/python3.9/site-packages/pandas/core/apply.py:139\u001b[0m, in \u001b[0;36mApply.__init__.<locals>.f\u001b[0;34m(x)\u001b[0m\n\u001b[1;32m    138\u001b[0m \u001b[39mdef\u001b[39;00m \u001b[39mf\u001b[39m(x):\n\u001b[0;32m--> 139\u001b[0m     \u001b[39mreturn\u001b[39;00m func(x, \u001b[39m*\u001b[39;49margs, \u001b[39m*\u001b[39;49m\u001b[39m*\u001b[39;49mkwargs)\n",
      "File \u001b[0;32m/Library/Frameworks/Python.framework/Versions/3.9/lib/python3.9/site-packages/pandas/core/tools/datetimes.py:1065\u001b[0m, in \u001b[0;36mto_datetime\u001b[0;34m(arg, errors, dayfirst, yearfirst, utc, format, exact, unit, infer_datetime_format, origin, cache)\u001b[0m\n\u001b[1;32m   1063\u001b[0m             result \u001b[39m=\u001b[39m arg\u001b[39m.\u001b[39mtz_localize(tz)\n\u001b[1;32m   1064\u001b[0m \u001b[39melif\u001b[39;00m \u001b[39misinstance\u001b[39m(arg, ABCSeries):\n\u001b[0;32m-> 1065\u001b[0m     cache_array \u001b[39m=\u001b[39m _maybe_cache(arg, \u001b[39mformat\u001b[39;49m, cache, convert_listlike)\n\u001b[1;32m   1066\u001b[0m     \u001b[39mif\u001b[39;00m \u001b[39mnot\u001b[39;00m cache_array\u001b[39m.\u001b[39mempty:\n\u001b[1;32m   1067\u001b[0m         result \u001b[39m=\u001b[39m arg\u001b[39m.\u001b[39mmap(cache_array)\n",
      "File \u001b[0;32m/Library/Frameworks/Python.framework/Versions/3.9/lib/python3.9/site-packages/pandas/core/tools/datetimes.py:230\u001b[0m, in \u001b[0;36m_maybe_cache\u001b[0;34m(arg, format, cache, convert_listlike)\u001b[0m\n\u001b[1;32m    228\u001b[0m unique_dates \u001b[39m=\u001b[39m unique(arg)\n\u001b[1;32m    229\u001b[0m \u001b[39mif\u001b[39;00m \u001b[39mlen\u001b[39m(unique_dates) \u001b[39m<\u001b[39m \u001b[39mlen\u001b[39m(arg):\n\u001b[0;32m--> 230\u001b[0m     cache_dates \u001b[39m=\u001b[39m convert_listlike(unique_dates, \u001b[39mformat\u001b[39;49m)\n\u001b[1;32m    231\u001b[0m     \u001b[39m# GH#45319\u001b[39;00m\n\u001b[1;32m    232\u001b[0m     \u001b[39mtry\u001b[39;00m:\n",
      "File \u001b[0;32m/Library/Frameworks/Python.framework/Versions/3.9/lib/python3.9/site-packages/pandas/core/tools/datetimes.py:439\u001b[0m, in \u001b[0;36m_convert_listlike_datetimes\u001b[0;34m(arg, format, name, tz, unit, errors, infer_datetime_format, dayfirst, yearfirst, exact)\u001b[0m\n\u001b[1;32m    437\u001b[0m \u001b[39massert\u001b[39;00m \u001b[39mformat\u001b[39m \u001b[39mis\u001b[39;00m \u001b[39mNone\u001b[39;00m \u001b[39mor\u001b[39;00m infer_datetime_format\n\u001b[1;32m    438\u001b[0m utc \u001b[39m=\u001b[39m tz \u001b[39m==\u001b[39m \u001b[39m\"\u001b[39m\u001b[39mutc\u001b[39m\u001b[39m\"\u001b[39m\n\u001b[0;32m--> 439\u001b[0m result, tz_parsed \u001b[39m=\u001b[39m objects_to_datetime64ns(\n\u001b[1;32m    440\u001b[0m     arg,\n\u001b[1;32m    441\u001b[0m     dayfirst\u001b[39m=\u001b[39;49mdayfirst,\n\u001b[1;32m    442\u001b[0m     yearfirst\u001b[39m=\u001b[39;49myearfirst,\n\u001b[1;32m    443\u001b[0m     utc\u001b[39m=\u001b[39;49mutc,\n\u001b[1;32m    444\u001b[0m     errors\u001b[39m=\u001b[39;49merrors,\n\u001b[1;32m    445\u001b[0m     require_iso8601\u001b[39m=\u001b[39;49mrequire_iso8601,\n\u001b[1;32m    446\u001b[0m     allow_object\u001b[39m=\u001b[39;49m\u001b[39mTrue\u001b[39;49;00m,\n\u001b[1;32m    447\u001b[0m )\n\u001b[1;32m    449\u001b[0m \u001b[39mif\u001b[39;00m tz_parsed \u001b[39mis\u001b[39;00m \u001b[39mnot\u001b[39;00m \u001b[39mNone\u001b[39;00m:\n\u001b[1;32m    450\u001b[0m     \u001b[39m# We can take a shortcut since the datetime64 numpy array\u001b[39;00m\n\u001b[1;32m    451\u001b[0m     \u001b[39m# is in UTC\u001b[39;00m\n\u001b[1;32m    452\u001b[0m     dta \u001b[39m=\u001b[39m DatetimeArray(result, dtype\u001b[39m=\u001b[39mtz_to_dtype(tz_parsed))\n",
      "File \u001b[0;32m/Library/Frameworks/Python.framework/Versions/3.9/lib/python3.9/site-packages/pandas/core/arrays/datetimes.py:2178\u001b[0m, in \u001b[0;36mobjects_to_datetime64ns\u001b[0;34m(data, dayfirst, yearfirst, utc, errors, require_iso8601, allow_object, allow_mixed)\u001b[0m\n\u001b[1;32m   2176\u001b[0m order: Literal[\u001b[39m\"\u001b[39m\u001b[39mF\u001b[39m\u001b[39m\"\u001b[39m, \u001b[39m\"\u001b[39m\u001b[39mC\u001b[39m\u001b[39m\"\u001b[39m] \u001b[39m=\u001b[39m \u001b[39m\"\u001b[39m\u001b[39mF\u001b[39m\u001b[39m\"\u001b[39m \u001b[39mif\u001b[39;00m flags\u001b[39m.\u001b[39mf_contiguous \u001b[39melse\u001b[39;00m \u001b[39m\"\u001b[39m\u001b[39mC\u001b[39m\u001b[39m\"\u001b[39m\n\u001b[1;32m   2177\u001b[0m \u001b[39mtry\u001b[39;00m:\n\u001b[0;32m-> 2178\u001b[0m     result, tz_parsed \u001b[39m=\u001b[39m tslib\u001b[39m.\u001b[39;49marray_to_datetime(\n\u001b[1;32m   2179\u001b[0m         data\u001b[39m.\u001b[39;49mravel(\u001b[39m\"\u001b[39;49m\u001b[39mK\u001b[39;49m\u001b[39m\"\u001b[39;49m),\n\u001b[1;32m   2180\u001b[0m         errors\u001b[39m=\u001b[39;49merrors,\n\u001b[1;32m   2181\u001b[0m         utc\u001b[39m=\u001b[39;49mutc,\n\u001b[1;32m   2182\u001b[0m         dayfirst\u001b[39m=\u001b[39;49mdayfirst,\n\u001b[1;32m   2183\u001b[0m         yearfirst\u001b[39m=\u001b[39;49myearfirst,\n\u001b[1;32m   2184\u001b[0m         require_iso8601\u001b[39m=\u001b[39;49mrequire_iso8601,\n\u001b[1;32m   2185\u001b[0m         allow_mixed\u001b[39m=\u001b[39;49mallow_mixed,\n\u001b[1;32m   2186\u001b[0m     )\n\u001b[1;32m   2187\u001b[0m     result \u001b[39m=\u001b[39m result\u001b[39m.\u001b[39mreshape(data\u001b[39m.\u001b[39mshape, order\u001b[39m=\u001b[39morder)\n\u001b[1;32m   2188\u001b[0m \u001b[39mexcept\u001b[39;00m \u001b[39mOverflowError\u001b[39;00m \u001b[39mas\u001b[39;00m err:\n\u001b[1;32m   2189\u001b[0m     \u001b[39m# Exception is raised when a part of date is greater than 32 bit signed int\u001b[39;00m\n",
      "File \u001b[0;32m/Library/Frameworks/Python.framework/Versions/3.9/lib/python3.9/site-packages/pandas/_libs/tslib.pyx:428\u001b[0m, in \u001b[0;36mpandas._libs.tslib.array_to_datetime\u001b[0;34m()\u001b[0m\n",
      "File \u001b[0;32m/Library/Frameworks/Python.framework/Versions/3.9/lib/python3.9/site-packages/pandas/_libs/tslib.pyx:679\u001b[0m, in \u001b[0;36mpandas._libs.tslib.array_to_datetime\u001b[0;34m()\u001b[0m\n",
      "File \u001b[0;32m/Library/Frameworks/Python.framework/Versions/3.9/lib/python3.9/site-packages/pandas/_libs/tslib.pyx:671\u001b[0m, in \u001b[0;36mpandas._libs.tslib.array_to_datetime\u001b[0;34m()\u001b[0m\n",
      "File \u001b[0;32m/Library/Frameworks/Python.framework/Versions/3.9/lib/python3.9/site-packages/pandas/_libs/tslib.pyx:650\u001b[0m, in \u001b[0;36mpandas._libs.tslib.array_to_datetime\u001b[0;34m()\u001b[0m\n",
      "File \u001b[0;32m/Library/Frameworks/Python.framework/Versions/3.9/lib/python3.9/site-packages/pandas/_libs/tslibs/np_datetime.pyx:212\u001b[0m, in \u001b[0;36mpandas._libs.tslibs.np_datetime.check_dts_bounds\u001b[0;34m()\u001b[0m\n",
      "\u001b[0;31mOutOfBoundsDatetime\u001b[0m: Out of bounds nanosecond timestamp: 1655-04-19 00:00:00 present at position 11578"
     ]
    }
   ],
   "source": [
    "# trying to convert the Date fields to a datetime format\n",
    "df[['orderDate', 'deliveryDate', 'dateOfBirth', 'creationDate']] = df[['orderDate', 'deliveryDate', 'dateOfBirth', 'creationDate']].apply(pd.to_datetime, format='%Y-%m-%d')"
   ]
  },
  {
   "cell_type": "code",
   "execution_count": 228,
   "metadata": {},
   "outputs": [
    {
     "name": "stdout",
     "output_type": "stream",
     "text": [
      "min timestamp: 1677-09-21 00:12:43.145224193, max timestamp: 2262-04-11 23:47:16.854775807\n"
     ]
    }
   ],
   "source": [
    "# it is throwing an out of bounds exception because the year 1655 is not in the boundary of 'pd.to_datetime()'\n",
    "min_ts = pd.Timestamp.min\n",
    "max_ts = pd.Timestamp.max\n",
    "print(f'min timestamp: {min_ts}, max timestamp: {max_ts}')"
   ]
  },
  {
   "cell_type": "code",
   "execution_count": 229,
   "metadata": {},
   "outputs": [
    {
     "data": {
      "text/html": [
       "<div>\n",
       "<style scoped>\n",
       "    .dataframe tbody tr th:only-of-type {\n",
       "        vertical-align: middle;\n",
       "    }\n",
       "\n",
       "    .dataframe tbody tr th {\n",
       "        vertical-align: top;\n",
       "    }\n",
       "\n",
       "    .dataframe thead th {\n",
       "        text-align: right;\n",
       "    }\n",
       "</style>\n",
       "<table border=\"1\" class=\"dataframe\">\n",
       "  <thead>\n",
       "    <tr style=\"text-align: right;\">\n",
       "      <th></th>\n",
       "      <th>orderItemID</th>\n",
       "      <th>orderDate</th>\n",
       "      <th>deliveryDate</th>\n",
       "      <th>itemID</th>\n",
       "      <th>size</th>\n",
       "      <th>color</th>\n",
       "      <th>manufacturerID</th>\n",
       "      <th>price</th>\n",
       "      <th>customerID</th>\n",
       "      <th>salutation</th>\n",
       "      <th>dateOfBirth</th>\n",
       "      <th>state</th>\n",
       "      <th>creationDate</th>\n",
       "      <th>returnShipment</th>\n",
       "    </tr>\n",
       "  </thead>\n",
       "  <tbody>\n",
       "    <tr>\n",
       "      <th>201497</th>\n",
       "      <td>201498</td>\n",
       "      <td>2012-09-12</td>\n",
       "      <td>2012-09-13</td>\n",
       "      <td>1662</td>\n",
       "      <td>l</td>\n",
       "      <td>brown</td>\n",
       "      <td>36</td>\n",
       "      <td>109.9</td>\n",
       "      <td>48469</td>\n",
       "      <td>Mrs</td>\n",
       "      <td>1655-04-19</td>\n",
       "      <td>Bavaria</td>\n",
       "      <td>2011-02-16</td>\n",
       "      <td>1</td>\n",
       "    </tr>\n",
       "    <tr>\n",
       "      <th>223802</th>\n",
       "      <td>223803</td>\n",
       "      <td>2012-09-22</td>\n",
       "      <td>2012-09-24</td>\n",
       "      <td>1662</td>\n",
       "      <td>m</td>\n",
       "      <td>brown</td>\n",
       "      <td>36</td>\n",
       "      <td>109.9</td>\n",
       "      <td>48469</td>\n",
       "      <td>Mrs</td>\n",
       "      <td>1655-04-19</td>\n",
       "      <td>Bavaria</td>\n",
       "      <td>2011-02-16</td>\n",
       "      <td>1</td>\n",
       "    </tr>\n",
       "    <tr>\n",
       "      <th>322553</th>\n",
       "      <td>322554</td>\n",
       "      <td>2013-01-08</td>\n",
       "      <td>2013-01-31</td>\n",
       "      <td>2429</td>\n",
       "      <td>M</td>\n",
       "      <td>black</td>\n",
       "      <td>11</td>\n",
       "      <td>89.9</td>\n",
       "      <td>48469</td>\n",
       "      <td>Mrs</td>\n",
       "      <td>1655-04-19</td>\n",
       "      <td>Bavaria</td>\n",
       "      <td>2011-02-16</td>\n",
       "      <td>0</td>\n",
       "    </tr>\n",
       "  </tbody>\n",
       "</table>\n",
       "</div>"
      ],
      "text/plain": [
       "        orderItemID   orderDate deliveryDate  itemID size  color  \\\n",
       "201497       201498  2012-09-12   2012-09-13    1662    l  brown   \n",
       "223802       223803  2012-09-22   2012-09-24    1662    m  brown   \n",
       "322553       322554  2013-01-08   2013-01-31    2429    M  black   \n",
       "\n",
       "        manufacturerID  price  customerID salutation dateOfBirth    state  \\\n",
       "201497              36  109.9       48469        Mrs  1655-04-19  Bavaria   \n",
       "223802              36  109.9       48469        Mrs  1655-04-19  Bavaria   \n",
       "322553              11   89.9       48469        Mrs  1655-04-19  Bavaria   \n",
       "\n",
       "       creationDate  returnShipment  \n",
       "201497   2011-02-16               1  \n",
       "223802   2011-02-16               1  \n",
       "322553   2011-02-16               0  "
      ]
     },
     "execution_count": 229,
     "metadata": {},
     "output_type": "execute_result"
    }
   ],
   "source": [
    "# there are a total of 3 rows which are affected by this\n",
    "# it is also always the same customer ('customerID' == 48469)\n",
    "df.query(\"dateOfBirth == '1655-04-19'\")"
   ]
  },
  {
   "cell_type": "code",
   "execution_count": 264,
   "metadata": {},
   "outputs": [],
   "source": [
    "# check if there are more unrealistic dates of birth\n",
    "df.sort_values('dateOfBirth').head(150).to_csv('output_files/date_of_birth_analysis.csv')"
   ]
  },
  {
   "cell_type": "code",
   "execution_count": 244,
   "metadata": {},
   "outputs": [
    {
     "data": {
      "text/plain": [
       "1918"
      ]
     },
     "execution_count": 244,
     "metadata": {},
     "output_type": "execute_result"
    }
   ],
   "source": [
    "age_gap = 2013 - 95\n",
    "age_gap"
   ]
  },
  {
   "cell_type": "code",
   "execution_count": 255,
   "metadata": {},
   "outputs": [
    {
     "data": {
      "text/plain": [
       "5231"
      ]
     },
     "execution_count": 255,
     "metadata": {},
     "output_type": "execute_result"
    }
   ],
   "source": [
    "# we assume that the max age of our customers are 95\n",
    "# therefore we are counting rows of purchases with a birthdate older than that\n",
    "len(df[(df['dateOfBirth']>='1655-01-01') & (df['dateOfBirth']<='1918-12-31')])"
   ]
  },
  {
   "cell_type": "code",
   "execution_count": 262,
   "metadata": {},
   "outputs": [],
   "source": [
    "# in order to explore the 5231 rows a little further we put them into a .csv file\n",
    "# and assigned them to a new dataframe\n",
    "invalid_age = df[(df['dateOfBirth']>='1655-01-01') & (df['dateOfBirth']<='1918-12-31')]\n",
    "invalid_age.to_csv('output_files/customer_analysis_with_invalid_date_of_birth.csv')"
   ]
  },
  {
   "cell_type": "code",
   "execution_count": 293,
   "metadata": {},
   "outputs": [
    {
     "data": {
      "text/plain": [
       "530"
      ]
     },
     "execution_count": 293,
     "metadata": {},
     "output_type": "execute_result"
    }
   ],
   "source": [
    "# now we want to check how many unique customers are affected\n",
    "invalid_age['customerID'].nunique()\n",
    "\n",
    "# display all unique customerIDs ascending\n",
    "#invalid_age.sort_values('customerID')['customerID'].unique()"
   ]
  },
  {
   "cell_type": "code",
   "execution_count": 300,
   "metadata": {},
   "outputs": [
    {
     "data": {
      "text/plain": [
       "1.087318018175318"
      ]
     },
     "execution_count": 300,
     "metadata": {},
     "output_type": "execute_result"
    }
   ],
   "source": [
    "# one percent of data is affected by a false birthdate\n",
    "perc_of_wrong_bdate = 5231 / 481092 * 100\n",
    "perc_of_wrong_bdate"
   ]
  },
  {
   "cell_type": "code",
   "execution_count": 303,
   "metadata": {},
   "outputs": [],
   "source": [
    "# check dateOfBirth is NaN\n",
    "#df.loc[df['dateOfBirth'].isnull()]"
   ]
  },
  {
   "cell_type": "code",
   "execution_count": 328,
   "metadata": {},
   "outputs": [
    {
     "data": {
      "text/plain": [
       "'2013-07-22'"
      ]
     },
     "execution_count": 328,
     "metadata": {},
     "output_type": "execute_result"
    }
   ],
   "source": [
    "# orderDate_max = 31.03.2013\n",
    "# deliverDate_max = 22.07.2013\n",
    "df['deliveryDate'].dropna().max()"
   ]
  },
  {
   "cell_type": "code",
   "execution_count": 329,
   "metadata": {},
   "outputs": [],
   "source": [
    "df[['orderDate', 'deliveryDate', 'dateOfBirth', 'creationDate']] = df[['orderDate', 'deliveryDate', 'dateOfBirth', 'creationDate']].apply(pd.to_datetime, format='%Y-%m-%d', errors = 'coerce')"
   ]
  },
  {
   "cell_type": "code",
   "execution_count": 330,
   "metadata": {},
   "outputs": [
    {
     "name": "stdout",
     "output_type": "stream",
     "text": [
      "<class 'pandas.core.frame.DataFrame'>\n",
      "RangeIndex: 481092 entries, 0 to 481091\n",
      "Data columns (total 14 columns):\n",
      " #   Column          Non-Null Count   Dtype         \n",
      "---  ------          --------------   -----         \n",
      " 0   orderItemID     481092 non-null  int64         \n",
      " 1   orderDate       481092 non-null  datetime64[ns]\n",
      " 2   deliveryDate    441673 non-null  datetime64[ns]\n",
      " 3   itemID          481092 non-null  int64         \n",
      " 4   size            481092 non-null  object        \n",
      " 5   color           480949 non-null  object        \n",
      " 6   manufacturerID  481092 non-null  int64         \n",
      " 7   price           481092 non-null  float64       \n",
      " 8   customerID      481092 non-null  int64         \n",
      " 9   salutation      481092 non-null  object        \n",
      " 10  dateOfBirth     432200 non-null  datetime64[ns]\n",
      " 11  state           481092 non-null  object        \n",
      " 12  creationDate    481092 non-null  datetime64[ns]\n",
      " 13  returnShipment  481092 non-null  int64         \n",
      "dtypes: datetime64[ns](4), float64(1), int64(5), object(4)\n",
      "memory usage: 51.4+ MB\n"
     ]
    }
   ],
   "source": [
    "df.info()"
   ]
  },
  {
   "cell_type": "code",
   "execution_count": null,
   "metadata": {},
   "outputs": [],
   "source": []
  }
 ],
 "metadata": {
  "kernelspec": {
   "display_name": "Python 3.9.6 64-bit",
   "language": "python",
   "name": "python3"
  },
  "language_info": {
   "codemirror_mode": {
    "name": "ipython",
    "version": 3
   },
   "file_extension": ".py",
   "mimetype": "text/x-python",
   "name": "python",
   "nbconvert_exporter": "python",
   "pygments_lexer": "ipython3",
   "version": "3.9.6"
  },
  "orig_nbformat": 4,
  "vscode": {
   "interpreter": {
    "hash": "b8bdd4e700647ba2b08c59e5df8b7da1dcf50a218bcd4c1bcd9b3dc92e8788e5"
   }
  }
 },
 "nbformat": 4,
 "nbformat_minor": 2
}
