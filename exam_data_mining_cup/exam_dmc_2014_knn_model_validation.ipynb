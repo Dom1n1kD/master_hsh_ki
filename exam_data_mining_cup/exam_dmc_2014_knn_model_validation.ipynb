{
 "cells": [
  {
   "cell_type": "markdown",
   "metadata": {},
   "source": [
    "# Vorleistung Modul KI @ HsH\n",
    "## Burk, Dau, Donner, Welsch, Wesemann\n",
    "### Algorithmen: SVM und KNN"
   ]
  },
  {
   "cell_type": "code",
   "execution_count": 1,
   "metadata": {},
   "outputs": [],
   "source": [
    "import pandas as pd\n",
    "import numpy as np\n",
    "from datetime import timedelta\n",
    "from datetime import datetime\n",
    "import matplotlib.pyplot as plt"
   ]
  },
  {
   "cell_type": "markdown",
   "metadata": {},
   "source": [
    "# EDA\n",
    "\n",
    "---"
   ]
  },
  {
   "cell_type": "code",
   "execution_count": 2,
   "metadata": {},
   "outputs": [
    {
     "data": {
      "text/plain": "   orderItemID   orderDate deliveryDate  itemID size  color  manufacturerID  \\\n0            1  2012-04-01   2012-04-03     186    m  denim              25   \n1            2  2012-04-01   2012-04-03      71   9+  ocher              21   \n2            3  2012-04-01   2012-04-03      71   9+  curry              21   \n3            4  2012-04-02            ?      22    m  green              14   \n4            5  2012-04-02   1990-12-31     151   39  black              53   \n\n   price  customerID salutation dateOfBirth                 state  \\\n0  69.90         794        Mrs  1965-01-06    Baden-Wuerttemberg   \n1  69.95         794        Mrs  1965-01-06    Baden-Wuerttemberg   \n2  69.95         794        Mrs  1965-01-06    Baden-Wuerttemberg   \n3  39.90         808        Mrs  1959-11-09                Saxony   \n4  29.90         825        Mrs  1964-07-11  Rhineland-Palatinate   \n\n  creationDate  returnShipment  \n0   2011-04-25               0  \n1   2011-04-25               1  \n2   2011-04-25               1  \n3   2012-01-04               0  \n4   2011-02-16               0  ",
      "text/html": "<div>\n<style scoped>\n    .dataframe tbody tr th:only-of-type {\n        vertical-align: middle;\n    }\n\n    .dataframe tbody tr th {\n        vertical-align: top;\n    }\n\n    .dataframe thead th {\n        text-align: right;\n    }\n</style>\n<table border=\"1\" class=\"dataframe\">\n  <thead>\n    <tr style=\"text-align: right;\">\n      <th></th>\n      <th>orderItemID</th>\n      <th>orderDate</th>\n      <th>deliveryDate</th>\n      <th>itemID</th>\n      <th>size</th>\n      <th>color</th>\n      <th>manufacturerID</th>\n      <th>price</th>\n      <th>customerID</th>\n      <th>salutation</th>\n      <th>dateOfBirth</th>\n      <th>state</th>\n      <th>creationDate</th>\n      <th>returnShipment</th>\n    </tr>\n  </thead>\n  <tbody>\n    <tr>\n      <th>0</th>\n      <td>1</td>\n      <td>2012-04-01</td>\n      <td>2012-04-03</td>\n      <td>186</td>\n      <td>m</td>\n      <td>denim</td>\n      <td>25</td>\n      <td>69.90</td>\n      <td>794</td>\n      <td>Mrs</td>\n      <td>1965-01-06</td>\n      <td>Baden-Wuerttemberg</td>\n      <td>2011-04-25</td>\n      <td>0</td>\n    </tr>\n    <tr>\n      <th>1</th>\n      <td>2</td>\n      <td>2012-04-01</td>\n      <td>2012-04-03</td>\n      <td>71</td>\n      <td>9+</td>\n      <td>ocher</td>\n      <td>21</td>\n      <td>69.95</td>\n      <td>794</td>\n      <td>Mrs</td>\n      <td>1965-01-06</td>\n      <td>Baden-Wuerttemberg</td>\n      <td>2011-04-25</td>\n      <td>1</td>\n    </tr>\n    <tr>\n      <th>2</th>\n      <td>3</td>\n      <td>2012-04-01</td>\n      <td>2012-04-03</td>\n      <td>71</td>\n      <td>9+</td>\n      <td>curry</td>\n      <td>21</td>\n      <td>69.95</td>\n      <td>794</td>\n      <td>Mrs</td>\n      <td>1965-01-06</td>\n      <td>Baden-Wuerttemberg</td>\n      <td>2011-04-25</td>\n      <td>1</td>\n    </tr>\n    <tr>\n      <th>3</th>\n      <td>4</td>\n      <td>2012-04-02</td>\n      <td>?</td>\n      <td>22</td>\n      <td>m</td>\n      <td>green</td>\n      <td>14</td>\n      <td>39.90</td>\n      <td>808</td>\n      <td>Mrs</td>\n      <td>1959-11-09</td>\n      <td>Saxony</td>\n      <td>2012-01-04</td>\n      <td>0</td>\n    </tr>\n    <tr>\n      <th>4</th>\n      <td>5</td>\n      <td>2012-04-02</td>\n      <td>1990-12-31</td>\n      <td>151</td>\n      <td>39</td>\n      <td>black</td>\n      <td>53</td>\n      <td>29.90</td>\n      <td>825</td>\n      <td>Mrs</td>\n      <td>1964-07-11</td>\n      <td>Rhineland-Palatinate</td>\n      <td>2011-02-16</td>\n      <td>0</td>\n    </tr>\n  </tbody>\n</table>\n</div>"
     },
     "execution_count": 2,
     "metadata": {},
     "output_type": "execute_result"
    }
   ],
   "source": [
    "# einlesen der zu bereinigenden Daten\n",
    "df = pd.read_csv('data/orders_train.txt', delimiter=';')\n",
    "\n",
    "# anzeigen der ersten 5 zeilen des datensatzes\n",
    "df.head()"
   ]
  },
  {
   "cell_type": "markdown",
   "metadata": {},
   "source": [
    "**kommentar:**\n",
    "wir sehen in zeile 4 (row_id = 3) einen fehlenden wert, also einen \"missing value\", welcher durch ein fragezeichen gekennzeichnet ist"
   ]
  },
  {
   "cell_type": "code",
   "execution_count": 3,
   "metadata": {},
   "outputs": [
    {
     "name": "stdout",
     "output_type": "stream",
     "text": [
      "<class 'pandas.core.frame.DataFrame'>\n",
      "RangeIndex: 481092 entries, 0 to 481091\n",
      "Data columns (total 14 columns):\n",
      " #   Column          Non-Null Count   Dtype  \n",
      "---  ------          --------------   -----  \n",
      " 0   orderItemID     481092 non-null  int64  \n",
      " 1   orderDate       481092 non-null  object \n",
      " 2   deliveryDate    481092 non-null  object \n",
      " 3   itemID          481092 non-null  int64  \n",
      " 4   size            481092 non-null  object \n",
      " 5   color           481092 non-null  object \n",
      " 6   manufacturerID  481092 non-null  int64  \n",
      " 7   price           481092 non-null  float64\n",
      " 8   customerID      481092 non-null  int64  \n",
      " 9   salutation      481092 non-null  object \n",
      " 10  dateOfBirth     481092 non-null  object \n",
      " 11  state           481092 non-null  object \n",
      " 12  creationDate    481092 non-null  object \n",
      " 13  returnShipment  481092 non-null  int64  \n",
      "dtypes: float64(1), int64(5), object(8)\n",
      "memory usage: 51.4+ MB\n"
     ]
    }
   ],
   "source": [
    "# um zu prüfen, ob die missing values richtig gezählt werden, können wir die funktion df.info nutzen\n",
    "df.info()"
   ]
  },
  {
   "cell_type": "markdown",
   "metadata": {},
   "source": [
    "**kommentar:**\n",
    "- uns fällt auf, dass zum einen alle spalten als \"vollständig\" markiert sind (non-null count = anzahl der gesamten zeilen) und zudem die datentypen für alle datumsspalten \"falsch\" sind.\n",
    "\n",
    "**to-do:**\n",
    "- anpassen der null-values\n",
    "- anpassen der datentypen für datumsfelder"
   ]
  },
  {
   "cell_type": "code",
   "execution_count": 4,
   "metadata": {},
   "outputs": [
    {
     "data": {
      "text/plain": "        orderItemID         itemID  manufacturerID          price  \\\ncount  481092.00000  481092.000000   481092.000000  481092.000000   \nmean   240546.50000    1399.764779       29.726109      70.440229   \nstd    138879.44219     931.075227       30.064934      45.502854   \nmin         1.00000       1.000000        1.000000       0.000000   \n25%    120273.75000     332.000000        5.000000      34.900000   \n50%    240546.50000    1569.000000       21.000000      59.900000   \n75%    360819.25000    2342.000000       43.000000      89.900000   \nmax    481092.00000    3071.000000      166.000000     999.000000   \n\n          customerID  returnShipment  \ncount  481092.000000   481092.000000  \nmean    33369.968376        0.482425  \nstd     23972.075259        0.499692  \nmin         6.000000        0.000000  \n25%     12891.000000        0.000000  \n50%     28426.000000        0.000000  \n75%     51141.000000        1.000000  \nmax     86611.000000        1.000000  ",
      "text/html": "<div>\n<style scoped>\n    .dataframe tbody tr th:only-of-type {\n        vertical-align: middle;\n    }\n\n    .dataframe tbody tr th {\n        vertical-align: top;\n    }\n\n    .dataframe thead th {\n        text-align: right;\n    }\n</style>\n<table border=\"1\" class=\"dataframe\">\n  <thead>\n    <tr style=\"text-align: right;\">\n      <th></th>\n      <th>orderItemID</th>\n      <th>itemID</th>\n      <th>manufacturerID</th>\n      <th>price</th>\n      <th>customerID</th>\n      <th>returnShipment</th>\n    </tr>\n  </thead>\n  <tbody>\n    <tr>\n      <th>count</th>\n      <td>481092.00000</td>\n      <td>481092.000000</td>\n      <td>481092.000000</td>\n      <td>481092.000000</td>\n      <td>481092.000000</td>\n      <td>481092.000000</td>\n    </tr>\n    <tr>\n      <th>mean</th>\n      <td>240546.50000</td>\n      <td>1399.764779</td>\n      <td>29.726109</td>\n      <td>70.440229</td>\n      <td>33369.968376</td>\n      <td>0.482425</td>\n    </tr>\n    <tr>\n      <th>std</th>\n      <td>138879.44219</td>\n      <td>931.075227</td>\n      <td>30.064934</td>\n      <td>45.502854</td>\n      <td>23972.075259</td>\n      <td>0.499692</td>\n    </tr>\n    <tr>\n      <th>min</th>\n      <td>1.00000</td>\n      <td>1.000000</td>\n      <td>1.000000</td>\n      <td>0.000000</td>\n      <td>6.000000</td>\n      <td>0.000000</td>\n    </tr>\n    <tr>\n      <th>25%</th>\n      <td>120273.75000</td>\n      <td>332.000000</td>\n      <td>5.000000</td>\n      <td>34.900000</td>\n      <td>12891.000000</td>\n      <td>0.000000</td>\n    </tr>\n    <tr>\n      <th>50%</th>\n      <td>240546.50000</td>\n      <td>1569.000000</td>\n      <td>21.000000</td>\n      <td>59.900000</td>\n      <td>28426.000000</td>\n      <td>0.000000</td>\n    </tr>\n    <tr>\n      <th>75%</th>\n      <td>360819.25000</td>\n      <td>2342.000000</td>\n      <td>43.000000</td>\n      <td>89.900000</td>\n      <td>51141.000000</td>\n      <td>1.000000</td>\n    </tr>\n    <tr>\n      <th>max</th>\n      <td>481092.00000</td>\n      <td>3071.000000</td>\n      <td>166.000000</td>\n      <td>999.000000</td>\n      <td>86611.000000</td>\n      <td>1.000000</td>\n    </tr>\n  </tbody>\n</table>\n</div>"
     },
     "execution_count": 4,
     "metadata": {},
     "output_type": "execute_result"
    }
   ],
   "source": [
    "# als weitere funktion, um den datensatz zu beschreiben (also uns \"mathematische größen\" anzeigen zu lassen), probieren wir df.describe() aus\n",
    "df.describe()"
   ]
  },
  {
   "cell_type": "markdown",
   "metadata": {},
   "source": [
    "**kommentar:**\n",
    "- die funktion df.describe() beschreibt nur für numerische spalten die anzahl, mittelwert, etc.\n",
    "- irreführend ist hierbei die spalte \"returnShipment\", da diese laut vorgabe des datensatzes ein boolean sein sollte und damit lediglich die ausprägungen (0/1) besitzen sollte, sehen wir auch einen mittelwert für diese spalte\n",
    "\n",
    "**to-do:**\n",
    "- auch die spalte returnShipment muss vom datentyp her angepasst werden"
   ]
  },
  {
   "cell_type": "code",
   "execution_count": 5,
   "metadata": {},
   "outputs": [],
   "source": [
    "# zählen der richtigen null-values:\n",
    "# damit wir verstehen, wie viele null-values tatsächlich in den daten vorhanden sind, \n",
    "# schreiben wir eine eigene funktion, die die missing values ('?') zählt.\n",
    "\n",
    "# achtung: df.info() zählt nur spezielle numpy NaN values, daher brauchen wir diese funktion\n",
    "\n",
    "def count_actual_missing_values(initial_dataframe):\n",
    "    qc_df = pd.DataFrame(columns=['field', 'missing_values'])\n",
    "\n",
    "    for column in initial_dataframe:\n",
    "        \n",
    "        # berechne die anzahl von missing values pro spalte (definiert als '?' oder numpy.NaN)\n",
    "        if (df[column]=='?').sum() is not None or df[column].isna().sum() is not None:\n",
    "            missing_values = (df[column]=='?').sum() + df[column].isna().sum()\n",
    "        else:\n",
    "            missing_values = float('NaN')\n",
    "\n",
    "        new_row = {'field': column, 'missing_values': missing_values}\n",
    "        qc_df.loc[len(qc_df)] = new_row\n",
    "        \n",
    "    return qc_df"
   ]
  },
  {
   "cell_type": "code",
   "execution_count": 6,
   "metadata": {},
   "outputs": [
    {
     "data": {
      "text/plain": "             field missing_values\n0      orderItemID              0\n1        orderDate              0\n2     deliveryDate          39419\n3           itemID              0\n4             size              0\n5            color            143\n6   manufacturerID              0\n7            price              0\n8       customerID              0\n9       salutation              0\n10     dateOfBirth          48889\n11           state              0\n12    creationDate              0\n13  returnShipment              0",
      "text/html": "<div>\n<style scoped>\n    .dataframe tbody tr th:only-of-type {\n        vertical-align: middle;\n    }\n\n    .dataframe tbody tr th {\n        vertical-align: top;\n    }\n\n    .dataframe thead th {\n        text-align: right;\n    }\n</style>\n<table border=\"1\" class=\"dataframe\">\n  <thead>\n    <tr style=\"text-align: right;\">\n      <th></th>\n      <th>field</th>\n      <th>missing_values</th>\n    </tr>\n  </thead>\n  <tbody>\n    <tr>\n      <th>0</th>\n      <td>orderItemID</td>\n      <td>0</td>\n    </tr>\n    <tr>\n      <th>1</th>\n      <td>orderDate</td>\n      <td>0</td>\n    </tr>\n    <tr>\n      <th>2</th>\n      <td>deliveryDate</td>\n      <td>39419</td>\n    </tr>\n    <tr>\n      <th>3</th>\n      <td>itemID</td>\n      <td>0</td>\n    </tr>\n    <tr>\n      <th>4</th>\n      <td>size</td>\n      <td>0</td>\n    </tr>\n    <tr>\n      <th>5</th>\n      <td>color</td>\n      <td>143</td>\n    </tr>\n    <tr>\n      <th>6</th>\n      <td>manufacturerID</td>\n      <td>0</td>\n    </tr>\n    <tr>\n      <th>7</th>\n      <td>price</td>\n      <td>0</td>\n    </tr>\n    <tr>\n      <th>8</th>\n      <td>customerID</td>\n      <td>0</td>\n    </tr>\n    <tr>\n      <th>9</th>\n      <td>salutation</td>\n      <td>0</td>\n    </tr>\n    <tr>\n      <th>10</th>\n      <td>dateOfBirth</td>\n      <td>48889</td>\n    </tr>\n    <tr>\n      <th>11</th>\n      <td>state</td>\n      <td>0</td>\n    </tr>\n    <tr>\n      <th>12</th>\n      <td>creationDate</td>\n      <td>0</td>\n    </tr>\n    <tr>\n      <th>13</th>\n      <td>returnShipment</td>\n      <td>0</td>\n    </tr>\n  </tbody>\n</table>\n</div>"
     },
     "execution_count": 6,
     "metadata": {},
     "output_type": "execute_result"
    }
   ],
   "source": [
    "check_mv_df = count_actual_missing_values(df)\n",
    "check_mv_df"
   ]
  },
  {
   "cell_type": "markdown",
   "metadata": {},
   "source": [
    "**kommentar:**\n",
    "- wir sehen, dass in den spalten 'deliveryDate', 'color' und 'dateOfBirth' missing values vorhanden sind\n",
    "- schauen wir uns das zusatzmaterial (DMC 2014_documents/features.pdf) an, so sehen wir, dass sich die spalten mit fehlenden werten decken\n",
    "\n",
    "**to-do:**\n",
    "- wir wissen, dass die NaN werte nicht als numpy.NaN definiert sind, sondern als '?', dies wollen wir ändern"
   ]
  },
  {
   "cell_type": "code",
   "execution_count": 7,
   "metadata": {},
   "outputs": [],
   "source": [
    "# mit der funktion replace() kann man werte in einem datensatz ersetzen\n",
    "# in unserem fall ersetzen wir das '?' mit einem np.NaN value\n",
    "df.replace('?', np.nan, inplace=True)"
   ]
  },
  {
   "cell_type": "code",
   "execution_count": 8,
   "metadata": {},
   "outputs": [
    {
     "name": "stdout",
     "output_type": "stream",
     "text": [
      "<class 'pandas.core.frame.DataFrame'>\n",
      "RangeIndex: 481092 entries, 0 to 481091\n",
      "Data columns (total 14 columns):\n",
      " #   Column          Non-Null Count   Dtype  \n",
      "---  ------          --------------   -----  \n",
      " 0   orderItemID     481092 non-null  int64  \n",
      " 1   orderDate       481092 non-null  object \n",
      " 2   deliveryDate    441673 non-null  object \n",
      " 3   itemID          481092 non-null  int64  \n",
      " 4   size            481092 non-null  object \n",
      " 5   color           480949 non-null  object \n",
      " 6   manufacturerID  481092 non-null  int64  \n",
      " 7   price           481092 non-null  float64\n",
      " 8   customerID      481092 non-null  int64  \n",
      " 9   salutation      481092 non-null  object \n",
      " 10  dateOfBirth     432203 non-null  object \n",
      " 11  state           481092 non-null  object \n",
      " 12  creationDate    481092 non-null  object \n",
      " 13  returnShipment  481092 non-null  int64  \n",
      "dtypes: float64(1), int64(5), object(8)\n",
      "memory usage: 51.4+ MB\n"
     ]
    }
   ],
   "source": [
    "# nachdem wir das '?' ersetzt haben, gucken wir, ob die funktion info() jetzt das gewünsche ergebnis liefert\n",
    "df.info()"
   ]
  },
  {
   "cell_type": "markdown",
   "metadata": {},
   "source": [
    "**kommentar:**\n",
    "- wir sehen, dass unser \"suchen und ersetzen\" funktioniert hat und wir nun die \"richtigen\" missing-values aufgelistet bekommen"
   ]
  },
  {
   "cell_type": "code",
   "execution_count": 9,
   "metadata": {},
   "outputs": [
    {
     "data": {
      "text/plain": "   orderItemID   orderDate deliveryDate  itemID size  color  manufacturerID  \\\n0            1  2012-04-01   2012-04-03     186    m  denim              25   \n1            2  2012-04-01   2012-04-03      71   9+  ocher              21   \n2            3  2012-04-01   2012-04-03      71   9+  curry              21   \n3            4  2012-04-02          NaN      22    m  green              14   \n4            5  2012-04-02   1990-12-31     151   39  black              53   \n\n   price  customerID salutation dateOfBirth                 state  \\\n0  69.90         794        Mrs  1965-01-06    Baden-Wuerttemberg   \n1  69.95         794        Mrs  1965-01-06    Baden-Wuerttemberg   \n2  69.95         794        Mrs  1965-01-06    Baden-Wuerttemberg   \n3  39.90         808        Mrs  1959-11-09                Saxony   \n4  29.90         825        Mrs  1964-07-11  Rhineland-Palatinate   \n\n  creationDate  returnShipment  \n0   2011-04-25               0  \n1   2011-04-25               1  \n2   2011-04-25               1  \n3   2012-01-04               0  \n4   2011-02-16               0  ",
      "text/html": "<div>\n<style scoped>\n    .dataframe tbody tr th:only-of-type {\n        vertical-align: middle;\n    }\n\n    .dataframe tbody tr th {\n        vertical-align: top;\n    }\n\n    .dataframe thead th {\n        text-align: right;\n    }\n</style>\n<table border=\"1\" class=\"dataframe\">\n  <thead>\n    <tr style=\"text-align: right;\">\n      <th></th>\n      <th>orderItemID</th>\n      <th>orderDate</th>\n      <th>deliveryDate</th>\n      <th>itemID</th>\n      <th>size</th>\n      <th>color</th>\n      <th>manufacturerID</th>\n      <th>price</th>\n      <th>customerID</th>\n      <th>salutation</th>\n      <th>dateOfBirth</th>\n      <th>state</th>\n      <th>creationDate</th>\n      <th>returnShipment</th>\n    </tr>\n  </thead>\n  <tbody>\n    <tr>\n      <th>0</th>\n      <td>1</td>\n      <td>2012-04-01</td>\n      <td>2012-04-03</td>\n      <td>186</td>\n      <td>m</td>\n      <td>denim</td>\n      <td>25</td>\n      <td>69.90</td>\n      <td>794</td>\n      <td>Mrs</td>\n      <td>1965-01-06</td>\n      <td>Baden-Wuerttemberg</td>\n      <td>2011-04-25</td>\n      <td>0</td>\n    </tr>\n    <tr>\n      <th>1</th>\n      <td>2</td>\n      <td>2012-04-01</td>\n      <td>2012-04-03</td>\n      <td>71</td>\n      <td>9+</td>\n      <td>ocher</td>\n      <td>21</td>\n      <td>69.95</td>\n      <td>794</td>\n      <td>Mrs</td>\n      <td>1965-01-06</td>\n      <td>Baden-Wuerttemberg</td>\n      <td>2011-04-25</td>\n      <td>1</td>\n    </tr>\n    <tr>\n      <th>2</th>\n      <td>3</td>\n      <td>2012-04-01</td>\n      <td>2012-04-03</td>\n      <td>71</td>\n      <td>9+</td>\n      <td>curry</td>\n      <td>21</td>\n      <td>69.95</td>\n      <td>794</td>\n      <td>Mrs</td>\n      <td>1965-01-06</td>\n      <td>Baden-Wuerttemberg</td>\n      <td>2011-04-25</td>\n      <td>1</td>\n    </tr>\n    <tr>\n      <th>3</th>\n      <td>4</td>\n      <td>2012-04-02</td>\n      <td>NaN</td>\n      <td>22</td>\n      <td>m</td>\n      <td>green</td>\n      <td>14</td>\n      <td>39.90</td>\n      <td>808</td>\n      <td>Mrs</td>\n      <td>1959-11-09</td>\n      <td>Saxony</td>\n      <td>2012-01-04</td>\n      <td>0</td>\n    </tr>\n    <tr>\n      <th>4</th>\n      <td>5</td>\n      <td>2012-04-02</td>\n      <td>1990-12-31</td>\n      <td>151</td>\n      <td>39</td>\n      <td>black</td>\n      <td>53</td>\n      <td>29.90</td>\n      <td>825</td>\n      <td>Mrs</td>\n      <td>1964-07-11</td>\n      <td>Rhineland-Palatinate</td>\n      <td>2011-02-16</td>\n      <td>0</td>\n    </tr>\n  </tbody>\n</table>\n</div>"
     },
     "execution_count": 9,
     "metadata": {},
     "output_type": "execute_result"
    }
   ],
   "source": [
    "# der datensatz hat sich jetzt entsprechen verändert - in zeile 4 (index=3) sehen wir den NaN value\n",
    "df.head()"
   ]
  },
  {
   "cell_type": "markdown",
   "metadata": {},
   "source": [
    "**erledigtes to-do:**\n",
    "- missing values werden richtig gezählt"
   ]
  },
  {
   "cell_type": "markdown",
   "metadata": {},
   "source": [
    "# Datumsfelder"
   ]
  },
  {
   "cell_type": "code",
   "execution_count": 10,
   "metadata": {},
   "outputs": [
    {
     "data": {
      "text/plain": "\"\\n# wir versuchen die datumsfelder mittels der pandas function to_datetime() zu konvertieren\\n# hierfür benötigen wir die .apply() function um die typkonvertierung anzuwenden\\n\\ndf[['orderDate', 'deliveryDate', 'dateOfBirth', 'creationDate']] = df[['orderDate', 'deliveryDate', 'dateOfBirth', 'creationDate']].apply(pd.to_datetime, format='%Y-%m-%d')\\n\""
     },
     "execution_count": 10,
     "metadata": {},
     "output_type": "execute_result"
    }
   ],
   "source": [
    "# an dieser stelle erhalten wir einen out of bounds fehler für den datentyp datetime:\n",
    "\n",
    "\"\"\"\n",
    "# wir versuchen die datumsfelder mittels der pandas function to_datetime() zu konvertieren\n",
    "# hierfür benötigen wir die .apply() function um die typkonvertierung anzuwenden\n",
    "\n",
    "df[['orderDate', 'deliveryDate', 'dateOfBirth', 'creationDate']] = \\\n",
    "df[['orderDate', 'deliveryDate', 'dateOfBirth', 'creationDate']].apply(pd.to_datetime, format='%Y-%m-%d')\n",
    "\"\"\""
   ]
  },
  {
   "cell_type": "markdown",
   "metadata": {},
   "source": [
    "**kommentar:**\n",
    "- als fehlermeldung erhalten wir eine OutOfBounds-Exception mit dem hinweis darauf, dass der timestamp '1655-04-19' nicht in der datetime range liegt\n",
    "- das angegebene datum ist fachlich anzuzweifeln, da es vermutlich keine order, delivery, creation oder geburtsdatum gibt, welches im jahr 1655 liegt"
   ]
  },
  {
   "cell_type": "code",
   "execution_count": 11,
   "metadata": {},
   "outputs": [
    {
     "name": "stdout",
     "output_type": "stream",
     "text": [
      "min timestamp: 1677-09-21 00:12:43.145224193, max timestamp: 2262-04-11 23:47:16.854775807\n"
     ]
    }
   ],
   "source": [
    "# wir wollen uns zunächst anschauen, welchen datumsbereich der pandas timestamp abdecken kann\n",
    "# hierfür verwenden wir die interne function .min und .max\n",
    "min_ts = pd.Timestamp.min\n",
    "max_ts = pd.Timestamp.max\n",
    "print(f'min timestamp: {min_ts}, max timestamp: {max_ts}')"
   ]
  },
  {
   "cell_type": "markdown",
   "metadata": {},
   "source": [
    "**kommentar:**\n",
    "- wir sehen, dass das jahr 1655 außerhalb der kleinsten ausprägung von timestamp (1677) liegt\n",
    "\n",
    "**to-do:**\n",
    "- betrachten der betroffenen datensätze"
   ]
  },
  {
   "cell_type": "code",
   "execution_count": 12,
   "metadata": {},
   "outputs": [
    {
     "data": {
      "text/plain": "        orderItemID   orderDate deliveryDate  itemID size  color  \\\n201497       201498  2012-09-12   2012-09-13    1662    l  brown   \n223802       223803  2012-09-22   2012-09-24    1662    m  brown   \n322553       322554  2013-01-08   2013-01-31    2429    M  black   \n\n        manufacturerID  price  customerID salutation dateOfBirth    state  \\\n201497              36  109.9       48469        Mrs  1655-04-19  Bavaria   \n223802              36  109.9       48469        Mrs  1655-04-19  Bavaria   \n322553              11   89.9       48469        Mrs  1655-04-19  Bavaria   \n\n       creationDate  returnShipment  \n201497   2011-02-16               1  \n223802   2011-02-16               1  \n322553   2011-02-16               0  ",
      "text/html": "<div>\n<style scoped>\n    .dataframe tbody tr th:only-of-type {\n        vertical-align: middle;\n    }\n\n    .dataframe tbody tr th {\n        vertical-align: top;\n    }\n\n    .dataframe thead th {\n        text-align: right;\n    }\n</style>\n<table border=\"1\" class=\"dataframe\">\n  <thead>\n    <tr style=\"text-align: right;\">\n      <th></th>\n      <th>orderItemID</th>\n      <th>orderDate</th>\n      <th>deliveryDate</th>\n      <th>itemID</th>\n      <th>size</th>\n      <th>color</th>\n      <th>manufacturerID</th>\n      <th>price</th>\n      <th>customerID</th>\n      <th>salutation</th>\n      <th>dateOfBirth</th>\n      <th>state</th>\n      <th>creationDate</th>\n      <th>returnShipment</th>\n    </tr>\n  </thead>\n  <tbody>\n    <tr>\n      <th>201497</th>\n      <td>201498</td>\n      <td>2012-09-12</td>\n      <td>2012-09-13</td>\n      <td>1662</td>\n      <td>l</td>\n      <td>brown</td>\n      <td>36</td>\n      <td>109.9</td>\n      <td>48469</td>\n      <td>Mrs</td>\n      <td>1655-04-19</td>\n      <td>Bavaria</td>\n      <td>2011-02-16</td>\n      <td>1</td>\n    </tr>\n    <tr>\n      <th>223802</th>\n      <td>223803</td>\n      <td>2012-09-22</td>\n      <td>2012-09-24</td>\n      <td>1662</td>\n      <td>m</td>\n      <td>brown</td>\n      <td>36</td>\n      <td>109.9</td>\n      <td>48469</td>\n      <td>Mrs</td>\n      <td>1655-04-19</td>\n      <td>Bavaria</td>\n      <td>2011-02-16</td>\n      <td>1</td>\n    </tr>\n    <tr>\n      <th>322553</th>\n      <td>322554</td>\n      <td>2013-01-08</td>\n      <td>2013-01-31</td>\n      <td>2429</td>\n      <td>M</td>\n      <td>black</td>\n      <td>11</td>\n      <td>89.9</td>\n      <td>48469</td>\n      <td>Mrs</td>\n      <td>1655-04-19</td>\n      <td>Bavaria</td>\n      <td>2011-02-16</td>\n      <td>0</td>\n    </tr>\n  </tbody>\n</table>\n</div>"
     },
     "execution_count": 12,
     "metadata": {},
     "output_type": "execute_result"
    }
   ],
   "source": [
    "# mit einer regular expression (mit welcher man strings maskieren kann) und der funktion df.query() können wir alle datensätze abfragen,\n",
    "# die ein dateOfBirth aus dem Jahr 1600 haben\n",
    "df.query(\"dateOfBirth.str.contains('16\\d\\d-\\d\\d-\\d\\d', na=False, regex=True)\")"
   ]
  },
  {
   "cell_type": "code",
   "execution_count": 13,
   "metadata": {},
   "outputs": [
    {
     "data": {
      "text/plain": "Empty DataFrame\nColumns: [orderItemID, orderDate, deliveryDate, itemID, size, color, manufacturerID, price, customerID, salutation, dateOfBirth, state, creationDate, returnShipment]\nIndex: []",
      "text/html": "<div>\n<style scoped>\n    .dataframe tbody tr th:only-of-type {\n        vertical-align: middle;\n    }\n\n    .dataframe tbody tr th {\n        vertical-align: top;\n    }\n\n    .dataframe thead th {\n        text-align: right;\n    }\n</style>\n<table border=\"1\" class=\"dataframe\">\n  <thead>\n    <tr style=\"text-align: right;\">\n      <th></th>\n      <th>orderItemID</th>\n      <th>orderDate</th>\n      <th>deliveryDate</th>\n      <th>itemID</th>\n      <th>size</th>\n      <th>color</th>\n      <th>manufacturerID</th>\n      <th>price</th>\n      <th>customerID</th>\n      <th>salutation</th>\n      <th>dateOfBirth</th>\n      <th>state</th>\n      <th>creationDate</th>\n      <th>returnShipment</th>\n    </tr>\n  </thead>\n  <tbody>\n  </tbody>\n</table>\n</div>"
     },
     "execution_count": 13,
     "metadata": {},
     "output_type": "execute_result"
    }
   ],
   "source": [
    "# mit einer regular expression (mit welcher man strings maskieren kann) und der funktion df.query() können wir alle datensätze abfragen,\n",
    "# die ein dateOfBirth aus dem Jahr 1700 haben\n",
    "df.query(\"dateOfBirth.str.contains('17\\d\\d-\\d\\d-\\d\\d', na=False, regex=True)\")"
   ]
  },
  {
   "cell_type": "code",
   "execution_count": 14,
   "metadata": {},
   "outputs": [
    {
     "data": {
      "text/plain": "Empty DataFrame\nColumns: [orderItemID, orderDate, deliveryDate, itemID, size, color, manufacturerID, price, customerID, salutation, dateOfBirth, state, creationDate, returnShipment]\nIndex: []",
      "text/html": "<div>\n<style scoped>\n    .dataframe tbody tr th:only-of-type {\n        vertical-align: middle;\n    }\n\n    .dataframe tbody tr th {\n        vertical-align: top;\n    }\n\n    .dataframe thead th {\n        text-align: right;\n    }\n</style>\n<table border=\"1\" class=\"dataframe\">\n  <thead>\n    <tr style=\"text-align: right;\">\n      <th></th>\n      <th>orderItemID</th>\n      <th>orderDate</th>\n      <th>deliveryDate</th>\n      <th>itemID</th>\n      <th>size</th>\n      <th>color</th>\n      <th>manufacturerID</th>\n      <th>price</th>\n      <th>customerID</th>\n      <th>salutation</th>\n      <th>dateOfBirth</th>\n      <th>state</th>\n      <th>creationDate</th>\n      <th>returnShipment</th>\n    </tr>\n  </thead>\n  <tbody>\n  </tbody>\n</table>\n</div>"
     },
     "execution_count": 14,
     "metadata": {},
     "output_type": "execute_result"
    }
   ],
   "source": [
    "# mit einer regular expression (mit welcher man strings maskieren kann) und der funktion df.query() können wir alle datensätze abfragen,\n",
    "# die ein dateOfBirth aus dem Jahr 1800 haben\n",
    "df.query(\"dateOfBirth.str.contains('18\\d\\d-\\d\\d-\\d\\d', na=False, regex=True)\")"
   ]
  },
  {
   "cell_type": "code",
   "execution_count": 15,
   "metadata": {},
   "outputs": [
    {
     "data": {
      "text/plain": "        orderItemID   orderDate deliveryDate  itemID size  color  \\\n0                 1  2012-04-01   2012-04-03     186    m  denim   \n1                 2  2012-04-01   2012-04-03      71   9+  ocher   \n2                 3  2012-04-01   2012-04-03      71   9+  curry   \n3                 4  2012-04-02          NaN      22    m  green   \n4                 5  2012-04-02   1990-12-31     151   39  black   \n...             ...         ...          ...     ...  ...    ...   \n481086       481087  2013-03-31   2013-04-09    2561   39   blue   \n481087       481088  2013-03-31   2013-04-09    2561  39+   blue   \n481089       481090  2013-03-31   1990-12-31    2458  XXL  black   \n481090       481091  2013-03-31   1990-12-31    2659  XXL  black   \n481091       481092  2013-03-31   1990-12-31    2375  XXL    red   \n\n        manufacturerID   price  customerID salutation dateOfBirth  \\\n0                   25   69.90         794        Mrs  1965-01-06   \n1                   21   69.95         794        Mrs  1965-01-06   \n2                   21   69.95         794        Mrs  1965-01-06   \n3                   14   39.90         808        Mrs  1959-11-09   \n4                   53   29.90         825        Mrs  1964-07-11   \n...                ...     ...         ...        ...         ...   \n481086               1  139.90        7032         Mr  1962-12-17   \n481087               1  139.90        7032         Mr  1962-12-17   \n481089               5   99.90       86611         Mr  1973-05-16   \n481090              49   99.90       86611         Mr  1973-05-16   \n481091              49  119.90       86611         Mr  1973-05-16   \n\n                       state creationDate  returnShipment  \n0         Baden-Wuerttemberg   2011-04-25               0  \n1         Baden-Wuerttemberg   2011-04-25               1  \n2         Baden-Wuerttemberg   2011-04-25               1  \n3                     Saxony   2012-01-04               0  \n4       Rhineland-Palatinate   2011-02-16               0  \n...                      ...          ...             ...  \n481086          Lower Saxony   2011-03-12               1  \n481087          Lower Saxony   2011-03-12               1  \n481089                Berlin   2013-03-31               0  \n481090                Berlin   2013-03-31               0  \n481091                Berlin   2013-03-31               0  \n\n[431953 rows x 14 columns]",
      "text/html": "<div>\n<style scoped>\n    .dataframe tbody tr th:only-of-type {\n        vertical-align: middle;\n    }\n\n    .dataframe tbody tr th {\n        vertical-align: top;\n    }\n\n    .dataframe thead th {\n        text-align: right;\n    }\n</style>\n<table border=\"1\" class=\"dataframe\">\n  <thead>\n    <tr style=\"text-align: right;\">\n      <th></th>\n      <th>orderItemID</th>\n      <th>orderDate</th>\n      <th>deliveryDate</th>\n      <th>itemID</th>\n      <th>size</th>\n      <th>color</th>\n      <th>manufacturerID</th>\n      <th>price</th>\n      <th>customerID</th>\n      <th>salutation</th>\n      <th>dateOfBirth</th>\n      <th>state</th>\n      <th>creationDate</th>\n      <th>returnShipment</th>\n    </tr>\n  </thead>\n  <tbody>\n    <tr>\n      <th>0</th>\n      <td>1</td>\n      <td>2012-04-01</td>\n      <td>2012-04-03</td>\n      <td>186</td>\n      <td>m</td>\n      <td>denim</td>\n      <td>25</td>\n      <td>69.90</td>\n      <td>794</td>\n      <td>Mrs</td>\n      <td>1965-01-06</td>\n      <td>Baden-Wuerttemberg</td>\n      <td>2011-04-25</td>\n      <td>0</td>\n    </tr>\n    <tr>\n      <th>1</th>\n      <td>2</td>\n      <td>2012-04-01</td>\n      <td>2012-04-03</td>\n      <td>71</td>\n      <td>9+</td>\n      <td>ocher</td>\n      <td>21</td>\n      <td>69.95</td>\n      <td>794</td>\n      <td>Mrs</td>\n      <td>1965-01-06</td>\n      <td>Baden-Wuerttemberg</td>\n      <td>2011-04-25</td>\n      <td>1</td>\n    </tr>\n    <tr>\n      <th>2</th>\n      <td>3</td>\n      <td>2012-04-01</td>\n      <td>2012-04-03</td>\n      <td>71</td>\n      <td>9+</td>\n      <td>curry</td>\n      <td>21</td>\n      <td>69.95</td>\n      <td>794</td>\n      <td>Mrs</td>\n      <td>1965-01-06</td>\n      <td>Baden-Wuerttemberg</td>\n      <td>2011-04-25</td>\n      <td>1</td>\n    </tr>\n    <tr>\n      <th>3</th>\n      <td>4</td>\n      <td>2012-04-02</td>\n      <td>NaN</td>\n      <td>22</td>\n      <td>m</td>\n      <td>green</td>\n      <td>14</td>\n      <td>39.90</td>\n      <td>808</td>\n      <td>Mrs</td>\n      <td>1959-11-09</td>\n      <td>Saxony</td>\n      <td>2012-01-04</td>\n      <td>0</td>\n    </tr>\n    <tr>\n      <th>4</th>\n      <td>5</td>\n      <td>2012-04-02</td>\n      <td>1990-12-31</td>\n      <td>151</td>\n      <td>39</td>\n      <td>black</td>\n      <td>53</td>\n      <td>29.90</td>\n      <td>825</td>\n      <td>Mrs</td>\n      <td>1964-07-11</td>\n      <td>Rhineland-Palatinate</td>\n      <td>2011-02-16</td>\n      <td>0</td>\n    </tr>\n    <tr>\n      <th>...</th>\n      <td>...</td>\n      <td>...</td>\n      <td>...</td>\n      <td>...</td>\n      <td>...</td>\n      <td>...</td>\n      <td>...</td>\n      <td>...</td>\n      <td>...</td>\n      <td>...</td>\n      <td>...</td>\n      <td>...</td>\n      <td>...</td>\n      <td>...</td>\n    </tr>\n    <tr>\n      <th>481086</th>\n      <td>481087</td>\n      <td>2013-03-31</td>\n      <td>2013-04-09</td>\n      <td>2561</td>\n      <td>39</td>\n      <td>blue</td>\n      <td>1</td>\n      <td>139.90</td>\n      <td>7032</td>\n      <td>Mr</td>\n      <td>1962-12-17</td>\n      <td>Lower Saxony</td>\n      <td>2011-03-12</td>\n      <td>1</td>\n    </tr>\n    <tr>\n      <th>481087</th>\n      <td>481088</td>\n      <td>2013-03-31</td>\n      <td>2013-04-09</td>\n      <td>2561</td>\n      <td>39+</td>\n      <td>blue</td>\n      <td>1</td>\n      <td>139.90</td>\n      <td>7032</td>\n      <td>Mr</td>\n      <td>1962-12-17</td>\n      <td>Lower Saxony</td>\n      <td>2011-03-12</td>\n      <td>1</td>\n    </tr>\n    <tr>\n      <th>481089</th>\n      <td>481090</td>\n      <td>2013-03-31</td>\n      <td>1990-12-31</td>\n      <td>2458</td>\n      <td>XXL</td>\n      <td>black</td>\n      <td>5</td>\n      <td>99.90</td>\n      <td>86611</td>\n      <td>Mr</td>\n      <td>1973-05-16</td>\n      <td>Berlin</td>\n      <td>2013-03-31</td>\n      <td>0</td>\n    </tr>\n    <tr>\n      <th>481090</th>\n      <td>481091</td>\n      <td>2013-03-31</td>\n      <td>1990-12-31</td>\n      <td>2659</td>\n      <td>XXL</td>\n      <td>black</td>\n      <td>49</td>\n      <td>99.90</td>\n      <td>86611</td>\n      <td>Mr</td>\n      <td>1973-05-16</td>\n      <td>Berlin</td>\n      <td>2013-03-31</td>\n      <td>0</td>\n    </tr>\n    <tr>\n      <th>481091</th>\n      <td>481092</td>\n      <td>2013-03-31</td>\n      <td>1990-12-31</td>\n      <td>2375</td>\n      <td>XXL</td>\n      <td>red</td>\n      <td>49</td>\n      <td>119.90</td>\n      <td>86611</td>\n      <td>Mr</td>\n      <td>1973-05-16</td>\n      <td>Berlin</td>\n      <td>2013-03-31</td>\n      <td>0</td>\n    </tr>\n  </tbody>\n</table>\n<p>431953 rows × 14 columns</p>\n</div>"
     },
     "execution_count": 15,
     "metadata": {},
     "output_type": "execute_result"
    }
   ],
   "source": [
    "# mit einer regular expression (mit welcher man strings maskieren kann) und der funktion df.query() können wir alle datensätze abfragen,\n",
    "# die ein dateOfBirth aus dem Jahr 1900 haben\n",
    "df.query(\"dateOfBirth.str.contains('19\\d\\d-\\d\\d-\\d\\d', na=False, regex=True)\")"
   ]
  },
  {
   "cell_type": "code",
   "execution_count": 16,
   "metadata": {},
   "outputs": [
    {
     "data": {
      "text/plain": "        orderItemID   orderDate deliveryDate  itemID     size       color  \\\n6495           6496  2012-04-06   2012-04-09     199       39       white   \n6496           6497  2012-04-06   2012-06-19      62  unsized       green   \n6497           6498  2012-04-06   2012-06-19     158       38       green   \n20584         20585  2012-04-15   2012-04-19      96      xxl        blau   \n20585         20586  2012-04-15   2012-04-19      96      xxl       green   \n...             ...         ...          ...     ...      ...         ...   \n440654       440655  2013-03-10   2013-03-12    2382        M  terracotta   \n464390       464391  2013-03-22          NaN    2869       43       black   \n464391       464392  2013-03-22          NaN    2552       4+        blue   \n465941       465942  2013-03-23   2013-04-01    2552       5+        blue   \n465942       465943  2013-03-23   2013-04-01    2869       43       black   \n\n        manufacturerID   price  customerID salutation dateOfBirth  \\\n6495                 4   69.95        3941        Mrs  2010-08-03   \n6496                 5   14.90        3941        Mrs  2010-08-03   \n6497                54   59.90        3941        Mrs  2010-08-03   \n20584                3   16.90        9222        Mrs  2011-04-11   \n20585                3   16.90        9222        Mrs  2011-04-11   \n...                ...     ...         ...        ...         ...   \n440654               3   49.90       49402        Mrs  2011-10-18   \n464390               1  149.90       84668        Mrs  2012-11-18   \n464391              19   89.90       84668        Mrs  2012-11-18   \n465941              19   89.90       84668        Mrs  2012-11-18   \n465942               1  149.90       84668        Mrs  2012-11-18   \n\n                     state creationDate  returnShipment  \n6495          Lower Saxony   2011-02-16               0  \n6496          Lower Saxony   2011-02-16               0  \n6497          Lower Saxony   2011-02-16               1  \n20584              Bavaria   2011-05-23               0  \n20585              Bavaria   2011-05-23               0  \n...                    ...          ...             ...  \n440654        Lower Saxony   2013-03-10               1  \n464390  Baden-Wuerttemberg   2013-03-22               0  \n464391  Baden-Wuerttemberg   2013-03-22               0  \n465941  Baden-Wuerttemberg   2013-03-22               1  \n465942  Baden-Wuerttemberg   2013-03-22               1  \n\n[247 rows x 14 columns]",
      "text/html": "<div>\n<style scoped>\n    .dataframe tbody tr th:only-of-type {\n        vertical-align: middle;\n    }\n\n    .dataframe tbody tr th {\n        vertical-align: top;\n    }\n\n    .dataframe thead th {\n        text-align: right;\n    }\n</style>\n<table border=\"1\" class=\"dataframe\">\n  <thead>\n    <tr style=\"text-align: right;\">\n      <th></th>\n      <th>orderItemID</th>\n      <th>orderDate</th>\n      <th>deliveryDate</th>\n      <th>itemID</th>\n      <th>size</th>\n      <th>color</th>\n      <th>manufacturerID</th>\n      <th>price</th>\n      <th>customerID</th>\n      <th>salutation</th>\n      <th>dateOfBirth</th>\n      <th>state</th>\n      <th>creationDate</th>\n      <th>returnShipment</th>\n    </tr>\n  </thead>\n  <tbody>\n    <tr>\n      <th>6495</th>\n      <td>6496</td>\n      <td>2012-04-06</td>\n      <td>2012-04-09</td>\n      <td>199</td>\n      <td>39</td>\n      <td>white</td>\n      <td>4</td>\n      <td>69.95</td>\n      <td>3941</td>\n      <td>Mrs</td>\n      <td>2010-08-03</td>\n      <td>Lower Saxony</td>\n      <td>2011-02-16</td>\n      <td>0</td>\n    </tr>\n    <tr>\n      <th>6496</th>\n      <td>6497</td>\n      <td>2012-04-06</td>\n      <td>2012-06-19</td>\n      <td>62</td>\n      <td>unsized</td>\n      <td>green</td>\n      <td>5</td>\n      <td>14.90</td>\n      <td>3941</td>\n      <td>Mrs</td>\n      <td>2010-08-03</td>\n      <td>Lower Saxony</td>\n      <td>2011-02-16</td>\n      <td>0</td>\n    </tr>\n    <tr>\n      <th>6497</th>\n      <td>6498</td>\n      <td>2012-04-06</td>\n      <td>2012-06-19</td>\n      <td>158</td>\n      <td>38</td>\n      <td>green</td>\n      <td>54</td>\n      <td>59.90</td>\n      <td>3941</td>\n      <td>Mrs</td>\n      <td>2010-08-03</td>\n      <td>Lower Saxony</td>\n      <td>2011-02-16</td>\n      <td>1</td>\n    </tr>\n    <tr>\n      <th>20584</th>\n      <td>20585</td>\n      <td>2012-04-15</td>\n      <td>2012-04-19</td>\n      <td>96</td>\n      <td>xxl</td>\n      <td>blau</td>\n      <td>3</td>\n      <td>16.90</td>\n      <td>9222</td>\n      <td>Mrs</td>\n      <td>2011-04-11</td>\n      <td>Bavaria</td>\n      <td>2011-05-23</td>\n      <td>0</td>\n    </tr>\n    <tr>\n      <th>20585</th>\n      <td>20586</td>\n      <td>2012-04-15</td>\n      <td>2012-04-19</td>\n      <td>96</td>\n      <td>xxl</td>\n      <td>green</td>\n      <td>3</td>\n      <td>16.90</td>\n      <td>9222</td>\n      <td>Mrs</td>\n      <td>2011-04-11</td>\n      <td>Bavaria</td>\n      <td>2011-05-23</td>\n      <td>0</td>\n    </tr>\n    <tr>\n      <th>...</th>\n      <td>...</td>\n      <td>...</td>\n      <td>...</td>\n      <td>...</td>\n      <td>...</td>\n      <td>...</td>\n      <td>...</td>\n      <td>...</td>\n      <td>...</td>\n      <td>...</td>\n      <td>...</td>\n      <td>...</td>\n      <td>...</td>\n      <td>...</td>\n    </tr>\n    <tr>\n      <th>440654</th>\n      <td>440655</td>\n      <td>2013-03-10</td>\n      <td>2013-03-12</td>\n      <td>2382</td>\n      <td>M</td>\n      <td>terracotta</td>\n      <td>3</td>\n      <td>49.90</td>\n      <td>49402</td>\n      <td>Mrs</td>\n      <td>2011-10-18</td>\n      <td>Lower Saxony</td>\n      <td>2013-03-10</td>\n      <td>1</td>\n    </tr>\n    <tr>\n      <th>464390</th>\n      <td>464391</td>\n      <td>2013-03-22</td>\n      <td>NaN</td>\n      <td>2869</td>\n      <td>43</td>\n      <td>black</td>\n      <td>1</td>\n      <td>149.90</td>\n      <td>84668</td>\n      <td>Mrs</td>\n      <td>2012-11-18</td>\n      <td>Baden-Wuerttemberg</td>\n      <td>2013-03-22</td>\n      <td>0</td>\n    </tr>\n    <tr>\n      <th>464391</th>\n      <td>464392</td>\n      <td>2013-03-22</td>\n      <td>NaN</td>\n      <td>2552</td>\n      <td>4+</td>\n      <td>blue</td>\n      <td>19</td>\n      <td>89.90</td>\n      <td>84668</td>\n      <td>Mrs</td>\n      <td>2012-11-18</td>\n      <td>Baden-Wuerttemberg</td>\n      <td>2013-03-22</td>\n      <td>0</td>\n    </tr>\n    <tr>\n      <th>465941</th>\n      <td>465942</td>\n      <td>2013-03-23</td>\n      <td>2013-04-01</td>\n      <td>2552</td>\n      <td>5+</td>\n      <td>blue</td>\n      <td>19</td>\n      <td>89.90</td>\n      <td>84668</td>\n      <td>Mrs</td>\n      <td>2012-11-18</td>\n      <td>Baden-Wuerttemberg</td>\n      <td>2013-03-22</td>\n      <td>1</td>\n    </tr>\n    <tr>\n      <th>465942</th>\n      <td>465943</td>\n      <td>2013-03-23</td>\n      <td>2013-04-01</td>\n      <td>2869</td>\n      <td>43</td>\n      <td>black</td>\n      <td>1</td>\n      <td>149.90</td>\n      <td>84668</td>\n      <td>Mrs</td>\n      <td>2012-11-18</td>\n      <td>Baden-Wuerttemberg</td>\n      <td>2013-03-22</td>\n      <td>1</td>\n    </tr>\n  </tbody>\n</table>\n<p>247 rows × 14 columns</p>\n</div>"
     },
     "execution_count": 16,
     "metadata": {},
     "output_type": "execute_result"
    }
   ],
   "source": [
    "# mit einer regular expression (mit welcher man strings maskieren kann) und der funktion df.query() können wir alle datensätze abfragen,\n",
    "# die ein dateOfBirth aus dem Jahr 2000 haben\n",
    "df.query(\"dateOfBirth.str.contains('20\\d\\d-\\d\\d-\\d\\d', na=False, regex=True)\")"
   ]
  },
  {
   "cell_type": "code",
   "execution_count": 17,
   "metadata": {},
   "outputs": [
    {
     "data": {
      "text/plain": "Empty DataFrame\nColumns: [orderItemID, orderDate, deliveryDate, itemID, size, color, manufacturerID, price, customerID, salutation, dateOfBirth, state, creationDate, returnShipment]\nIndex: []",
      "text/html": "<div>\n<style scoped>\n    .dataframe tbody tr th:only-of-type {\n        vertical-align: middle;\n    }\n\n    .dataframe tbody tr th {\n        vertical-align: top;\n    }\n\n    .dataframe thead th {\n        text-align: right;\n    }\n</style>\n<table border=\"1\" class=\"dataframe\">\n  <thead>\n    <tr style=\"text-align: right;\">\n      <th></th>\n      <th>orderItemID</th>\n      <th>orderDate</th>\n      <th>deliveryDate</th>\n      <th>itemID</th>\n      <th>size</th>\n      <th>color</th>\n      <th>manufacturerID</th>\n      <th>price</th>\n      <th>customerID</th>\n      <th>salutation</th>\n      <th>dateOfBirth</th>\n      <th>state</th>\n      <th>creationDate</th>\n      <th>returnShipment</th>\n    </tr>\n  </thead>\n  <tbody>\n  </tbody>\n</table>\n</div>"
     },
     "execution_count": 17,
     "metadata": {},
     "output_type": "execute_result"
    }
   ],
   "source": [
    "# mit einer regular expression (mit welcher man strings maskieren kann) und der funktion df.query() können wir alle datensätze abfragen,\n",
    "# die ein dateOfBirth aus dem Jahr 2100 haben\n",
    "df.query(\"dateOfBirth.str.contains('21\\d\\d-\\d\\d-\\d\\d', na=False, regex=True)\")"
   ]
  },
  {
   "cell_type": "markdown",
   "metadata": {},
   "source": [
    "**kommentar:**\n",
    "- wir haben uns alle jahrhunderte von 1600 - 2100 angeschaut, um ein gefühl dafür zu bekommen, in welchen \"clustern\" wir ausreißer finden\n",
    "- im 16. jahrhundert haben wir drei datensätze identifizieren können, die wir aufgrund der datenmenge von etwa 500.000 löschen werden\n",
    "\n",
    "**to-do:**\n",
    "- datensätze aus 1600 löschen"
   ]
  },
  {
   "cell_type": "code",
   "execution_count": 18,
   "metadata": {},
   "outputs": [],
   "source": [
    "# hier definieren wir ein pattern (muster), welches wir anschließend als maske verwenden, um die datensätze zu identifizieren, die wir löschen\n",
    "pattern = r'16\\d\\d-\\d\\d-\\d\\d'\n",
    "\n",
    "# hier wenden wir das pattern auf der spalte dateOfBirth an\n",
    "mask = df['dateOfBirth'].str.contains(pattern, na=False)\n",
    "\n",
    "# mit dem ~ operator können wir die maske auf dem gesamten datensatz löschen\n",
    "df = df[~mask]"
   ]
  },
  {
   "cell_type": "code",
   "execution_count": 19,
   "metadata": {},
   "outputs": [
    {
     "data": {
      "text/plain": "Empty DataFrame\nColumns: [orderItemID, orderDate, deliveryDate, itemID, size, color, manufacturerID, price, customerID, salutation, dateOfBirth, state, creationDate, returnShipment]\nIndex: []",
      "text/html": "<div>\n<style scoped>\n    .dataframe tbody tr th:only-of-type {\n        vertical-align: middle;\n    }\n\n    .dataframe tbody tr th {\n        vertical-align: top;\n    }\n\n    .dataframe thead th {\n        text-align: right;\n    }\n</style>\n<table border=\"1\" class=\"dataframe\">\n  <thead>\n    <tr style=\"text-align: right;\">\n      <th></th>\n      <th>orderItemID</th>\n      <th>orderDate</th>\n      <th>deliveryDate</th>\n      <th>itemID</th>\n      <th>size</th>\n      <th>color</th>\n      <th>manufacturerID</th>\n      <th>price</th>\n      <th>customerID</th>\n      <th>salutation</th>\n      <th>dateOfBirth</th>\n      <th>state</th>\n      <th>creationDate</th>\n      <th>returnShipment</th>\n    </tr>\n  </thead>\n  <tbody>\n  </tbody>\n</table>\n</div>"
     },
     "execution_count": 19,
     "metadata": {},
     "output_type": "execute_result"
    }
   ],
   "source": [
    "df.query(\"dateOfBirth.str.contains('16\\d\\d-\\d\\d-\\d\\d', na=False, regex=True)\")"
   ]
  },
  {
   "cell_type": "markdown",
   "metadata": {},
   "source": [
    "**kommentar:**\n",
    "- wir haben nun alle zeilen gelöscht, die aus dem 16. jahrhundert vorhanden waren\n",
    "- jetzt haben wir die möglichkeit den datentyp von object auf datetime zu ändern, um später damit besser rechnen zu können\n",
    "\n",
    "**to-do:**\n",
    "- datentyp für alle datumsfelder anpassen"
   ]
  },
  {
   "cell_type": "code",
   "execution_count": 20,
   "metadata": {},
   "outputs": [],
   "source": [
    "# diese funktion haben wir bereits versucht vorne zu verwenden, jedoch ohne erfolg, da 1655 out of bounds war\n",
    "# da wir nun die entsprechenden fehlerhaften zeilen gelöscht haben, können wir die funktion erneut ausführen\n",
    "\n",
    "df[['orderDate', 'deliveryDate', 'dateOfBirth', 'creationDate']] = \\\n",
    "df[['orderDate', 'deliveryDate', 'dateOfBirth', 'creationDate']].apply(pd.to_datetime, format='%Y-%m-%d')"
   ]
  },
  {
   "cell_type": "markdown",
   "metadata": {},
   "source": [
    "**kommentar:**\n",
    "- nachdem wir nun den datentyp angepasst haben, wollen wir das ergebnis validieren"
   ]
  },
  {
   "cell_type": "code",
   "execution_count": 21,
   "metadata": {},
   "outputs": [
    {
     "name": "stdout",
     "output_type": "stream",
     "text": [
      "<class 'pandas.core.frame.DataFrame'>\n",
      "Int64Index: 481089 entries, 0 to 481091\n",
      "Data columns (total 14 columns):\n",
      " #   Column          Non-Null Count   Dtype         \n",
      "---  ------          --------------   -----         \n",
      " 0   orderItemID     481089 non-null  int64         \n",
      " 1   orderDate       481089 non-null  datetime64[ns]\n",
      " 2   deliveryDate    441670 non-null  datetime64[ns]\n",
      " 3   itemID          481089 non-null  int64         \n",
      " 4   size            481089 non-null  object        \n",
      " 5   color           480946 non-null  object        \n",
      " 6   manufacturerID  481089 non-null  int64         \n",
      " 7   price           481089 non-null  float64       \n",
      " 8   customerID      481089 non-null  int64         \n",
      " 9   salutation      481089 non-null  object        \n",
      " 10  dateOfBirth     432200 non-null  datetime64[ns]\n",
      " 11  state           481089 non-null  object        \n",
      " 12  creationDate    481089 non-null  datetime64[ns]\n",
      " 13  returnShipment  481089 non-null  int64         \n",
      "dtypes: datetime64[ns](4), float64(1), int64(5), object(4)\n",
      "memory usage: 55.1+ MB\n"
     ]
    }
   ],
   "source": [
    "df.info()"
   ]
  },
  {
   "cell_type": "markdown",
   "metadata": {},
   "source": [
    "**kommentar:**\n",
    "- nachdem wir die fehlerhaften datensätze aus dem 16. jahrhundert gelöscht haben, wollen wir die weiteren unplausiblen datumsangaben untersuchen\n",
    "- hierfür extrahieren wir das alter zum zeitpunkt der bestellung, indem wir das orderDate-dateOfBirth berechnen\n",
    "\n",
    "**to-do:**\n",
    "- feature engineering \"age_at_order\""
   ]
  },
  {
   "cell_type": "code",
   "execution_count": 22,
   "metadata": {},
   "outputs": [
    {
     "data": {
      "text/plain": "   orderItemID  orderDate deliveryDate  itemID size  color  manufacturerID  \\\n0            1 2012-04-01   2012-04-03     186    m  denim              25   \n1            2 2012-04-01   2012-04-03      71   9+  ocher              21   \n2            3 2012-04-01   2012-04-03      71   9+  curry              21   \n3            4 2012-04-02          NaT      22    m  green              14   \n4            5 2012-04-02   1990-12-31     151   39  black              53   \n\n   price  customerID salutation dateOfBirth                 state  \\\n0  69.90         794        Mrs  1965-01-06    Baden-Wuerttemberg   \n1  69.95         794        Mrs  1965-01-06    Baden-Wuerttemberg   \n2  69.95         794        Mrs  1965-01-06    Baden-Wuerttemberg   \n3  39.90         808        Mrs  1959-11-09                Saxony   \n4  29.90         825        Mrs  1964-07-11  Rhineland-Palatinate   \n\n  creationDate  returnShipment  age_at_order  \n0   2011-04-25               0     47.265753  \n1   2011-04-25               1     47.265753  \n2   2011-04-25               1     47.265753  \n3   2012-01-04               0     52.432877  \n4   2011-02-16               0     47.758904  ",
      "text/html": "<div>\n<style scoped>\n    .dataframe tbody tr th:only-of-type {\n        vertical-align: middle;\n    }\n\n    .dataframe tbody tr th {\n        vertical-align: top;\n    }\n\n    .dataframe thead th {\n        text-align: right;\n    }\n</style>\n<table border=\"1\" class=\"dataframe\">\n  <thead>\n    <tr style=\"text-align: right;\">\n      <th></th>\n      <th>orderItemID</th>\n      <th>orderDate</th>\n      <th>deliveryDate</th>\n      <th>itemID</th>\n      <th>size</th>\n      <th>color</th>\n      <th>manufacturerID</th>\n      <th>price</th>\n      <th>customerID</th>\n      <th>salutation</th>\n      <th>dateOfBirth</th>\n      <th>state</th>\n      <th>creationDate</th>\n      <th>returnShipment</th>\n      <th>age_at_order</th>\n    </tr>\n  </thead>\n  <tbody>\n    <tr>\n      <th>0</th>\n      <td>1</td>\n      <td>2012-04-01</td>\n      <td>2012-04-03</td>\n      <td>186</td>\n      <td>m</td>\n      <td>denim</td>\n      <td>25</td>\n      <td>69.90</td>\n      <td>794</td>\n      <td>Mrs</td>\n      <td>1965-01-06</td>\n      <td>Baden-Wuerttemberg</td>\n      <td>2011-04-25</td>\n      <td>0</td>\n      <td>47.265753</td>\n    </tr>\n    <tr>\n      <th>1</th>\n      <td>2</td>\n      <td>2012-04-01</td>\n      <td>2012-04-03</td>\n      <td>71</td>\n      <td>9+</td>\n      <td>ocher</td>\n      <td>21</td>\n      <td>69.95</td>\n      <td>794</td>\n      <td>Mrs</td>\n      <td>1965-01-06</td>\n      <td>Baden-Wuerttemberg</td>\n      <td>2011-04-25</td>\n      <td>1</td>\n      <td>47.265753</td>\n    </tr>\n    <tr>\n      <th>2</th>\n      <td>3</td>\n      <td>2012-04-01</td>\n      <td>2012-04-03</td>\n      <td>71</td>\n      <td>9+</td>\n      <td>curry</td>\n      <td>21</td>\n      <td>69.95</td>\n      <td>794</td>\n      <td>Mrs</td>\n      <td>1965-01-06</td>\n      <td>Baden-Wuerttemberg</td>\n      <td>2011-04-25</td>\n      <td>1</td>\n      <td>47.265753</td>\n    </tr>\n    <tr>\n      <th>3</th>\n      <td>4</td>\n      <td>2012-04-02</td>\n      <td>NaT</td>\n      <td>22</td>\n      <td>m</td>\n      <td>green</td>\n      <td>14</td>\n      <td>39.90</td>\n      <td>808</td>\n      <td>Mrs</td>\n      <td>1959-11-09</td>\n      <td>Saxony</td>\n      <td>2012-01-04</td>\n      <td>0</td>\n      <td>52.432877</td>\n    </tr>\n    <tr>\n      <th>4</th>\n      <td>5</td>\n      <td>2012-04-02</td>\n      <td>1990-12-31</td>\n      <td>151</td>\n      <td>39</td>\n      <td>black</td>\n      <td>53</td>\n      <td>29.90</td>\n      <td>825</td>\n      <td>Mrs</td>\n      <td>1964-07-11</td>\n      <td>Rhineland-Palatinate</td>\n      <td>2011-02-16</td>\n      <td>0</td>\n      <td>47.758904</td>\n    </tr>\n  </tbody>\n</table>\n</div>"
     },
     "execution_count": 22,
     "metadata": {},
     "output_type": "execute_result"
    }
   ],
   "source": [
    "df['age_at_order'] = (df['orderDate'] - df['dateOfBirth']) / pd.Timedelta(days=365)\n",
    "df.head()"
   ]
  },
  {
   "cell_type": "code",
   "execution_count": 23,
   "metadata": {},
   "outputs": [],
   "source": [
    "df.drop(df.loc[df['age_at_order']<7].index, inplace = True)\n",
    "df.drop(df.loc[df['age_at_order']>=110].index, inplace = True)\n",
    "df.drop(columns=['dateOfBirth'], inplace = True)"
   ]
  },
  {
   "cell_type": "code",
   "execution_count": 24,
   "metadata": {},
   "outputs": [],
   "source": [
    "# um fehlende alterswerte zu behandeln (dateOfBirth = NaT), \n",
    "# berechnen wir den median des von uns erstellen attributs 'age_at_order'\n",
    "# und füllen die NaT werte entsprechend\n",
    "df['age_at_order'].fillna(df['age_at_order'].median(), inplace=True)"
   ]
  },
  {
   "cell_type": "code",
   "execution_count": 25,
   "metadata": {},
   "outputs": [
    {
     "data": {
      "text/plain": "Empty DataFrame\nColumns: [orderItemID, orderDate, deliveryDate, itemID, size, color, manufacturerID, price, customerID, salutation, state, creationDate, returnShipment, age_at_order]\nIndex: []",
      "text/html": "<div>\n<style scoped>\n    .dataframe tbody tr th:only-of-type {\n        vertical-align: middle;\n    }\n\n    .dataframe tbody tr th {\n        vertical-align: top;\n    }\n\n    .dataframe thead th {\n        text-align: right;\n    }\n</style>\n<table border=\"1\" class=\"dataframe\">\n  <thead>\n    <tr style=\"text-align: right;\">\n      <th></th>\n      <th>orderItemID</th>\n      <th>orderDate</th>\n      <th>deliveryDate</th>\n      <th>itemID</th>\n      <th>size</th>\n      <th>color</th>\n      <th>manufacturerID</th>\n      <th>price</th>\n      <th>customerID</th>\n      <th>salutation</th>\n      <th>state</th>\n      <th>creationDate</th>\n      <th>returnShipment</th>\n      <th>age_at_order</th>\n    </tr>\n  </thead>\n  <tbody>\n  </tbody>\n</table>\n</div>"
     },
     "execution_count": 25,
     "metadata": {},
     "output_type": "execute_result"
    }
   ],
   "source": [
    "df[df['age_at_order'].isnull()]"
   ]
  },
  {
   "cell_type": "code",
   "execution_count": 26,
   "metadata": {},
   "outputs": [
    {
     "name": "stdout",
     "output_type": "stream",
     "text": [
      "<class 'pandas.core.frame.DataFrame'>\n",
      "Int64Index: 475719 entries, 0 to 481091\n",
      "Data columns (total 14 columns):\n",
      " #   Column          Non-Null Count   Dtype         \n",
      "---  ------          --------------   -----         \n",
      " 0   orderItemID     475719 non-null  int64         \n",
      " 1   orderDate       475719 non-null  datetime64[ns]\n",
      " 2   deliveryDate    436682 non-null  datetime64[ns]\n",
      " 3   itemID          475719 non-null  int64         \n",
      " 4   size            475719 non-null  object        \n",
      " 5   color           475577 non-null  object        \n",
      " 6   manufacturerID  475719 non-null  int64         \n",
      " 7   price           475719 non-null  float64       \n",
      " 8   customerID      475719 non-null  int64         \n",
      " 9   salutation      475719 non-null  object        \n",
      " 10  state           475719 non-null  object        \n",
      " 11  creationDate    475719 non-null  datetime64[ns]\n",
      " 12  returnShipment  475719 non-null  int64         \n",
      " 13  age_at_order    475719 non-null  float64       \n",
      "dtypes: datetime64[ns](3), float64(2), int64(5), object(4)\n",
      "memory usage: 54.4+ MB\n"
     ]
    }
   ],
   "source": [
    "df.info()"
   ]
  },
  {
   "cell_type": "markdown",
   "metadata": {},
   "source": [
    "**kommentar:**\n",
    "- nachdem wir nun ein neues feature entwickelt haben, schauen wir uns die spalte \"price\" an\n",
    "- zunächst betrachten wir die verteilung der werte\n",
    "\n",
    "**to-do:**\n",
    "- query auswertung der spalte \"price\"\n",
    "- grafische auswertung (zb boxplot, histogram) der spalte \"price\""
   ]
  },
  {
   "cell_type": "code",
   "execution_count": 27,
   "metadata": {},
   "outputs": [
    {
     "data": {
      "text/plain": "<Figure size 640x480 with 1 Axes>",
      "image/png": "[encoded data removed]"
     },
     "metadata": {},
     "output_type": "display_data"
    }
   ],
   "source": [
    "# um eine ausreißeranalyse durchzuführen, schauen wir uns zunächst einen boxplot an\n",
    "df.boxplot(column='price')\n",
    "plt.show()"
   ]
  },
  {
   "cell_type": "markdown",
   "metadata": {},
   "source": [
    "**kommentar:**\n",
    "- der boxplot zeigt:\n",
    "  - der großteil der daten liegt im bereich 0-180\n",
    "  - der median liegt etwa bei 60 (lässt sich ebenfalls über die .describe() function validieren)\n",
    "  - wir haben \"ausreißer\" ab einem wert von etwa 180\n",
    "- fachlich legen wir fest, dass wir die \"ausreißer\" (price > 180) mit in unsere weitere analyse einbeziehen und nicht auf die maximalen whiskers reduzieren\n",
    "  - wir befinden uns in einem online-shop, wo es fachlich möglich ist, dass auch höherpreisige artikel angeboten und vertrieben werden\n",
    "  - ebenfalls ist es möglich, dass artikel für einen preis von 0 als beigabe für eine bestellung vorhanden sind"
   ]
  },
  {
   "cell_type": "code",
   "execution_count": 28,
   "metadata": {},
   "outputs": [
    {
     "data": {
      "text/plain": "<Figure size 640x480 with 1 Axes>",
      "image/png": "[encoded data removed]"
     },
     "metadata": {},
     "output_type": "display_data"
    }
   ],
   "source": [
    "# für die darstellung erstellen wir einen neuen datafram, der nur aus der spalte 'price' besteht\n",
    "df_price = df['price']\n",
    "\n",
    "# im nächsten schritt (für die validierung des boxplots) entfernen wir alle datensätze mit einem price > 200\n",
    "df_price.drop(df.loc[df['price']>200].index, inplace=True)\n",
    "\n",
    "# hier erstellen wir das histogram\n",
    "df_price.hist()\n",
    "\n",
    "# hier legen wir die konfiguration des histograms fest\n",
    "plt.xticks([0, 25, 50, 75, 100, 125, 150, 175, 200])\n",
    "plt.xlabel('Price')\n",
    "plt.ylabel('Count')\n",
    "plt.title('Histogram of Price')\n",
    "\n",
    "# hier lassen wir das histogram anzeigen\n",
    "plt.show()"
   ]
  },
  {
   "cell_type": "code",
   "execution_count": 29,
   "metadata": {},
   "outputs": [
    {
     "data": {
      "text/plain": "        orderItemID  orderDate deliveryDate  itemID size       color  \\\n15               16 2012-04-02   2012-04-04     605   43  anthracite   \n593             594 2012-04-03   2012-04-04     682   41       brown   \n772             773 2012-04-01   2012-04-05     641    m       black   \n821             822 2012-04-03   2012-04-04     701    m  anthracite   \n1366           1367 2012-04-01   2012-04-04     738  11+        grey   \n...             ...        ...          ...     ...  ...         ...   \n479952       479953 2013-03-31   2013-05-01    2974   39     stained   \n479958       479959 2013-03-31   2013-04-03    2710   39       black   \n480095       480096 2013-03-31   2013-04-02    2500   38         red   \n480570       480571 2013-03-31   2013-04-03    2775   40        grey   \n480926       480927 2013-03-31   2013-04-03    2775   42       black   \n\n        manufacturerID   price  customerID salutation                   state  \\\n15                   1  199.90         860        Mrs  North Rhine-Westphalia   \n593                 54  189.90        1336        Mrs             Brandenburg   \n772                 48  199.95        1423        Mrs  North Rhine-Westphalia   \n821                 75  199.90        1453        Mrs            Lower Saxony   \n1366                80  200.00        1733        Mrs    Rhineland-Palatinate   \n...                ...     ...         ...        ...                     ...   \n479952              55  189.00       86401        Mrs               Thuringia   \n479958              55  189.00       86404        Mrs      Baden-Wuerttemberg   \n480095             101  249.90       38189        Mrs             Brandenburg   \n480570               1  199.90       86492        Mrs      Baden-Wuerttemberg   \n480926               1  199.90       86547        Mrs  North Rhine-Westphalia   \n\n       creationDate  returnShipment  age_at_order  \n15       2011-03-20               0     48.665753  \n593      2011-08-26               0     35.695890  \n772      2012-04-01               0     67.476712  \n821      2011-02-16               0     48.095890  \n1366     2011-02-16               0     45.854795  \n...             ...             ...           ...  \n479952   2013-03-31               1     53.887671  \n479958   2013-03-31               0     47.660274  \n480095   2011-04-24               1     47.038356  \n480570   2013-03-31               0     49.873973  \n480926   2013-03-31               0     52.104110  \n\n[10980 rows x 14 columns]",
      "text/html": "<div>\n<style scoped>\n    .dataframe tbody tr th:only-of-type {\n        vertical-align: middle;\n    }\n\n    .dataframe tbody tr th {\n        vertical-align: top;\n    }\n\n    .dataframe thead th {\n        text-align: right;\n    }\n</style>\n<table border=\"1\" class=\"dataframe\">\n  <thead>\n    <tr style=\"text-align: right;\">\n      <th></th>\n      <th>orderItemID</th>\n      <th>orderDate</th>\n      <th>deliveryDate</th>\n      <th>itemID</th>\n      <th>size</th>\n      <th>color</th>\n      <th>manufacturerID</th>\n      <th>price</th>\n      <th>customerID</th>\n      <th>salutation</th>\n      <th>state</th>\n      <th>creationDate</th>\n      <th>returnShipment</th>\n      <th>age_at_order</th>\n    </tr>\n  </thead>\n  <tbody>\n    <tr>\n      <th>15</th>\n      <td>16</td>\n      <td>2012-04-02</td>\n      <td>2012-04-04</td>\n      <td>605</td>\n      <td>43</td>\n      <td>anthracite</td>\n      <td>1</td>\n      <td>199.90</td>\n      <td>860</td>\n      <td>Mrs</td>\n      <td>North Rhine-Westphalia</td>\n      <td>2011-03-20</td>\n      <td>0</td>\n      <td>48.665753</td>\n    </tr>\n    <tr>\n      <th>593</th>\n      <td>594</td>\n      <td>2012-04-03</td>\n      <td>2012-04-04</td>\n      <td>682</td>\n      <td>41</td>\n      <td>brown</td>\n      <td>54</td>\n      <td>189.90</td>\n      <td>1336</td>\n      <td>Mrs</td>\n      <td>Brandenburg</td>\n      <td>2011-08-26</td>\n      <td>0</td>\n      <td>35.695890</td>\n    </tr>\n    <tr>\n      <th>772</th>\n      <td>773</td>\n      <td>2012-04-01</td>\n      <td>2012-04-05</td>\n      <td>641</td>\n      <td>m</td>\n      <td>black</td>\n      <td>48</td>\n      <td>199.95</td>\n      <td>1423</td>\n      <td>Mrs</td>\n      <td>North Rhine-Westphalia</td>\n      <td>2012-04-01</td>\n      <td>0</td>\n      <td>67.476712</td>\n    </tr>\n    <tr>\n      <th>821</th>\n      <td>822</td>\n      <td>2012-04-03</td>\n      <td>2012-04-04</td>\n      <td>701</td>\n      <td>m</td>\n      <td>anthracite</td>\n      <td>75</td>\n      <td>199.90</td>\n      <td>1453</td>\n      <td>Mrs</td>\n      <td>Lower Saxony</td>\n      <td>2011-02-16</td>\n      <td>0</td>\n      <td>48.095890</td>\n    </tr>\n    <tr>\n      <th>1366</th>\n      <td>1367</td>\n      <td>2012-04-01</td>\n      <td>2012-04-04</td>\n      <td>738</td>\n      <td>11+</td>\n      <td>grey</td>\n      <td>80</td>\n      <td>200.00</td>\n      <td>1733</td>\n      <td>Mrs</td>\n      <td>Rhineland-Palatinate</td>\n      <td>2011-02-16</td>\n      <td>0</td>\n      <td>45.854795</td>\n    </tr>\n    <tr>\n      <th>...</th>\n      <td>...</td>\n      <td>...</td>\n      <td>...</td>\n      <td>...</td>\n      <td>...</td>\n      <td>...</td>\n      <td>...</td>\n      <td>...</td>\n      <td>...</td>\n      <td>...</td>\n      <td>...</td>\n      <td>...</td>\n      <td>...</td>\n      <td>...</td>\n    </tr>\n    <tr>\n      <th>479952</th>\n      <td>479953</td>\n      <td>2013-03-31</td>\n      <td>2013-05-01</td>\n      <td>2974</td>\n      <td>39</td>\n      <td>stained</td>\n      <td>55</td>\n      <td>189.00</td>\n      <td>86401</td>\n      <td>Mrs</td>\n      <td>Thuringia</td>\n      <td>2013-03-31</td>\n      <td>1</td>\n      <td>53.887671</td>\n    </tr>\n    <tr>\n      <th>479958</th>\n      <td>479959</td>\n      <td>2013-03-31</td>\n      <td>2013-04-03</td>\n      <td>2710</td>\n      <td>39</td>\n      <td>black</td>\n      <td>55</td>\n      <td>189.00</td>\n      <td>86404</td>\n      <td>Mrs</td>\n      <td>Baden-Wuerttemberg</td>\n      <td>2013-03-31</td>\n      <td>0</td>\n      <td>47.660274</td>\n    </tr>\n    <tr>\n      <th>480095</th>\n      <td>480096</td>\n      <td>2013-03-31</td>\n      <td>2013-04-02</td>\n      <td>2500</td>\n      <td>38</td>\n      <td>red</td>\n      <td>101</td>\n      <td>249.90</td>\n      <td>38189</td>\n      <td>Mrs</td>\n      <td>Brandenburg</td>\n      <td>2011-04-24</td>\n      <td>1</td>\n      <td>47.038356</td>\n    </tr>\n    <tr>\n      <th>480570</th>\n      <td>480571</td>\n      <td>2013-03-31</td>\n      <td>2013-04-03</td>\n      <td>2775</td>\n      <td>40</td>\n      <td>grey</td>\n      <td>1</td>\n      <td>199.90</td>\n      <td>86492</td>\n      <td>Mrs</td>\n      <td>Baden-Wuerttemberg</td>\n      <td>2013-03-31</td>\n      <td>0</td>\n      <td>49.873973</td>\n    </tr>\n    <tr>\n      <th>480926</th>\n      <td>480927</td>\n      <td>2013-03-31</td>\n      <td>2013-04-03</td>\n      <td>2775</td>\n      <td>42</td>\n      <td>black</td>\n      <td>1</td>\n      <td>199.90</td>\n      <td>86547</td>\n      <td>Mrs</td>\n      <td>North Rhine-Westphalia</td>\n      <td>2013-03-31</td>\n      <td>0</td>\n      <td>52.104110</td>\n    </tr>\n  </tbody>\n</table>\n<p>10980 rows × 14 columns</p>\n</div>"
     },
     "execution_count": 29,
     "metadata": {},
     "output_type": "execute_result"
    }
   ],
   "source": [
    "# um ein gefühl dafür zu bekommen, wie viele datensätze es gibt, die einen price über 180 haben, schauen wir uns dies an\n",
    "df[(df['price'] >= 180)]"
   ]
  },
  {
   "cell_type": "code",
   "execution_count": 30,
   "metadata": {},
   "outputs": [
    {
     "data": {
      "text/plain": "        orderItemID  orderDate deliveryDate  itemID     size   color  \\\n65               66 2012-04-02   2012-04-24     239  unsized   brown   \n71               72 2012-04-02   2012-04-16     553  unsized   green   \n986             987 2012-04-03   2012-04-26     239  unsized   brown   \n1250           1251 2012-04-03          NaT     157  unsized  purple   \n1673           1674 2012-04-04   2012-04-05      62  unsized   white   \n...             ...        ...          ...     ...      ...     ...   \n480659       480660 2013-03-31   2013-04-03    3069  unsized   black   \n480689       480690 2013-03-31   2013-04-03    3069  unsized   black   \n480705       480706 2013-03-31   2013-04-03    3069  unsized   black   \n480847       480848 2013-03-31   2013-04-03    3069  unsized   black   \n481038       481039 2013-03-31   2013-04-03    3069  unsized   black   \n\n        manufacturerID  price  customerID salutation                   state  \\\n65                  60    0.0         925        Mrs                   Hesse   \n71                  86    0.0         937        Mrs                   Hesse   \n986                 60    0.0        1543        Mrs      Baden-Wuerttemberg   \n1250                32    0.0        1687        Mrs  North Rhine-Westphalia   \n1673                 5    0.0        1848        Mrs      Baden-Wuerttemberg   \n...                ...    ...         ...        ...                     ...   \n480659             157    0.0       13871        Mrs  North Rhine-Westphalia   \n480689             157    0.0       51305        Mrs      Baden-Wuerttemberg   \n480705             157    0.0       16759        Mrs             Brandenburg   \n480847             157    0.0       34356        Mrs  North Rhine-Westphalia   \n481038             157    0.0        7964        Mrs                   Hesse   \n\n       creationDate  returnShipment  age_at_order  \n65       2011-03-16               0     53.939726  \n71       2012-03-03               0     56.594521  \n986      2011-11-05               0     49.671233  \n1250     2012-04-02               0     47.660274  \n1673     2011-02-16               0     54.457534  \n...             ...             ...           ...  \n480659   2012-04-23               0     47.660274  \n480689   2012-09-19               0     52.090411  \n480705   2011-02-16               0     47.602740  \n480847   2011-05-01               0     63.405479  \n481038   2011-06-12               0     53.326027  \n\n[1683 rows x 14 columns]",
      "text/html": "<div>\n<style scoped>\n    .dataframe tbody tr th:only-of-type {\n        vertical-align: middle;\n    }\n\n    .dataframe tbody tr th {\n        vertical-align: top;\n    }\n\n    .dataframe thead th {\n        text-align: right;\n    }\n</style>\n<table border=\"1\" class=\"dataframe\">\n  <thead>\n    <tr style=\"text-align: right;\">\n      <th></th>\n      <th>orderItemID</th>\n      <th>orderDate</th>\n      <th>deliveryDate</th>\n      <th>itemID</th>\n      <th>size</th>\n      <th>color</th>\n      <th>manufacturerID</th>\n      <th>price</th>\n      <th>customerID</th>\n      <th>salutation</th>\n      <th>state</th>\n      <th>creationDate</th>\n      <th>returnShipment</th>\n      <th>age_at_order</th>\n    </tr>\n  </thead>\n  <tbody>\n    <tr>\n      <th>65</th>\n      <td>66</td>\n      <td>2012-04-02</td>\n      <td>2012-04-24</td>\n      <td>239</td>\n      <td>unsized</td>\n      <td>brown</td>\n      <td>60</td>\n      <td>0.0</td>\n      <td>925</td>\n      <td>Mrs</td>\n      <td>Hesse</td>\n      <td>2011-03-16</td>\n      <td>0</td>\n      <td>53.939726</td>\n    </tr>\n    <tr>\n      <th>71</th>\n      <td>72</td>\n      <td>2012-04-02</td>\n      <td>2012-04-16</td>\n      <td>553</td>\n      <td>unsized</td>\n      <td>green</td>\n      <td>86</td>\n      <td>0.0</td>\n      <td>937</td>\n      <td>Mrs</td>\n      <td>Hesse</td>\n      <td>2012-03-03</td>\n      <td>0</td>\n      <td>56.594521</td>\n    </tr>\n    <tr>\n      <th>986</th>\n      <td>987</td>\n      <td>2012-04-03</td>\n      <td>2012-04-26</td>\n      <td>239</td>\n      <td>unsized</td>\n      <td>brown</td>\n      <td>60</td>\n      <td>0.0</td>\n      <td>1543</td>\n      <td>Mrs</td>\n      <td>Baden-Wuerttemberg</td>\n      <td>2011-11-05</td>\n      <td>0</td>\n      <td>49.671233</td>\n    </tr>\n    <tr>\n      <th>1250</th>\n      <td>1251</td>\n      <td>2012-04-03</td>\n      <td>NaT</td>\n      <td>157</td>\n      <td>unsized</td>\n      <td>purple</td>\n      <td>32</td>\n      <td>0.0</td>\n      <td>1687</td>\n      <td>Mrs</td>\n      <td>North Rhine-Westphalia</td>\n      <td>2012-04-02</td>\n      <td>0</td>\n      <td>47.660274</td>\n    </tr>\n    <tr>\n      <th>1673</th>\n      <td>1674</td>\n      <td>2012-04-04</td>\n      <td>2012-04-05</td>\n      <td>62</td>\n      <td>unsized</td>\n      <td>white</td>\n      <td>5</td>\n      <td>0.0</td>\n      <td>1848</td>\n      <td>Mrs</td>\n      <td>Baden-Wuerttemberg</td>\n      <td>2011-02-16</td>\n      <td>0</td>\n      <td>54.457534</td>\n    </tr>\n    <tr>\n      <th>...</th>\n      <td>...</td>\n      <td>...</td>\n      <td>...</td>\n      <td>...</td>\n      <td>...</td>\n      <td>...</td>\n      <td>...</td>\n      <td>...</td>\n      <td>...</td>\n      <td>...</td>\n      <td>...</td>\n      <td>...</td>\n      <td>...</td>\n      <td>...</td>\n    </tr>\n    <tr>\n      <th>480659</th>\n      <td>480660</td>\n      <td>2013-03-31</td>\n      <td>2013-04-03</td>\n      <td>3069</td>\n      <td>unsized</td>\n      <td>black</td>\n      <td>157</td>\n      <td>0.0</td>\n      <td>13871</td>\n      <td>Mrs</td>\n      <td>North Rhine-Westphalia</td>\n      <td>2012-04-23</td>\n      <td>0</td>\n      <td>47.660274</td>\n    </tr>\n    <tr>\n      <th>480689</th>\n      <td>480690</td>\n      <td>2013-03-31</td>\n      <td>2013-04-03</td>\n      <td>3069</td>\n      <td>unsized</td>\n      <td>black</td>\n      <td>157</td>\n      <td>0.0</td>\n      <td>51305</td>\n      <td>Mrs</td>\n      <td>Baden-Wuerttemberg</td>\n      <td>2012-09-19</td>\n      <td>0</td>\n      <td>52.090411</td>\n    </tr>\n    <tr>\n      <th>480705</th>\n      <td>480706</td>\n      <td>2013-03-31</td>\n      <td>2013-04-03</td>\n      <td>3069</td>\n      <td>unsized</td>\n      <td>black</td>\n      <td>157</td>\n      <td>0.0</td>\n      <td>16759</td>\n      <td>Mrs</td>\n      <td>Brandenburg</td>\n      <td>2011-02-16</td>\n      <td>0</td>\n      <td>47.602740</td>\n    </tr>\n    <tr>\n      <th>480847</th>\n      <td>480848</td>\n      <td>2013-03-31</td>\n      <td>2013-04-03</td>\n      <td>3069</td>\n      <td>unsized</td>\n      <td>black</td>\n      <td>157</td>\n      <td>0.0</td>\n      <td>34356</td>\n      <td>Mrs</td>\n      <td>North Rhine-Westphalia</td>\n      <td>2011-05-01</td>\n      <td>0</td>\n      <td>63.405479</td>\n    </tr>\n    <tr>\n      <th>481038</th>\n      <td>481039</td>\n      <td>2013-03-31</td>\n      <td>2013-04-03</td>\n      <td>3069</td>\n      <td>unsized</td>\n      <td>black</td>\n      <td>157</td>\n      <td>0.0</td>\n      <td>7964</td>\n      <td>Mrs</td>\n      <td>Hesse</td>\n      <td>2011-06-12</td>\n      <td>0</td>\n      <td>53.326027</td>\n    </tr>\n  </tbody>\n</table>\n<p>1683 rows × 14 columns</p>\n</div>"
     },
     "execution_count": 30,
     "metadata": {},
     "output_type": "execute_result"
    }
   ],
   "source": [
    "# um ein gefühl dafür zu bekommen, wie viele datensätze es gibt, die einen price = 0 haben, schauen wir uns dies an\n",
    "df[(df['price'] == 0)]"
   ]
  },
  {
   "cell_type": "markdown",
   "metadata": {},
   "source": [
    "**erledigtes to-do:**\n",
    "- spalte 'price' wurde umfänglich untersucht (query und grafisch)\n",
    "- es wurden fachliche entscheidungen getroffen"
   ]
  },
  {
   "cell_type": "markdown",
   "metadata": {},
   "source": [
    "**kommentar:**\n",
    "- jetzt kümmern wir uns um die spalten 'orderDate' und 'deliveryDate'\n",
    "- auch hier wollen wir wieder eine grafische auswertung machen\n",
    "- man könnte ebenfalls korrelationen untersuchen und evtl. neue features ableiten\n",
    "\n",
    "**to-do:**\n",
    "- grafische auswertung\n",
    "- feature engineering"
   ]
  },
  {
   "cell_type": "code",
   "execution_count": 31,
   "metadata": {},
   "outputs": [
    {
     "data": {
      "text/plain": "   orderItemID  orderDate deliveryDate  itemID size  color  manufacturerID  \\\n0            1 2012-04-01   2012-04-03     186    m  denim              25   \n1            2 2012-04-01   2012-04-03      71   9+  ocher              21   \n2            3 2012-04-01   2012-04-03      71   9+  curry              21   \n3            4 2012-04-02          NaT      22    m  green              14   \n4            5 2012-04-02   1990-12-31     151   39  black              53   \n\n   price  customerID salutation                 state creationDate  \\\n0  69.90         794        Mrs    Baden-Wuerttemberg   2011-04-25   \n1  69.95         794        Mrs    Baden-Wuerttemberg   2011-04-25   \n2  69.95         794        Mrs    Baden-Wuerttemberg   2011-04-25   \n3  39.90         808        Mrs                Saxony   2012-01-04   \n4  29.90         825        Mrs  Rhineland-Palatinate   2011-02-16   \n\n   returnShipment  age_at_order delivery_time  \n0               0     47.265753        2 days  \n1               1     47.265753        2 days  \n2               1     47.265753        2 days  \n3               0     52.432877           NaT  \n4               0     47.758904    -7763 days  ",
      "text/html": "<div>\n<style scoped>\n    .dataframe tbody tr th:only-of-type {\n        vertical-align: middle;\n    }\n\n    .dataframe tbody tr th {\n        vertical-align: top;\n    }\n\n    .dataframe thead th {\n        text-align: right;\n    }\n</style>\n<table border=\"1\" class=\"dataframe\">\n  <thead>\n    <tr style=\"text-align: right;\">\n      <th></th>\n      <th>orderItemID</th>\n      <th>orderDate</th>\n      <th>deliveryDate</th>\n      <th>itemID</th>\n      <th>size</th>\n      <th>color</th>\n      <th>manufacturerID</th>\n      <th>price</th>\n      <th>customerID</th>\n      <th>salutation</th>\n      <th>state</th>\n      <th>creationDate</th>\n      <th>returnShipment</th>\n      <th>age_at_order</th>\n      <th>delivery_time</th>\n    </tr>\n  </thead>\n  <tbody>\n    <tr>\n      <th>0</th>\n      <td>1</td>\n      <td>2012-04-01</td>\n      <td>2012-04-03</td>\n      <td>186</td>\n      <td>m</td>\n      <td>denim</td>\n      <td>25</td>\n      <td>69.90</td>\n      <td>794</td>\n      <td>Mrs</td>\n      <td>Baden-Wuerttemberg</td>\n      <td>2011-04-25</td>\n      <td>0</td>\n      <td>47.265753</td>\n      <td>2 days</td>\n    </tr>\n    <tr>\n      <th>1</th>\n      <td>2</td>\n      <td>2012-04-01</td>\n      <td>2012-04-03</td>\n      <td>71</td>\n      <td>9+</td>\n      <td>ocher</td>\n      <td>21</td>\n      <td>69.95</td>\n      <td>794</td>\n      <td>Mrs</td>\n      <td>Baden-Wuerttemberg</td>\n      <td>2011-04-25</td>\n      <td>1</td>\n      <td>47.265753</td>\n      <td>2 days</td>\n    </tr>\n    <tr>\n      <th>2</th>\n      <td>3</td>\n      <td>2012-04-01</td>\n      <td>2012-04-03</td>\n      <td>71</td>\n      <td>9+</td>\n      <td>curry</td>\n      <td>21</td>\n      <td>69.95</td>\n      <td>794</td>\n      <td>Mrs</td>\n      <td>Baden-Wuerttemberg</td>\n      <td>2011-04-25</td>\n      <td>1</td>\n      <td>47.265753</td>\n      <td>2 days</td>\n    </tr>\n    <tr>\n      <th>3</th>\n      <td>4</td>\n      <td>2012-04-02</td>\n      <td>NaT</td>\n      <td>22</td>\n      <td>m</td>\n      <td>green</td>\n      <td>14</td>\n      <td>39.90</td>\n      <td>808</td>\n      <td>Mrs</td>\n      <td>Saxony</td>\n      <td>2012-01-04</td>\n      <td>0</td>\n      <td>52.432877</td>\n      <td>NaT</td>\n    </tr>\n    <tr>\n      <th>4</th>\n      <td>5</td>\n      <td>2012-04-02</td>\n      <td>1990-12-31</td>\n      <td>151</td>\n      <td>39</td>\n      <td>black</td>\n      <td>53</td>\n      <td>29.90</td>\n      <td>825</td>\n      <td>Mrs</td>\n      <td>Rhineland-Palatinate</td>\n      <td>2011-02-16</td>\n      <td>0</td>\n      <td>47.758904</td>\n      <td>-7763 days</td>\n    </tr>\n  </tbody>\n</table>\n</div>"
     },
     "execution_count": 31,
     "metadata": {},
     "output_type": "execute_result"
    }
   ],
   "source": [
    "# feature engineering für die delivery_time, also die zeit, die eine bestellung benötigt um geliefert zu werden\n",
    "df['delivery_time'] = (df['deliveryDate'] - df['orderDate'])\n",
    "df.head()"
   ]
  },
  {
   "cell_type": "code",
   "execution_count": 32,
   "metadata": {},
   "outputs": [
    {
     "data": {
      "text/plain": "Empty DataFrame\nColumns: [orderItemID, orderDate, deliveryDate, itemID, size, color, manufacturerID, price, customerID, salutation, state, creationDate, returnShipment, age_at_order, delivery_time]\nIndex: []",
      "text/html": "<div>\n<style scoped>\n    .dataframe tbody tr th:only-of-type {\n        vertical-align: middle;\n    }\n\n    .dataframe tbody tr th {\n        vertical-align: top;\n    }\n\n    .dataframe thead th {\n        text-align: right;\n    }\n</style>\n<table border=\"1\" class=\"dataframe\">\n  <thead>\n    <tr style=\"text-align: right;\">\n      <th></th>\n      <th>orderItemID</th>\n      <th>orderDate</th>\n      <th>deliveryDate</th>\n      <th>itemID</th>\n      <th>size</th>\n      <th>color</th>\n      <th>manufacturerID</th>\n      <th>price</th>\n      <th>customerID</th>\n      <th>salutation</th>\n      <th>state</th>\n      <th>creationDate</th>\n      <th>returnShipment</th>\n      <th>age_at_order</th>\n      <th>delivery_time</th>\n    </tr>\n  </thead>\n  <tbody>\n  </tbody>\n</table>\n</div>"
     },
     "execution_count": 32,
     "metadata": {},
     "output_type": "execute_result"
    }
   ],
   "source": [
    "df[df['deliveryDate'].isnull() & df['returnShipment'] == True]"
   ]
  },
  {
   "cell_type": "code",
   "execution_count": 33,
   "metadata": {},
   "outputs": [
    {
     "data": {
      "text/plain": "2012.0    269340\n2013.0    162712\n1990.0      4630\nName: delivery_year, dtype: int64"
     },
     "execution_count": 33,
     "metadata": {},
     "output_type": "execute_result"
    }
   ],
   "source": [
    "# wir wollen uns die gesamten daten inkl. aller unique ausprägungen genauer anschauen\n",
    "# hierfür exportieren wir die daten in einer .csv datei\n",
    "\n",
    "# zunächst extrahieren wir das jahr aus dem deliveryDate und speichern dieses in eine neue spalte\n",
    "df['delivery_year'] = df['deliveryDate'].dt.year\n",
    "\n",
    "# um doppelte \"nennungen\" (wie zb xl und XL) zu vermeiden, transformieren wir alle daten in lowercase\n",
    "date_counts = df['delivery_year'].value_counts()\n",
    "\n",
    "# hier erstellen wir einen neuen pandas dataframe, der die merkmalsausprägungen (unique) inkl. anzahl enthält\n",
    "result_df = pd.DataFrame({'size': date_counts.index, 'count': date_counts.values})\n",
    "\n",
    "# das ergebnis schreiben wir anschließend in ein .csv file\n",
    "result_df.to_csv('output_files/date_counts.csv', index=False)\n",
    "\n",
    "date_counts\n",
    "#df['delivery_year'].unique()"
   ]
  },
  {
   "cell_type": "code",
   "execution_count": 34,
   "metadata": {},
   "outputs": [
    {
     "data": {
      "text/plain": "        orderItemID  orderDate deliveryDate  itemID size   color  \\\n3                 4 2012-04-02          NaT      22    m   green   \n64               65 2012-04-02          NaT     614   35  silver   \n66               67 2012-04-02          NaT     346   xl   black   \n67               68 2012-04-02          NaT     346   xl   mocca   \n68               69 2012-04-02          NaT     346   xl  purple   \n...             ...        ...          ...     ...  ...     ...   \n481051       481052 2013-03-31          NaT    2493   42    blue   \n481052       481053 2013-03-31          NaT    2694   42    blue   \n481053       481054 2013-03-31          NaT    2663   42    blue   \n481054       481055 2013-03-31          NaT    2666   42  nature   \n481055       481056 2013-03-31          NaT    2666   42  purple   \n\n        manufacturerID   price  customerID salutation               state  \\\n3                   14   39.90         808        Mrs              Saxony   \n64                  48   59.95         924        Mrs             Bavaria   \n66                   5   69.90          72        Mrs  Baden-Wuerttemberg   \n67                   5   69.90          72        Mrs  Baden-Wuerttemberg   \n68                   5   69.90          72        Mrs  Baden-Wuerttemberg   \n...                ...     ...         ...        ...                 ...   \n481051              54  119.90       86558        Mrs        Lower Saxony   \n481052              38   99.90       86558        Mrs        Lower Saxony   \n481053              54  129.90       86558        Mrs        Lower Saxony   \n481054              54   69.90       86558        Mrs        Lower Saxony   \n481055              54   69.90       86558        Mrs        Lower Saxony   \n\n       creationDate  returnShipment  age_at_order delivery_time  delivery_year  \n3        2012-01-04               0     52.432877           NaT            NaN  \n64       2011-10-11               0     68.309589           NaT            NaN  \n66       2011-02-16               0     58.397260           NaT            NaN  \n67       2011-02-16               0     58.397260           NaT            NaN  \n68       2011-02-16               0     58.397260           NaT            NaN  \n...             ...             ...           ...           ...            ...  \n481051   2013-03-31               0     47.660274           NaT            NaN  \n481052   2013-03-31               0     47.660274           NaT            NaN  \n481053   2013-03-31               0     47.660274           NaT            NaN  \n481054   2013-03-31               0     47.660274           NaT            NaN  \n481055   2013-03-31               0     47.660274           NaT            NaN  \n\n[39037 rows x 16 columns]",
      "text/html": "<div>\n<style scoped>\n    .dataframe tbody tr th:only-of-type {\n        vertical-align: middle;\n    }\n\n    .dataframe tbody tr th {\n        vertical-align: top;\n    }\n\n    .dataframe thead th {\n        text-align: right;\n    }\n</style>\n<table border=\"1\" class=\"dataframe\">\n  <thead>\n    <tr style=\"text-align: right;\">\n      <th></th>\n      <th>orderItemID</th>\n      <th>orderDate</th>\n      <th>deliveryDate</th>\n      <th>itemID</th>\n      <th>size</th>\n      <th>color</th>\n      <th>manufacturerID</th>\n      <th>price</th>\n      <th>customerID</th>\n      <th>salutation</th>\n      <th>state</th>\n      <th>creationDate</th>\n      <th>returnShipment</th>\n      <th>age_at_order</th>\n      <th>delivery_time</th>\n      <th>delivery_year</th>\n    </tr>\n  </thead>\n  <tbody>\n    <tr>\n      <th>3</th>\n      <td>4</td>\n      <td>2012-04-02</td>\n      <td>NaT</td>\n      <td>22</td>\n      <td>m</td>\n      <td>green</td>\n      <td>14</td>\n      <td>39.90</td>\n      <td>808</td>\n      <td>Mrs</td>\n      <td>Saxony</td>\n      <td>2012-01-04</td>\n      <td>0</td>\n      <td>52.432877</td>\n      <td>NaT</td>\n      <td>NaN</td>\n    </tr>\n    <tr>\n      <th>64</th>\n      <td>65</td>\n      <td>2012-04-02</td>\n      <td>NaT</td>\n      <td>614</td>\n      <td>35</td>\n      <td>silver</td>\n      <td>48</td>\n      <td>59.95</td>\n      <td>924</td>\n      <td>Mrs</td>\n      <td>Bavaria</td>\n      <td>2011-10-11</td>\n      <td>0</td>\n      <td>68.309589</td>\n      <td>NaT</td>\n      <td>NaN</td>\n    </tr>\n    <tr>\n      <th>66</th>\n      <td>67</td>\n      <td>2012-04-02</td>\n      <td>NaT</td>\n      <td>346</td>\n      <td>xl</td>\n      <td>black</td>\n      <td>5</td>\n      <td>69.90</td>\n      <td>72</td>\n      <td>Mrs</td>\n      <td>Baden-Wuerttemberg</td>\n      <td>2011-02-16</td>\n      <td>0</td>\n      <td>58.397260</td>\n      <td>NaT</td>\n      <td>NaN</td>\n    </tr>\n    <tr>\n      <th>67</th>\n      <td>68</td>\n      <td>2012-04-02</td>\n      <td>NaT</td>\n      <td>346</td>\n      <td>xl</td>\n      <td>mocca</td>\n      <td>5</td>\n      <td>69.90</td>\n      <td>72</td>\n      <td>Mrs</td>\n      <td>Baden-Wuerttemberg</td>\n      <td>2011-02-16</td>\n      <td>0</td>\n      <td>58.397260</td>\n      <td>NaT</td>\n      <td>NaN</td>\n    </tr>\n    <tr>\n      <th>68</th>\n      <td>69</td>\n      <td>2012-04-02</td>\n      <td>NaT</td>\n      <td>346</td>\n      <td>xl</td>\n      <td>purple</td>\n      <td>5</td>\n      <td>69.90</td>\n      <td>72</td>\n      <td>Mrs</td>\n      <td>Baden-Wuerttemberg</td>\n      <td>2011-02-16</td>\n      <td>0</td>\n      <td>58.397260</td>\n      <td>NaT</td>\n      <td>NaN</td>\n    </tr>\n    <tr>\n      <th>...</th>\n      <td>...</td>\n      <td>...</td>\n      <td>...</td>\n      <td>...</td>\n      <td>...</td>\n      <td>...</td>\n      <td>...</td>\n      <td>...</td>\n      <td>...</td>\n      <td>...</td>\n      <td>...</td>\n      <td>...</td>\n      <td>...</td>\n      <td>...</td>\n      <td>...</td>\n      <td>...</td>\n    </tr>\n    <tr>\n      <th>481051</th>\n      <td>481052</td>\n      <td>2013-03-31</td>\n      <td>NaT</td>\n      <td>2493</td>\n      <td>42</td>\n      <td>blue</td>\n      <td>54</td>\n      <td>119.90</td>\n      <td>86558</td>\n      <td>Mrs</td>\n      <td>Lower Saxony</td>\n      <td>2013-03-31</td>\n      <td>0</td>\n      <td>47.660274</td>\n      <td>NaT</td>\n      <td>NaN</td>\n    </tr>\n    <tr>\n      <th>481052</th>\n      <td>481053</td>\n      <td>2013-03-31</td>\n      <td>NaT</td>\n      <td>2694</td>\n      <td>42</td>\n      <td>blue</td>\n      <td>38</td>\n      <td>99.90</td>\n      <td>86558</td>\n      <td>Mrs</td>\n      <td>Lower Saxony</td>\n      <td>2013-03-31</td>\n      <td>0</td>\n      <td>47.660274</td>\n      <td>NaT</td>\n      <td>NaN</td>\n    </tr>\n    <tr>\n      <th>481053</th>\n      <td>481054</td>\n      <td>2013-03-31</td>\n      <td>NaT</td>\n      <td>2663</td>\n      <td>42</td>\n      <td>blue</td>\n      <td>54</td>\n      <td>129.90</td>\n      <td>86558</td>\n      <td>Mrs</td>\n      <td>Lower Saxony</td>\n      <td>2013-03-31</td>\n      <td>0</td>\n      <td>47.660274</td>\n      <td>NaT</td>\n      <td>NaN</td>\n    </tr>\n    <tr>\n      <th>481054</th>\n      <td>481055</td>\n      <td>2013-03-31</td>\n      <td>NaT</td>\n      <td>2666</td>\n      <td>42</td>\n      <td>nature</td>\n      <td>54</td>\n      <td>69.90</td>\n      <td>86558</td>\n      <td>Mrs</td>\n      <td>Lower Saxony</td>\n      <td>2013-03-31</td>\n      <td>0</td>\n      <td>47.660274</td>\n      <td>NaT</td>\n      <td>NaN</td>\n    </tr>\n    <tr>\n      <th>481055</th>\n      <td>481056</td>\n      <td>2013-03-31</td>\n      <td>NaT</td>\n      <td>2666</td>\n      <td>42</td>\n      <td>purple</td>\n      <td>54</td>\n      <td>69.90</td>\n      <td>86558</td>\n      <td>Mrs</td>\n      <td>Lower Saxony</td>\n      <td>2013-03-31</td>\n      <td>0</td>\n      <td>47.660274</td>\n      <td>NaT</td>\n      <td>NaN</td>\n    </tr>\n  </tbody>\n</table>\n<p>39037 rows × 16 columns</p>\n</div>"
     },
     "execution_count": 34,
     "metadata": {},
     "output_type": "execute_result"
    }
   ],
   "source": [
    "# neben der ausgaben von 4630 delivery_year einträgen (1990) wollen wir nun schauen, wie viele delivery_year einträge NULL sind\n",
    "df[df['delivery_year'].isnull()]"
   ]
  },
  {
   "cell_type": "markdown",
   "metadata": {},
   "source": [
    "# Untersuchung orderDate und deliveryDate\n",
    "\n",
    "---"
   ]
  },
  {
   "cell_type": "markdown",
   "metadata": {},
   "source": [
    "**kommentar:**\n",
    "- unsere idee ist es, die spalte deliveryDate zu befüllen, indem wir aus dem datensatz einen median der delivery_time berechnen und diesen auf das orderDate addieren\n",
    "\n",
    "**to-do:**\n",
    "- median berechnen\n",
    "- null values mit berechnung füllen\n",
    "\n",
    "**annahmen:**\n",
    "- orderDate < deliveryDate (normaler usecase)\n",
    "- orderDate > deliveryDate (daten tauschen)\n",
    "- orderDate = deliveryDate (fachlich i.O., instore pickup)\n",
    "- orderDate und kein deliveryDate (orderDate + median(delivery_time))"
   ]
  },
  {
   "cell_type": "markdown",
   "metadata": {},
   "source": [
    "**kommentar:**\n",
    "- wir treffen eine fachliche annahme für orderDate und deliveryDate:\n",
    "    - wenn das deliveryDate größer dem orderDate ist, dann tauschen wir die beiden daten, damit wir die anzahl der datensätze nicht verlieren"
   ]
  },
  {
   "cell_type": "code",
   "execution_count": 35,
   "metadata": {},
   "outputs": [],
   "source": [
    "# wir schauen zunächst, ob das orderDate > deliveryDate ist\n",
    "# und ob die differenz zwischen deliveryDate und orderDate < als 2 wochen ist\n",
    "# die fachliche annahme hierbei ist: aufgrund von feiertagen und verspätung durch die zustellung gewähren wir eine frist von 2 wochen\n",
    "orderDate_greater_deliveryDate = df['orderDate'] > df['deliveryDate']\n",
    "orderDate_greater_deliveryDate &= abs(df['deliveryDate'] - df['orderDate']) <= pd.Timedelta(weeks=2)\n",
    "\n",
    "# wir müssen das orderDate zwischenspeichern, wenn der boolsche wert orderDate_greater_deliveryDate true ist\n",
    "temp_orderDate = df.loc[orderDate_greater_deliveryDate, 'orderDate']\n",
    "\n",
    "# am ende tauschen wir das orderDate und das deliveryDate\n",
    "df.loc[orderDate_greater_deliveryDate, 'orderDate'] = df.loc[orderDate_greater_deliveryDate, 'deliveryDate']\n",
    "df.loc[orderDate_greater_deliveryDate, 'deliveryDate'] = temp_orderDate"
   ]
  },
  {
   "cell_type": "markdown",
   "metadata": {},
   "source": [
    "**kommentar:**\n",
    "- an dieser stelle füllen wir nun das deliveryDate mit unserer annahme (deliveryDate + median)"
   ]
  },
  {
   "cell_type": "code",
   "execution_count": 36,
   "metadata": {},
   "outputs": [],
   "source": [
    "# da wir eine große menge an ausreißern haben, berechnen wir den median der lieferzeit\n",
    "# eine anwendung des mean (also mittelwerts) ist hier nicht zielführend\n",
    "df = df[df['deliveryDate'].dt.year >= 2012]\n",
    "\n",
    "median_date_diff = df['delivery_time'].median()\n",
    "\n",
    "# wir füllen die deliveryDate NaN values\n",
    "df['deliveryDate'].fillna(df['orderDate'] + median_date_diff, inplace=True)"
   ]
  },
  {
   "cell_type": "markdown",
   "metadata": {},
   "source": [
    "**kommentar:**\n",
    "- wir treffen eine weitere fachliche annahme für orderDate und deliveryDate:\n",
    "    - wenn das deliveryDate gleich dem orderDate ist, dann behalten wir diese datensätze ohne sie zu verändern\n",
    "    - wir tun dies, da wir fachlich annehmen, dass wir einen in-store pickup haben, der am selben tag passieren kann"
   ]
  },
  {
   "cell_type": "code",
   "execution_count": 37,
   "metadata": {},
   "outputs": [
    {
     "data": {
      "text/plain": "        orderItemID  orderDate deliveryDate  itemID     size      color  \\\n1207           1208 2012-04-03   2012-04-03     402        m       blue   \n3752           3753 2012-04-05   2012-04-05     334       38       grey   \n8664           8665 2012-04-09   2012-04-09      22        m     purple   \n8665           8666 2012-04-09   2012-04-09      22        l     purple   \n8666           8667 2012-04-09   2012-04-09      33        l        ash   \n...             ...        ...          ...     ...      ...        ...   \n471827       471828 2013-03-26   2013-03-26    2598       43       blue   \n474965       474966 2013-03-28   2013-03-28    2439        m       blue   \n477363       477364 2013-03-29   2013-03-29    3034        m       ecru   \n477364       477365 2013-03-29   2013-03-29    2640  unsized  aubergine   \n477365       477366 2013-03-29   2013-03-29    2362       42       blue   \n\n        manufacturerID  price  customerID salutation                   state  \\\n1207                46   29.9         644        Mrs  North Rhine-Westphalia   \n3752                72   99.9        1545        Mrs  North Rhine-Westphalia   \n8664                14   39.9        4745        Mrs                  Berlin   \n8665                14   39.9        4745        Mrs                  Berlin   \n8666                 5   69.9        4745        Mrs                  Berlin   \n...                ...    ...         ...        ...                     ...   \n471827               1  149.9       48532        Mrs  North Rhine-Westphalia   \n474965              36   99.9       69812        Mrs            Lower Saxony   \n477363              11   49.9       40699        Mrs  North Rhine-Westphalia   \n477364              41   19.9       40699        Mrs  North Rhine-Westphalia   \n477365              41   49.9       40699        Mrs  North Rhine-Westphalia   \n\n       creationDate  returnShipment  age_at_order delivery_time  delivery_year  \n1207     2012-02-19               1     44.095890        0 days         2012.0  \n3752     2011-02-16               0     53.778082        0 days         2012.0  \n8664     2011-09-22               1     47.660274        0 days         2012.0  \n8665     2011-09-22               1     47.660274        0 days         2012.0  \n8666     2011-09-22               1     47.660274        0 days         2012.0  \n...             ...             ...           ...           ...            ...  \n471827   2013-03-11               0     48.156164        0 days         2013.0  \n474965   2011-05-24               1     49.610959        0 days         2013.0  \n477363   2012-03-03               0     47.660274        0 days         2013.0  \n477364   2012-03-03               0     47.660274        0 days         2013.0  \n477365   2012-03-03               0     47.660274        0 days         2013.0  \n\n[1333 rows x 16 columns]",
      "text/html": "<div>\n<style scoped>\n    .dataframe tbody tr th:only-of-type {\n        vertical-align: middle;\n    }\n\n    .dataframe tbody tr th {\n        vertical-align: top;\n    }\n\n    .dataframe thead th {\n        text-align: right;\n    }\n</style>\n<table border=\"1\" class=\"dataframe\">\n  <thead>\n    <tr style=\"text-align: right;\">\n      <th></th>\n      <th>orderItemID</th>\n      <th>orderDate</th>\n      <th>deliveryDate</th>\n      <th>itemID</th>\n      <th>size</th>\n      <th>color</th>\n      <th>manufacturerID</th>\n      <th>price</th>\n      <th>customerID</th>\n      <th>salutation</th>\n      <th>state</th>\n      <th>creationDate</th>\n      <th>returnShipment</th>\n      <th>age_at_order</th>\n      <th>delivery_time</th>\n      <th>delivery_year</th>\n    </tr>\n  </thead>\n  <tbody>\n    <tr>\n      <th>1207</th>\n      <td>1208</td>\n      <td>2012-04-03</td>\n      <td>2012-04-03</td>\n      <td>402</td>\n      <td>m</td>\n      <td>blue</td>\n      <td>46</td>\n      <td>29.9</td>\n      <td>644</td>\n      <td>Mrs</td>\n      <td>North Rhine-Westphalia</td>\n      <td>2012-02-19</td>\n      <td>1</td>\n      <td>44.095890</td>\n      <td>0 days</td>\n      <td>2012.0</td>\n    </tr>\n    <tr>\n      <th>3752</th>\n      <td>3753</td>\n      <td>2012-04-05</td>\n      <td>2012-04-05</td>\n      <td>334</td>\n      <td>38</td>\n      <td>grey</td>\n      <td>72</td>\n      <td>99.9</td>\n      <td>1545</td>\n      <td>Mrs</td>\n      <td>North Rhine-Westphalia</td>\n      <td>2011-02-16</td>\n      <td>0</td>\n      <td>53.778082</td>\n      <td>0 days</td>\n      <td>2012.0</td>\n    </tr>\n    <tr>\n      <th>8664</th>\n      <td>8665</td>\n      <td>2012-04-09</td>\n      <td>2012-04-09</td>\n      <td>22</td>\n      <td>m</td>\n      <td>purple</td>\n      <td>14</td>\n      <td>39.9</td>\n      <td>4745</td>\n      <td>Mrs</td>\n      <td>Berlin</td>\n      <td>2011-09-22</td>\n      <td>1</td>\n      <td>47.660274</td>\n      <td>0 days</td>\n      <td>2012.0</td>\n    </tr>\n    <tr>\n      <th>8665</th>\n      <td>8666</td>\n      <td>2012-04-09</td>\n      <td>2012-04-09</td>\n      <td>22</td>\n      <td>l</td>\n      <td>purple</td>\n      <td>14</td>\n      <td>39.9</td>\n      <td>4745</td>\n      <td>Mrs</td>\n      <td>Berlin</td>\n      <td>2011-09-22</td>\n      <td>1</td>\n      <td>47.660274</td>\n      <td>0 days</td>\n      <td>2012.0</td>\n    </tr>\n    <tr>\n      <th>8666</th>\n      <td>8667</td>\n      <td>2012-04-09</td>\n      <td>2012-04-09</td>\n      <td>33</td>\n      <td>l</td>\n      <td>ash</td>\n      <td>5</td>\n      <td>69.9</td>\n      <td>4745</td>\n      <td>Mrs</td>\n      <td>Berlin</td>\n      <td>2011-09-22</td>\n      <td>1</td>\n      <td>47.660274</td>\n      <td>0 days</td>\n      <td>2012.0</td>\n    </tr>\n    <tr>\n      <th>...</th>\n      <td>...</td>\n      <td>...</td>\n      <td>...</td>\n      <td>...</td>\n      <td>...</td>\n      <td>...</td>\n      <td>...</td>\n      <td>...</td>\n      <td>...</td>\n      <td>...</td>\n      <td>...</td>\n      <td>...</td>\n      <td>...</td>\n      <td>...</td>\n      <td>...</td>\n      <td>...</td>\n    </tr>\n    <tr>\n      <th>471827</th>\n      <td>471828</td>\n      <td>2013-03-26</td>\n      <td>2013-03-26</td>\n      <td>2598</td>\n      <td>43</td>\n      <td>blue</td>\n      <td>1</td>\n      <td>149.9</td>\n      <td>48532</td>\n      <td>Mrs</td>\n      <td>North Rhine-Westphalia</td>\n      <td>2013-03-11</td>\n      <td>0</td>\n      <td>48.156164</td>\n      <td>0 days</td>\n      <td>2013.0</td>\n    </tr>\n    <tr>\n      <th>474965</th>\n      <td>474966</td>\n      <td>2013-03-28</td>\n      <td>2013-03-28</td>\n      <td>2439</td>\n      <td>m</td>\n      <td>blue</td>\n      <td>36</td>\n      <td>99.9</td>\n      <td>69812</td>\n      <td>Mrs</td>\n      <td>Lower Saxony</td>\n      <td>2011-05-24</td>\n      <td>1</td>\n      <td>49.610959</td>\n      <td>0 days</td>\n      <td>2013.0</td>\n    </tr>\n    <tr>\n      <th>477363</th>\n      <td>477364</td>\n      <td>2013-03-29</td>\n      <td>2013-03-29</td>\n      <td>3034</td>\n      <td>m</td>\n      <td>ecru</td>\n      <td>11</td>\n      <td>49.9</td>\n      <td>40699</td>\n      <td>Mrs</td>\n      <td>North Rhine-Westphalia</td>\n      <td>2012-03-03</td>\n      <td>0</td>\n      <td>47.660274</td>\n      <td>0 days</td>\n      <td>2013.0</td>\n    </tr>\n    <tr>\n      <th>477364</th>\n      <td>477365</td>\n      <td>2013-03-29</td>\n      <td>2013-03-29</td>\n      <td>2640</td>\n      <td>unsized</td>\n      <td>aubergine</td>\n      <td>41</td>\n      <td>19.9</td>\n      <td>40699</td>\n      <td>Mrs</td>\n      <td>North Rhine-Westphalia</td>\n      <td>2012-03-03</td>\n      <td>0</td>\n      <td>47.660274</td>\n      <td>0 days</td>\n      <td>2013.0</td>\n    </tr>\n    <tr>\n      <th>477365</th>\n      <td>477366</td>\n      <td>2013-03-29</td>\n      <td>2013-03-29</td>\n      <td>2362</td>\n      <td>42</td>\n      <td>blue</td>\n      <td>41</td>\n      <td>49.9</td>\n      <td>40699</td>\n      <td>Mrs</td>\n      <td>North Rhine-Westphalia</td>\n      <td>2012-03-03</td>\n      <td>0</td>\n      <td>47.660274</td>\n      <td>0 days</td>\n      <td>2013.0</td>\n    </tr>\n  </tbody>\n</table>\n<p>1333 rows × 16 columns</p>\n</div>"
     },
     "execution_count": 37,
     "metadata": {},
     "output_type": "execute_result"
    }
   ],
   "source": [
    "# um zu validieren, bei wie vielen zeilen dies eintrifft, fragen wir auf gleichheit ab\n",
    "df[(df['orderDate'] == df['deliveryDate'])]"
   ]
  },
  {
   "cell_type": "markdown",
   "metadata": {},
   "source": [
    "# Binning, String Manipulation und Datumsextraktion\n",
    "\n",
    "---"
   ]
  },
  {
   "cell_type": "markdown",
   "metadata": {},
   "source": [
    "**kommentar:**\n",
    "- wir schauen uns die spalten salutation und color an (unique ausprägungen)\n"
   ]
  },
  {
   "cell_type": "code",
   "execution_count": 38,
   "metadata": {},
   "outputs": [
    {
     "data": {
      "text/plain": "array(['Mrs', 'Mr', 'Family', 'not reported', 'Company'], dtype=object)"
     },
     "execution_count": 38,
     "metadata": {},
     "output_type": "execute_result"
    }
   ],
   "source": [
    "df['salutation'].unique()"
   ]
  },
  {
   "cell_type": "markdown",
   "metadata": {},
   "source": [
    "**kommentar:**\n",
    "- hier können wir keine weiteren anpassungen vornehmen\n",
    "- zur vereinheitlichung machen wir alle strings lowercase"
   ]
  },
  {
   "cell_type": "code",
   "execution_count": 39,
   "metadata": {},
   "outputs": [],
   "source": [
    "df['salutation'] = df['salutation'].str.lower()"
   ]
  },
  {
   "cell_type": "markdown",
   "metadata": {},
   "source": [
    "**kommentar:**\n",
    "- jetzt müssen wir uns um die farben kümmern\n",
    "- hierzu wollen wir einmal alle ausprägungen betrachten\n",
    "- als feature wollen wir ein mapping (binning) vornehmen, indem wir die farben bestimmten \"primärfarben\" zuweisen\n",
    "\n",
    "**to-do:**\n",
    "- unique farben anschauen\n",
    "- mapping"
   ]
  },
  {
   "cell_type": "code",
   "execution_count": 40,
   "metadata": {},
   "outputs": [
    {
     "data": {
      "text/plain": "array(['denim', 'ocher', 'curry', 'brown', 'red', 'green', 'mocca',\n       'black', 'anthracite', 'olive', 'petrol', 'blue', 'grey', 'beige',\n       'ecru', 'turquoise', 'magenta', 'purple', 'pink', 'khaki', 'navy',\n       'habana', 'silver', 'white', 'nature', 'stained', 'orange',\n       'azure', 'apricot', 'berry', 'ash', 'hibiscus', 'fuchsia', 'blau',\n       'dark denim', 'mint', 'mango', 'ivory', 'yellow', 'bordeaux',\n       'pallid', 'ancient', 'baltic blue', 'aquamarine', 'brwon',\n       'aubergine', 'almond', 'aqua', 'dark garnet', 'avocado', 'creme',\n       'champagner', 'cortina mocca', 'currant purple', 'cognac',\n       'aviator', 'gold', 'ebony', 'cobalt blue', 'kanel', 'curled',\n       'caramel', 'antique pink', 'dark grey', 'darkblue', 'copper coin',\n       'terracotta', 'basalt', 'amethyst', 'coral', 'jade', 'opal',\n       'striped', 'mahagoni', 'floral', 'dark navy', 'dark oliv', nan,\n       'vanille', 'ingwer', 'iron', 'graphite', 'leopard', 'oliv',\n       'bronze', 'crimson', 'lemon', 'perlmutt'], dtype=object)"
     },
     "execution_count": 40,
     "metadata": {},
     "output_type": "execute_result"
    }
   ],
   "source": [
    "df['color'].unique()"
   ]
  },
  {
   "cell_type": "code",
   "execution_count": 41,
   "metadata": {},
   "outputs": [],
   "source": [
    "df['color'] = df['color'].str.lower()"
   ]
  },
  {
   "cell_type": "code",
   "execution_count": 42,
   "metadata": {},
   "outputs": [],
   "source": [
    "# hier mappen wir die farben für die korrekte zuweisung auf die primärfarben\n",
    "color_mapping = {\n",
    "    'blue': ['denim', 'blue', 'navy', 'azure', 'baltic blue', 'dark denim', 'darkblue', 'cobalt blue', 'aquamarine', 'turquoise'],\n",
    "    'brown': ['ocher', 'curry', 'brown', 'mocca', 'havana', 'khaki', 'brwon', 'kanel', 'cortina mocca', 'caramel', 'dark brown', 'copper coin', 'basalt', 'mahagoni', 'copper coin'],\n",
    "    'red': ['red', 'berry', 'hibiscus', 'bordeaux', 'pallid', 'ancient', 'currant purple', 'antique pink', 'crimson'],\n",
    "    'green': ['green', 'olive', 'petrol', 'khaki', 'avoacado', 'dark oliv', 'oliv', 'jade'],\n",
    "    'grey': ['anthracite', 'grey', 'ash', 'dark grey', 'graphite', 'silver'],\n",
    "    'beige': ['beige', 'ecru', 'nature', 'creme', 'vanille', 'ingwer', 'leopard'],\n",
    "    'black': ['black', 'ebony'],\n",
    "    'white': ['white', 'perlmutt'],\n",
    "    'yellow': ['yellow', 'lemon', 'orange', 'gold'],\n",
    "    'rose': ['pink', 'fuchsia', 'antique pink', 'magenta', 'purple', 'aubergine', 'amethyst'],\n",
    "    'pattern': ['stained', 'floral', 'striped']\n",
    "}"
   ]
  },
  {
   "cell_type": "code",
   "execution_count": 43,
   "metadata": {},
   "outputs": [],
   "source": [
    "# unsere eigene mapping funktion um die oben erstellte mapping struktur auf das data frame anzuwenden.\n",
    "def map_color_to_category(color):\n",
    "   return next((category for category, color_list in color_mapping.items() if color in color_list), 'Unknown')\n",
    "\n",
    "# anwendung unserer eigenen mapping funktion auf die color spalte, welche das ergebnis der funktion in eine neue color_cat spalte schreibt\n",
    "df['color_category'] = df['color'].apply(map_color_to_category)"
   ]
  },
  {
   "cell_type": "code",
   "execution_count": 44,
   "metadata": {},
   "outputs": [],
   "source": [
    "# in diesem schritt droppen wir die anderen farben, da wir unser eigenes feature abgeleitet haben\n",
    "df.drop(columns=['color'], inplace=True)"
   ]
  },
  {
   "cell_type": "markdown",
   "metadata": {},
   "source": [
    "**kommentar:**\n",
    "- jetzt schauen wir uns die spalte 'size' an\n",
    "\n",
    "**to-do:**\n",
    "- untersuchung der ausprägungen in 'size'\n",
    "- entscheidung über mögliche bins treffen"
   ]
  },
  {
   "cell_type": "code",
   "execution_count": 45,
   "metadata": {},
   "outputs": [],
   "source": [
    "# wir wollen uns die gesamten daten inkl. aller unique ausprägungen genauer anschauen\n",
    "# hierfür exportieren wir die daten in einer .csv datei\n",
    "\n",
    "# um doppelte \"nennungen\" (wie zb xl und XL) zu vermeiden, transformieren wir alle daten in lowercase\n",
    "df['size_feature'] = df['size'].str.lower()\n",
    "id_counts = df['size_feature'].value_counts()\n",
    "\n",
    "# hier erstellen wir einen neuen pandas dataframe, der die merkmalsausprägungen (unique) inkl. anzahl enthält\n",
    "result_df = pd.DataFrame({'size': id_counts.index, 'count': id_counts.values})\n",
    "\n",
    "# das ergebnis schreiben wir anschließend in ein .csv file\n",
    "result_df.to_csv('output_files/size_counts.csv', index=False)"
   ]
  },
  {
   "cell_type": "markdown",
   "metadata": {},
   "source": [
    "**kommentar:**\n",
    "- da wir sehr viele ausprägungen in der spalte 'size' haben, wollen wir bins anlegen\n",
    "- dafür müssen wir alle werte in die von uns erstellen bins einsortieren\n",
    "\n",
    "**to-do:**\n",
    "- bins erstellen\n",
    "- einsortieren der unique values"
   ]
  },
  {
   "cell_type": "code",
   "execution_count": 46,
   "metadata": {},
   "outputs": [
    {
     "name": "stderr",
     "output_type": "stream",
     "text": [
      "C:\\Users\\JustusDonnerDörffler\\AppData\\Local\\Temp\\ipykernel_20116\\13327710.py:2: FutureWarning: The default value of regex will change from True to False in a future version. In addition, single character regular expressions will *not* be treated as literal strings when regex=True.\n",
      "  df['size_feature'] = df['size_feature'].str.replace('+', '')\n",
      "C:\\Users\\JustusDonnerDörffler\\AppData\\Local\\Temp\\ipykernel_20116\\13327710.py:15: FutureWarning: The default value of regex will change from True to False in a future version. In addition, single character regular expressions will *not* be treated as literal strings when regex=True.\n",
      "  df['size_feature'] = df['size_feature'].str.replace('+', '')\n"
     ]
    }
   ],
   "source": [
    "# hier erstellen wir eine neue feature spalte\n",
    "df['size_feature'] = df['size_feature'].str.replace('+', '')\n",
    "\n",
    "size_mapping = {\n",
    "    'unsized': ['unsized'],\n",
    "    'xs': ['1', '2', '3', 'xs', '4', '25', '26', '27', '28', '29', '30', '31', '32', '33', '34', '105', '110', '116', '122'],\n",
    "    's': ['s', '5', '35', '18', '36', '37', '128', '2931'],\n",
    "    'm': ['m', '6', '7', '19', '38', '39', '20', '40', '80', '85', '140', '3132'],\n",
    "    'l': ['l', '8', '9', '10', '11', '41', '21', '42', '43', '22', '44', '76', '84', '88', '45', '90', '152', '3332', '3334', '3432', '3434'],\n",
    "    'xl': ['xl', '23', '46', '12', '47', '13', '164', '92', '95', '96'],\n",
    "    'xxl': ['xxxl', 'xxl', '3632', '3634', '3832', '3834', '4034', '14', '49', '176', '24', '48', '50', '100', '4032', '4232', '52', '54', '56', '58']\n",
    "}\n",
    "\n",
    "# hiermit entfernen wir das '+', da dieses keinen mehrwert bietet\n",
    "df['size_feature'] = df['size_feature'].str.replace('+', '')\n",
    "\n",
    "# hiermit mappen wir die bins auf die einträge des dataframe\n",
    "df['size_feature'] = df['size_feature'].map({size: key for key, sizes in size_mapping.items() for size in sizes})\n",
    "\n",
    "# zum schluss droppen wir noch die spalte size und behalten unsere neue feature spalte\n",
    "df = df.drop(columns=['size'])"
   ]
  },
  {
   "cell_type": "code",
   "execution_count": 47,
   "metadata": {},
   "outputs": [
    {
     "data": {
      "text/plain": "   orderItemID  orderDate deliveryDate  itemID  manufacturerID  price  \\\n0            1 2012-04-01   2012-04-03     186              25  69.90   \n1            2 2012-04-01   2012-04-03      71              21  69.95   \n2            3 2012-04-01   2012-04-03      71              21  69.95   \n7            8 2012-04-02   2012-04-03      32               3  21.90   \n8            9 2012-04-02   2012-04-03      32               3  21.90   \n\n   customerID salutation                   state creationDate  returnShipment  \\\n0         794        mrs      Baden-Wuerttemberg   2011-04-25               0   \n1         794        mrs      Baden-Wuerttemberg   2011-04-25               1   \n2         794        mrs      Baden-Wuerttemberg   2011-04-25               1   \n7         850        mrs  North Rhine-Westphalia   2011-02-16               1   \n8         850        mrs  North Rhine-Westphalia   2011-02-16               1   \n\n   age_at_order delivery_time  delivery_year color_category size_feature  \n0     47.265753        2 days         2012.0           blue            m  \n1     47.265753        2 days         2012.0          brown            l  \n2     47.265753        2 days         2012.0          brown            l  \n7     64.027397        1 days         2012.0          brown          xxl  \n8     64.027397        1 days         2012.0            red          xxl  ",
      "text/html": "<div>\n<style scoped>\n    .dataframe tbody tr th:only-of-type {\n        vertical-align: middle;\n    }\n\n    .dataframe tbody tr th {\n        vertical-align: top;\n    }\n\n    .dataframe thead th {\n        text-align: right;\n    }\n</style>\n<table border=\"1\" class=\"dataframe\">\n  <thead>\n    <tr style=\"text-align: right;\">\n      <th></th>\n      <th>orderItemID</th>\n      <th>orderDate</th>\n      <th>deliveryDate</th>\n      <th>itemID</th>\n      <th>manufacturerID</th>\n      <th>price</th>\n      <th>customerID</th>\n      <th>salutation</th>\n      <th>state</th>\n      <th>creationDate</th>\n      <th>returnShipment</th>\n      <th>age_at_order</th>\n      <th>delivery_time</th>\n      <th>delivery_year</th>\n      <th>color_category</th>\n      <th>size_feature</th>\n    </tr>\n  </thead>\n  <tbody>\n    <tr>\n      <th>0</th>\n      <td>1</td>\n      <td>2012-04-01</td>\n      <td>2012-04-03</td>\n      <td>186</td>\n      <td>25</td>\n      <td>69.90</td>\n      <td>794</td>\n      <td>mrs</td>\n      <td>Baden-Wuerttemberg</td>\n      <td>2011-04-25</td>\n      <td>0</td>\n      <td>47.265753</td>\n      <td>2 days</td>\n      <td>2012.0</td>\n      <td>blue</td>\n      <td>m</td>\n    </tr>\n    <tr>\n      <th>1</th>\n      <td>2</td>\n      <td>2012-04-01</td>\n      <td>2012-04-03</td>\n      <td>71</td>\n      <td>21</td>\n      <td>69.95</td>\n      <td>794</td>\n      <td>mrs</td>\n      <td>Baden-Wuerttemberg</td>\n      <td>2011-04-25</td>\n      <td>1</td>\n      <td>47.265753</td>\n      <td>2 days</td>\n      <td>2012.0</td>\n      <td>brown</td>\n      <td>l</td>\n    </tr>\n    <tr>\n      <th>2</th>\n      <td>3</td>\n      <td>2012-04-01</td>\n      <td>2012-04-03</td>\n      <td>71</td>\n      <td>21</td>\n      <td>69.95</td>\n      <td>794</td>\n      <td>mrs</td>\n      <td>Baden-Wuerttemberg</td>\n      <td>2011-04-25</td>\n      <td>1</td>\n      <td>47.265753</td>\n      <td>2 days</td>\n      <td>2012.0</td>\n      <td>brown</td>\n      <td>l</td>\n    </tr>\n    <tr>\n      <th>7</th>\n      <td>8</td>\n      <td>2012-04-02</td>\n      <td>2012-04-03</td>\n      <td>32</td>\n      <td>3</td>\n      <td>21.90</td>\n      <td>850</td>\n      <td>mrs</td>\n      <td>North Rhine-Westphalia</td>\n      <td>2011-02-16</td>\n      <td>1</td>\n      <td>64.027397</td>\n      <td>1 days</td>\n      <td>2012.0</td>\n      <td>brown</td>\n      <td>xxl</td>\n    </tr>\n    <tr>\n      <th>8</th>\n      <td>9</td>\n      <td>2012-04-02</td>\n      <td>2012-04-03</td>\n      <td>32</td>\n      <td>3</td>\n      <td>21.90</td>\n      <td>850</td>\n      <td>mrs</td>\n      <td>North Rhine-Westphalia</td>\n      <td>2011-02-16</td>\n      <td>1</td>\n      <td>64.027397</td>\n      <td>1 days</td>\n      <td>2012.0</td>\n      <td>red</td>\n      <td>xxl</td>\n    </tr>\n  </tbody>\n</table>\n</div>"
     },
     "execution_count": 47,
     "metadata": {},
     "output_type": "execute_result"
    }
   ],
   "source": [
    "df.head()"
   ]
  },
  {
   "cell_type": "markdown",
   "metadata": {},
   "source": [
    "**kommentar:**\n",
    "- jetzt wollen wir für die spalte 'state' ebenfalls ein binning vornehmen\n",
    "\n",
    "**to-do:**\n",
    "- binning für states nach regionen"
   ]
  },
  {
   "cell_type": "code",
   "execution_count": 48,
   "metadata": {},
   "outputs": [],
   "source": [
    "mappings_state = {\n",
    "    'north': [\n",
    "        'Bremen',\n",
    "        'Hamburg',\n",
    "        'Mecklenburg-Western Pomerania',\n",
    "        'Schleswig-Holstein',\n",
    "        'Lower Saxony'\n",
    "    ],\n",
    "    'south': [\n",
    "        'Baden-Wuerttemberg',\n",
    "        'Bavaria',\n",
    "    ],\n",
    "    'east': [\n",
    "        'Berlin',\n",
    "        'Brandenburg',\n",
    "        'Saxony',\n",
    "        'Saxony-Anhalt',\n",
    "        'Thuringia'\n",
    "    ],\n",
    "    'west': [\n",
    "        'North Rhine-Westphalia',\n",
    "        'Rhineland-Palatinate',\n",
    "        'Saarland',\n",
    "        'Hesse'\n",
    "    ]\n",
    "}\n",
    "\n",
    "reverse_mapping = {state: location for location, states in mappings_state.items() for state in states}\n",
    "df['state_loc'] = df['state'].map(reverse_mapping)"
   ]
  },
  {
   "cell_type": "code",
   "execution_count": 49,
   "metadata": {},
   "outputs": [],
   "source": [
    "df.drop(columns=['state'], inplace=True)"
   ]
  },
  {
   "cell_type": "code",
   "execution_count": 50,
   "metadata": {},
   "outputs": [
    {
     "data": {
      "text/plain": "   orderItemID  orderDate deliveryDate  itemID  manufacturerID  price  \\\n0            1 2012-04-01   2012-04-03     186              25  69.90   \n1            2 2012-04-01   2012-04-03      71              21  69.95   \n2            3 2012-04-01   2012-04-03      71              21  69.95   \n7            8 2012-04-02   2012-04-03      32               3  21.90   \n8            9 2012-04-02   2012-04-03      32               3  21.90   \n\n   customerID salutation creationDate  returnShipment  age_at_order  \\\n0         794        mrs   2011-04-25               0     47.265753   \n1         794        mrs   2011-04-25               1     47.265753   \n2         794        mrs   2011-04-25               1     47.265753   \n7         850        mrs   2011-02-16               1     64.027397   \n8         850        mrs   2011-02-16               1     64.027397   \n\n  delivery_time  delivery_year color_category size_feature state_loc  \n0        2 days         2012.0           blue            m     south  \n1        2 days         2012.0          brown            l     south  \n2        2 days         2012.0          brown            l     south  \n7        1 days         2012.0          brown          xxl      west  \n8        1 days         2012.0            red          xxl      west  ",
      "text/html": "<div>\n<style scoped>\n    .dataframe tbody tr th:only-of-type {\n        vertical-align: middle;\n    }\n\n    .dataframe tbody tr th {\n        vertical-align: top;\n    }\n\n    .dataframe thead th {\n        text-align: right;\n    }\n</style>\n<table border=\"1\" class=\"dataframe\">\n  <thead>\n    <tr style=\"text-align: right;\">\n      <th></th>\n      <th>orderItemID</th>\n      <th>orderDate</th>\n      <th>deliveryDate</th>\n      <th>itemID</th>\n      <th>manufacturerID</th>\n      <th>price</th>\n      <th>customerID</th>\n      <th>salutation</th>\n      <th>creationDate</th>\n      <th>returnShipment</th>\n      <th>age_at_order</th>\n      <th>delivery_time</th>\n      <th>delivery_year</th>\n      <th>color_category</th>\n      <th>size_feature</th>\n      <th>state_loc</th>\n    </tr>\n  </thead>\n  <tbody>\n    <tr>\n      <th>0</th>\n      <td>1</td>\n      <td>2012-04-01</td>\n      <td>2012-04-03</td>\n      <td>186</td>\n      <td>25</td>\n      <td>69.90</td>\n      <td>794</td>\n      <td>mrs</td>\n      <td>2011-04-25</td>\n      <td>0</td>\n      <td>47.265753</td>\n      <td>2 days</td>\n      <td>2012.0</td>\n      <td>blue</td>\n      <td>m</td>\n      <td>south</td>\n    </tr>\n    <tr>\n      <th>1</th>\n      <td>2</td>\n      <td>2012-04-01</td>\n      <td>2012-04-03</td>\n      <td>71</td>\n      <td>21</td>\n      <td>69.95</td>\n      <td>794</td>\n      <td>mrs</td>\n      <td>2011-04-25</td>\n      <td>1</td>\n      <td>47.265753</td>\n      <td>2 days</td>\n      <td>2012.0</td>\n      <td>brown</td>\n      <td>l</td>\n      <td>south</td>\n    </tr>\n    <tr>\n      <th>2</th>\n      <td>3</td>\n      <td>2012-04-01</td>\n      <td>2012-04-03</td>\n      <td>71</td>\n      <td>21</td>\n      <td>69.95</td>\n      <td>794</td>\n      <td>mrs</td>\n      <td>2011-04-25</td>\n      <td>1</td>\n      <td>47.265753</td>\n      <td>2 days</td>\n      <td>2012.0</td>\n      <td>brown</td>\n      <td>l</td>\n      <td>south</td>\n    </tr>\n    <tr>\n      <th>7</th>\n      <td>8</td>\n      <td>2012-04-02</td>\n      <td>2012-04-03</td>\n      <td>32</td>\n      <td>3</td>\n      <td>21.90</td>\n      <td>850</td>\n      <td>mrs</td>\n      <td>2011-02-16</td>\n      <td>1</td>\n      <td>64.027397</td>\n      <td>1 days</td>\n      <td>2012.0</td>\n      <td>brown</td>\n      <td>xxl</td>\n      <td>west</td>\n    </tr>\n    <tr>\n      <th>8</th>\n      <td>9</td>\n      <td>2012-04-02</td>\n      <td>2012-04-03</td>\n      <td>32</td>\n      <td>3</td>\n      <td>21.90</td>\n      <td>850</td>\n      <td>mrs</td>\n      <td>2011-02-16</td>\n      <td>1</td>\n      <td>64.027397</td>\n      <td>1 days</td>\n      <td>2012.0</td>\n      <td>red</td>\n      <td>xxl</td>\n      <td>west</td>\n    </tr>\n  </tbody>\n</table>\n</div>"
     },
     "execution_count": 50,
     "metadata": {},
     "output_type": "execute_result"
    }
   ],
   "source": [
    "df.head()"
   ]
  },
  {
   "cell_type": "markdown",
   "metadata": {},
   "source": [
    "**kommentar:**\n",
    "- wir wollen versuchen ein weiteres feature hinzuzufügen, welches sich auf das alter des accounts bezieht (creationDate)\n",
    "\n",
    "**to-do:**\n",
    "- neue spalte 'account_age_at_order'\n",
    "- alte spalte 'creationDate' entfernen"
   ]
  },
  {
   "cell_type": "code",
   "execution_count": 51,
   "metadata": {},
   "outputs": [],
   "source": [
    "# erstellen eines neuen features (alter des accounts) indem wir das creationDate vom orderDate subtrahieren\n",
    "df['account_age_at_order'] = (df['orderDate'] - df['creationDate'])"
   ]
  },
  {
   "cell_type": "code",
   "execution_count": 52,
   "metadata": {},
   "outputs": [],
   "source": [
    "# drop der spalte creationDate, da wir ein feature abgeleitet haben\n",
    "df.drop(columns=['creationDate'], inplace=True)"
   ]
  },
  {
   "cell_type": "code",
   "execution_count": 53,
   "metadata": {},
   "outputs": [
    {
     "data": {
      "text/plain": "   orderItemID  orderDate deliveryDate  itemID  manufacturerID  price  \\\n0            1 2012-04-01   2012-04-03     186              25  69.90   \n1            2 2012-04-01   2012-04-03      71              21  69.95   \n2            3 2012-04-01   2012-04-03      71              21  69.95   \n7            8 2012-04-02   2012-04-03      32               3  21.90   \n8            9 2012-04-02   2012-04-03      32               3  21.90   \n\n   customerID salutation  returnShipment  age_at_order delivery_time  \\\n0         794        mrs               0     47.265753        2 days   \n1         794        mrs               1     47.265753        2 days   \n2         794        mrs               1     47.265753        2 days   \n7         850        mrs               1     64.027397        1 days   \n8         850        mrs               1     64.027397        1 days   \n\n   delivery_year color_category size_feature state_loc account_age_at_order  \n0         2012.0           blue            m     south             342 days  \n1         2012.0          brown            l     south             342 days  \n2         2012.0          brown            l     south             342 days  \n7         2012.0          brown          xxl      west             411 days  \n8         2012.0            red          xxl      west             411 days  ",
      "text/html": "<div>\n<style scoped>\n    .dataframe tbody tr th:only-of-type {\n        vertical-align: middle;\n    }\n\n    .dataframe tbody tr th {\n        vertical-align: top;\n    }\n\n    .dataframe thead th {\n        text-align: right;\n    }\n</style>\n<table border=\"1\" class=\"dataframe\">\n  <thead>\n    <tr style=\"text-align: right;\">\n      <th></th>\n      <th>orderItemID</th>\n      <th>orderDate</th>\n      <th>deliveryDate</th>\n      <th>itemID</th>\n      <th>manufacturerID</th>\n      <th>price</th>\n      <th>customerID</th>\n      <th>salutation</th>\n      <th>returnShipment</th>\n      <th>age_at_order</th>\n      <th>delivery_time</th>\n      <th>delivery_year</th>\n      <th>color_category</th>\n      <th>size_feature</th>\n      <th>state_loc</th>\n      <th>account_age_at_order</th>\n    </tr>\n  </thead>\n  <tbody>\n    <tr>\n      <th>0</th>\n      <td>1</td>\n      <td>2012-04-01</td>\n      <td>2012-04-03</td>\n      <td>186</td>\n      <td>25</td>\n      <td>69.90</td>\n      <td>794</td>\n      <td>mrs</td>\n      <td>0</td>\n      <td>47.265753</td>\n      <td>2 days</td>\n      <td>2012.0</td>\n      <td>blue</td>\n      <td>m</td>\n      <td>south</td>\n      <td>342 days</td>\n    </tr>\n    <tr>\n      <th>1</th>\n      <td>2</td>\n      <td>2012-04-01</td>\n      <td>2012-04-03</td>\n      <td>71</td>\n      <td>21</td>\n      <td>69.95</td>\n      <td>794</td>\n      <td>mrs</td>\n      <td>1</td>\n      <td>47.265753</td>\n      <td>2 days</td>\n      <td>2012.0</td>\n      <td>brown</td>\n      <td>l</td>\n      <td>south</td>\n      <td>342 days</td>\n    </tr>\n    <tr>\n      <th>2</th>\n      <td>3</td>\n      <td>2012-04-01</td>\n      <td>2012-04-03</td>\n      <td>71</td>\n      <td>21</td>\n      <td>69.95</td>\n      <td>794</td>\n      <td>mrs</td>\n      <td>1</td>\n      <td>47.265753</td>\n      <td>2 days</td>\n      <td>2012.0</td>\n      <td>brown</td>\n      <td>l</td>\n      <td>south</td>\n      <td>342 days</td>\n    </tr>\n    <tr>\n      <th>7</th>\n      <td>8</td>\n      <td>2012-04-02</td>\n      <td>2012-04-03</td>\n      <td>32</td>\n      <td>3</td>\n      <td>21.90</td>\n      <td>850</td>\n      <td>mrs</td>\n      <td>1</td>\n      <td>64.027397</td>\n      <td>1 days</td>\n      <td>2012.0</td>\n      <td>brown</td>\n      <td>xxl</td>\n      <td>west</td>\n      <td>411 days</td>\n    </tr>\n    <tr>\n      <th>8</th>\n      <td>9</td>\n      <td>2012-04-02</td>\n      <td>2012-04-03</td>\n      <td>32</td>\n      <td>3</td>\n      <td>21.90</td>\n      <td>850</td>\n      <td>mrs</td>\n      <td>1</td>\n      <td>64.027397</td>\n      <td>1 days</td>\n      <td>2012.0</td>\n      <td>red</td>\n      <td>xxl</td>\n      <td>west</td>\n      <td>411 days</td>\n    </tr>\n  </tbody>\n</table>\n</div>"
     },
     "execution_count": 53,
     "metadata": {},
     "output_type": "execute_result"
    }
   ],
   "source": [
    "df.head()"
   ]
  },
  {
   "cell_type": "code",
   "execution_count": 54,
   "metadata": {},
   "outputs": [],
   "source": [
    "# extrahieren des tages, monats und jahres, damit wir diese werte anschließend transformieren können\n",
    "\n",
    "df['delivery_month'] = df['deliveryDate'].dt.month\n",
    "df['delivery_day'] = df['deliveryDate'].dt.day\n",
    "\n",
    "df['order_year'] = df['orderDate'].dt.year\n",
    "df['order_month'] = df['orderDate'].dt.month\n",
    "df['order_day'] = df['orderDate'].dt.day\n",
    "\n",
    "# droppen der spalten orderDate und deliveryDate, da wir diese in der form nicht mehr benötigen\n",
    "df.drop(columns=['orderDate', 'deliveryDate'], inplace=True)"
   ]
  },
  {
   "cell_type": "markdown",
   "metadata": {},
   "source": [
    "# Datentransformation für KNN\n",
    "\n",
    "---"
   ]
  },
  {
   "cell_type": "code",
   "execution_count": 55,
   "metadata": {},
   "outputs": [],
   "source": [
    "y = df[['orderItemID', 'returnShipment']]\n",
    "X_target = pd.Series(df['returnShipment'], name='returnShipment')\n",
    "X = df.drop(columns='returnShipment')"
   ]
  },
  {
   "cell_type": "markdown",
   "metadata": {},
   "source": [
    "**kommentar:**\n",
    "- jetzt kümmern wir uns um die datentransformation speziell für die SVM\n",
    "- zunächst wollen wir die anzahl der zeilen minimieren, hierfür benutzen wir die resample methode aus sklearn\n",
    "- um eine möglichst gute verteilung der zielvariable zu haben teilen wir den gesamten dataframe in zwei dataframes auf\n",
    "  - einer für returnShipment = 0\n",
    "  - einer für returnShipment = 1"
   ]
  },
  {
   "cell_type": "code",
   "execution_count": 56,
   "metadata": {},
   "outputs": [],
   "source": [
    "# für die SVM benötigen wir werte zwischen 0 und 1\n",
    "# hierfür transformieren wir unsere features delivery_time und account_age_at_order vom datentyp timedelta zu float\n",
    "\n",
    "X['delivery_time_float'] = df['delivery_time'] / pd.Timedelta(days=1)\n",
    "X['account_age_at_order_float'] = df['account_age_at_order'] / pd.Timedelta(days=1)\n",
    "\n",
    "X.drop(columns=['delivery_time', 'account_age_at_order'], inplace=True)"
   ]
  },
  {
   "cell_type": "markdown",
   "metadata": {},
   "source": [
    "# MinMaxScaler und OneHotEncoding\n",
    "\n",
    "---"
   ]
  },
  {
   "cell_type": "markdown",
   "metadata": {},
   "source": [
    "**kommentar:**\n",
    "- wir haben nun alle werte in ein numerisches oder kategorisches format transformiert\n",
    "- kategorische werte werden jetzt anschließend mit dem one-hot encoding behandelt \n",
    "- numerische werte werden jetzt anschließend mit dem minmax-scaler behandelt\n",
    "\n",
    "**to-do:**\n",
    "- one-hot encoding\n",
    "- minmax-scaler"
   ]
  },
  {
   "cell_type": "code",
   "execution_count": 57,
   "metadata": {},
   "outputs": [],
   "source": [
    "from sklearn.preprocessing import MinMaxScaler"
   ]
  },
  {
   "cell_type": "code",
   "execution_count": 58,
   "metadata": {},
   "outputs": [],
   "source": [
    "# erstellen eines arrays für alle spalten, die mit dem MinMaxScaler behandelt werden sollen\n",
    "minmax_columns = [\n",
    "    'delivery_time_float',\n",
    "    'age_at_order',\n",
    "    'account_age_at_order_float',\n",
    "    'price',\n",
    "    'delivery_day',\n",
    "    'delivery_month',\n",
    "    'delivery_year',\n",
    "    'order_day',\n",
    "    'order_month',\n",
    "    'order_year'\n",
    "]"
   ]
  },
  {
   "cell_type": "code",
   "execution_count": 59,
   "metadata": {},
   "outputs": [],
   "source": [
    "# wir erstellen eine instanz aus dem MinMaxScaler\n",
    "scaler = MinMaxScaler()\n",
    "\n",
    "# mit der function .fit_transform() aus der instanz von MinMaxScaler fitten wir die spalten\n",
    "X[minmax_columns] = scaler.fit_transform(X[minmax_columns])"
   ]
  },
  {
   "cell_type": "code",
   "execution_count": 60,
   "metadata": {},
   "outputs": [
    {
     "data": {
      "text/plain": "   orderItemID  itemID  manufacturerID     price  customerID salutation  \\\n0            1     186              25  0.069970         794        mrs   \n1            2      71              21  0.070020         794        mrs   \n2            3      71              21  0.070020         794        mrs   \n7            8      32               3  0.021922         850        mrs   \n8            9      32               3  0.021922         850        mrs   \n\n   age_at_order  delivery_year color_category size_feature state_loc  \\\n0      0.365659            0.0           blue            m     south   \n1      0.365659            0.0          brown            l     south   \n2      0.365659            0.0          brown            l     south   \n7      0.537281            0.0          brown          xxl      west   \n8      0.537281            0.0            red          xxl      west   \n\n   delivery_month  delivery_day  order_year  order_month  order_day  \\\n0        0.272727      0.066667         0.0     0.272727   0.000000   \n1        0.272727      0.066667         0.0     0.272727   0.000000   \n2        0.272727      0.066667         0.0     0.272727   0.000000   \n7        0.272727      0.066667         0.0     0.272727   0.033333   \n8        0.272727      0.066667         0.0     0.272727   0.033333   \n\n   delivery_time_float  account_age_at_order_float  \n0             0.011429                    0.441860  \n1             0.011429                    0.441860  \n2             0.011429                    0.441860  \n7             0.005714                    0.531008  \n8             0.005714                    0.531008  ",
      "text/html": "<div>\n<style scoped>\n    .dataframe tbody tr th:only-of-type {\n        vertical-align: middle;\n    }\n\n    .dataframe tbody tr th {\n        vertical-align: top;\n    }\n\n    .dataframe thead th {\n        text-align: right;\n    }\n</style>\n<table border=\"1\" class=\"dataframe\">\n  <thead>\n    <tr style=\"text-align: right;\">\n      <th></th>\n      <th>orderItemID</th>\n      <th>itemID</th>\n      <th>manufacturerID</th>\n      <th>price</th>\n      <th>customerID</th>\n      <th>salutation</th>\n      <th>age_at_order</th>\n      <th>delivery_year</th>\n      <th>color_category</th>\n      <th>size_feature</th>\n      <th>state_loc</th>\n      <th>delivery_month</th>\n      <th>delivery_day</th>\n      <th>order_year</th>\n      <th>order_month</th>\n      <th>order_day</th>\n      <th>delivery_time_float</th>\n      <th>account_age_at_order_float</th>\n    </tr>\n  </thead>\n  <tbody>\n    <tr>\n      <th>0</th>\n      <td>1</td>\n      <td>186</td>\n      <td>25</td>\n      <td>0.069970</td>\n      <td>794</td>\n      <td>mrs</td>\n      <td>0.365659</td>\n      <td>0.0</td>\n      <td>blue</td>\n      <td>m</td>\n      <td>south</td>\n      <td>0.272727</td>\n      <td>0.066667</td>\n      <td>0.0</td>\n      <td>0.272727</td>\n      <td>0.000000</td>\n      <td>0.011429</td>\n      <td>0.441860</td>\n    </tr>\n    <tr>\n      <th>1</th>\n      <td>2</td>\n      <td>71</td>\n      <td>21</td>\n      <td>0.070020</td>\n      <td>794</td>\n      <td>mrs</td>\n      <td>0.365659</td>\n      <td>0.0</td>\n      <td>brown</td>\n      <td>l</td>\n      <td>south</td>\n      <td>0.272727</td>\n      <td>0.066667</td>\n      <td>0.0</td>\n      <td>0.272727</td>\n      <td>0.000000</td>\n      <td>0.011429</td>\n      <td>0.441860</td>\n    </tr>\n    <tr>\n      <th>2</th>\n      <td>3</td>\n      <td>71</td>\n      <td>21</td>\n      <td>0.070020</td>\n      <td>794</td>\n      <td>mrs</td>\n      <td>0.365659</td>\n      <td>0.0</td>\n      <td>brown</td>\n      <td>l</td>\n      <td>south</td>\n      <td>0.272727</td>\n      <td>0.066667</td>\n      <td>0.0</td>\n      <td>0.272727</td>\n      <td>0.000000</td>\n      <td>0.011429</td>\n      <td>0.441860</td>\n    </tr>\n    <tr>\n      <th>7</th>\n      <td>8</td>\n      <td>32</td>\n      <td>3</td>\n      <td>0.021922</td>\n      <td>850</td>\n      <td>mrs</td>\n      <td>0.537281</td>\n      <td>0.0</td>\n      <td>brown</td>\n      <td>xxl</td>\n      <td>west</td>\n      <td>0.272727</td>\n      <td>0.066667</td>\n      <td>0.0</td>\n      <td>0.272727</td>\n      <td>0.033333</td>\n      <td>0.005714</td>\n      <td>0.531008</td>\n    </tr>\n    <tr>\n      <th>8</th>\n      <td>9</td>\n      <td>32</td>\n      <td>3</td>\n      <td>0.021922</td>\n      <td>850</td>\n      <td>mrs</td>\n      <td>0.537281</td>\n      <td>0.0</td>\n      <td>red</td>\n      <td>xxl</td>\n      <td>west</td>\n      <td>0.272727</td>\n      <td>0.066667</td>\n      <td>0.0</td>\n      <td>0.272727</td>\n      <td>0.033333</td>\n      <td>0.005714</td>\n      <td>0.531008</td>\n    </tr>\n  </tbody>\n</table>\n</div>"
     },
     "execution_count": 60,
     "metadata": {},
     "output_type": "execute_result"
    }
   ],
   "source": [
    "X.head()"
   ]
  },
  {
   "cell_type": "code",
   "execution_count": 61,
   "metadata": {},
   "outputs": [],
   "source": [
    "# erstellen eines arrays für alle spalten, die mit dem OneHot encoding behandelt werden sollen\n",
    "onehot_columns = [\n",
    "    'size_feature',\n",
    "    'color_category',\n",
    "    'salutation',\n",
    "    'state_loc'\n",
    "]"
   ]
  },
  {
   "cell_type": "code",
   "execution_count": 62,
   "metadata": {},
   "outputs": [],
   "source": [
    "# mit der pandas function .get_dummies() erstellen wir für unsere mitgegebenen spalten \n",
    "# für jede ausprägung der spalte, eine neue spalte\n",
    "# beispiel 'salutation', hier erstellen wir 5 spalten, für jede ausprägung eine\n",
    "X_encoded = pd.get_dummies(X, columns=onehot_columns)"
   ]
  },
  {
   "cell_type": "markdown",
   "metadata": {},
   "source": [
    "**kommentar:**\n",
    "- als letzten schritt werden wir nun alle ID columns droppen, da diese irrelevant für das training der SVM ist\n",
    "\n",
    "**to-do:**\n",
    "- drop aller ID columns"
   ]
  },
  {
   "cell_type": "code",
   "execution_count": 63,
   "metadata": {
    "collapsed": false
   },
   "outputs": [],
   "source": [
    "X_encoded.drop(columns=['orderItemID', 'itemID', 'manufacturerID', 'customerID'], inplace=True)"
   ]
  },
  {
   "cell_type": "markdown",
   "metadata": {},
   "source": [
    "# Prediction und Modell-Evaluation\n",
    "\n",
    "---"
   ]
  },
  {
   "cell_type": "code",
   "execution_count": 64,
   "metadata": {},
   "outputs": [],
   "source": [
    "from sklearn.metrics import accuracy_score, precision_score, recall_score, f1_score, confusion_matrix"
   ]
  },
  {
   "cell_type": "code",
   "execution_count": 65,
   "metadata": {},
   "outputs": [
    {
     "name": "stderr",
     "output_type": "stream",
     "text": [
      "WARNING:absl:Skipping variable loading for optimizer 'Adam', because it has 13 variables whereas the saved optimizer has 1 variables. \n"
     ]
    }
   ],
   "source": [
    "import pickle\n",
    "\n",
    "with open('models/knn_model.pkl', 'rb') as file:\n",
    "    clf_knn = pickle.load(file)"
   ]
  },
  {
   "cell_type": "code",
   "execution_count": 66,
   "outputs": [
    {
     "name": "stdout",
     "output_type": "stream",
     "text": [
      "13502/13502 [==============================] - 29s 2ms/step\n"
     ]
    }
   ],
   "source": [
    "y_pred = clf_knn.predict(X_encoded)"
   ],
   "metadata": {
    "collapsed": false
   }
  },
  {
   "cell_type": "code",
   "execution_count": 79,
   "metadata": {},
   "outputs": [
    {
     "name": "stdout",
     "output_type": "stream",
     "text": [
      "Accuracy: 0.51\n",
      "Precision: 0.52\n",
      "Recall: 0.84\n",
      "F1-score: 0.65\n"
     ]
    }
   ],
   "source": [
    "y_pred = np.round(y_pred)\n",
    "\n",
    "# accuracy berechnen\n",
    "accuracy = accuracy_score(X_target, y_pred)\n",
    "\n",
    "# precision berechnen\n",
    "precision = precision_score(X_target, y_pred)\n",
    "\n",
    "# recall berechnen\n",
    "recall = recall_score(X_target, y_pred)\n",
    "\n",
    "# f1_score berechnen\n",
    "f1 = f1_score(X_target, y_pred)\n",
    "\n",
    "# ausgabe aller zuvor erstellen metriken\n",
    "print(\"Accuracy: {:.2f}\".format(accuracy))\n",
    "print(\"Precision: {:.2f}\".format(precision))\n",
    "print(\"Recall: {:.2f}\".format(recall))\n",
    "print(\"F1-score: {:.2f}\".format(f1))\n"
   ]
  }
 ],
 "metadata": {
  "kernelspec": {
   "display_name": "Python 3.9.6 64-bit",
   "language": "python",
   "name": "python3"
  },
  "language_info": {
   "codemirror_mode": {
    "name": "ipython",
    "version": 3
   },
   "file_extension": ".py",
   "mimetype": "text/x-python",
   "name": "python",
   "nbconvert_exporter": "python",
   "pygments_lexer": "ipython3",
   "version": "3.9.6"
  },
  "orig_nbformat": 4,
  "vscode": {
   "interpreter": {
    "hash": "aee8b7b246df8f9039afb4144a1f6fd8d2ca17a180786b69acc140d282b71a49"
   }
  }
 },
 "nbformat": 4,
 "nbformat_minor": 2
}
