{
 "cells": [
  {
   "cell_type": "markdown",
   "metadata": {},
   "source": [
    "# Datenvorbereitung für Data Mining Cup 2014\n",
    "## Burk, Dau, Donner, Wesemann, Welsch\n",
    "### Algorithmen: SVM und KNN"
   ]
  },
  {
   "cell_type": "code",
   "execution_count": 662,
   "metadata": {},
   "outputs": [],
   "source": [
    "# import der bibliotheken\n",
    "\n",
    "import pandas as pd\n",
    "import numpy as np\n",
    "from datetime import timedelta\n",
    "from datetime import datetime\n",
    "import matplotlib.pyplot as plt"
   ]
  },
  {
   "cell_type": "code",
   "execution_count": 663,
   "metadata": {},
   "outputs": [
    {
     "data": {
      "text/plain": "   orderItemID   orderDate deliveryDate  itemID size  color  manufacturerID  \\\n0            1  2012-04-01   2012-04-03     186    m  denim              25   \n1            2  2012-04-01   2012-04-03      71   9+  ocher              21   \n2            3  2012-04-01   2012-04-03      71   9+  curry              21   \n3            4  2012-04-02            ?      22    m  green              14   \n4            5  2012-04-02   1990-12-31     151   39  black              53   \n\n   price  customerID salutation dateOfBirth                 state  \\\n0  69.90         794        Mrs  1965-01-06    Baden-Wuerttemberg   \n1  69.95         794        Mrs  1965-01-06    Baden-Wuerttemberg   \n2  69.95         794        Mrs  1965-01-06    Baden-Wuerttemberg   \n3  39.90         808        Mrs  1959-11-09                Saxony   \n4  29.90         825        Mrs  1964-07-11  Rhineland-Palatinate   \n\n  creationDate  returnShipment  \n0   2011-04-25               0  \n1   2011-04-25               1  \n2   2011-04-25               1  \n3   2012-01-04               0  \n4   2011-02-16               0  ",
      "text/html": "<div>\n<style scoped>\n    .dataframe tbody tr th:only-of-type {\n        vertical-align: middle;\n    }\n\n    .dataframe tbody tr th {\n        vertical-align: top;\n    }\n\n    .dataframe thead th {\n        text-align: right;\n    }\n</style>\n<table border=\"1\" class=\"dataframe\">\n  <thead>\n    <tr style=\"text-align: right;\">\n      <th></th>\n      <th>orderItemID</th>\n      <th>orderDate</th>\n      <th>deliveryDate</th>\n      <th>itemID</th>\n      <th>size</th>\n      <th>color</th>\n      <th>manufacturerID</th>\n      <th>price</th>\n      <th>customerID</th>\n      <th>salutation</th>\n      <th>dateOfBirth</th>\n      <th>state</th>\n      <th>creationDate</th>\n      <th>returnShipment</th>\n    </tr>\n  </thead>\n  <tbody>\n    <tr>\n      <th>0</th>\n      <td>1</td>\n      <td>2012-04-01</td>\n      <td>2012-04-03</td>\n      <td>186</td>\n      <td>m</td>\n      <td>denim</td>\n      <td>25</td>\n      <td>69.90</td>\n      <td>794</td>\n      <td>Mrs</td>\n      <td>1965-01-06</td>\n      <td>Baden-Wuerttemberg</td>\n      <td>2011-04-25</td>\n      <td>0</td>\n    </tr>\n    <tr>\n      <th>1</th>\n      <td>2</td>\n      <td>2012-04-01</td>\n      <td>2012-04-03</td>\n      <td>71</td>\n      <td>9+</td>\n      <td>ocher</td>\n      <td>21</td>\n      <td>69.95</td>\n      <td>794</td>\n      <td>Mrs</td>\n      <td>1965-01-06</td>\n      <td>Baden-Wuerttemberg</td>\n      <td>2011-04-25</td>\n      <td>1</td>\n    </tr>\n    <tr>\n      <th>2</th>\n      <td>3</td>\n      <td>2012-04-01</td>\n      <td>2012-04-03</td>\n      <td>71</td>\n      <td>9+</td>\n      <td>curry</td>\n      <td>21</td>\n      <td>69.95</td>\n      <td>794</td>\n      <td>Mrs</td>\n      <td>1965-01-06</td>\n      <td>Baden-Wuerttemberg</td>\n      <td>2011-04-25</td>\n      <td>1</td>\n    </tr>\n    <tr>\n      <th>3</th>\n      <td>4</td>\n      <td>2012-04-02</td>\n      <td>?</td>\n      <td>22</td>\n      <td>m</td>\n      <td>green</td>\n      <td>14</td>\n      <td>39.90</td>\n      <td>808</td>\n      <td>Mrs</td>\n      <td>1959-11-09</td>\n      <td>Saxony</td>\n      <td>2012-01-04</td>\n      <td>0</td>\n    </tr>\n    <tr>\n      <th>4</th>\n      <td>5</td>\n      <td>2012-04-02</td>\n      <td>1990-12-31</td>\n      <td>151</td>\n      <td>39</td>\n      <td>black</td>\n      <td>53</td>\n      <td>29.90</td>\n      <td>825</td>\n      <td>Mrs</td>\n      <td>1964-07-11</td>\n      <td>Rhineland-Palatinate</td>\n      <td>2011-02-16</td>\n      <td>0</td>\n    </tr>\n  </tbody>\n</table>\n</div>"
     },
     "execution_count": 663,
     "metadata": {},
     "output_type": "execute_result"
    }
   ],
   "source": [
    "# einlesen der zu bereinigenden Daten\n",
    "df = pd.read_csv('data/orders_train.txt', delimiter=';')\n",
    "\n",
    "# anzeigen der ersten 5 zeilen des datensatzes\n",
    "df.head()"
   ]
  },
  {
   "cell_type": "markdown",
   "metadata": {},
   "source": [
    "**kommentar:**\n",
    "wir sehen in zeile 4 (row_id = 3) einen fehlenden wert, also einen \"missing value\", welcher durch ein fragezeichen gekennzeichnet ist"
   ]
  },
  {
   "cell_type": "code",
   "execution_count": 664,
   "metadata": {},
   "outputs": [
    {
     "name": "stdout",
     "output_type": "stream",
     "text": [
      "<class 'pandas.core.frame.DataFrame'>\n",
      "RangeIndex: 481092 entries, 0 to 481091\n",
      "Data columns (total 14 columns):\n",
      " #   Column          Non-Null Count   Dtype  \n",
      "---  ------          --------------   -----  \n",
      " 0   orderItemID     481092 non-null  int64  \n",
      " 1   orderDate       481092 non-null  object \n",
      " 2   deliveryDate    481092 non-null  object \n",
      " 3   itemID          481092 non-null  int64  \n",
      " 4   size            481092 non-null  object \n",
      " 5   color           481092 non-null  object \n",
      " 6   manufacturerID  481092 non-null  int64  \n",
      " 7   price           481092 non-null  float64\n",
      " 8   customerID      481092 non-null  int64  \n",
      " 9   salutation      481092 non-null  object \n",
      " 10  dateOfBirth     481092 non-null  object \n",
      " 11  state           481092 non-null  object \n",
      " 12  creationDate    481092 non-null  object \n",
      " 13  returnShipment  481092 non-null  int64  \n",
      "dtypes: float64(1), int64(5), object(8)\n",
      "memory usage: 51.4+ MB\n"
     ]
    }
   ],
   "source": [
    "# um zu prüfen, ob die missing values richtig gezählt werden, können wir die funktion df.info nutzen\n",
    "df.info()"
   ]
  },
  {
   "cell_type": "markdown",
   "metadata": {},
   "source": [
    "**kommentar:**\n",
    "- uns fällt auf, dass zum einen alle spalten als \"vollständig\" markiert sind (non-null count = anzahl der gesamten zeilen) und zudem die datentypen für alle datumsspalten \"falsch\" sind.\n",
    "\n",
    "**to-do:**\n",
    "- anpassen der null-values\n",
    "- anpassen der datentypen für datumsfelder"
   ]
  },
  {
   "cell_type": "code",
   "execution_count": 665,
   "metadata": {},
   "outputs": [
    {
     "data": {
      "text/plain": "        orderItemID         itemID  manufacturerID          price  \\\ncount  481092.00000  481092.000000   481092.000000  481092.000000   \nmean   240546.50000    1399.764779       29.726109      70.440229   \nstd    138879.44219     931.075227       30.064934      45.502854   \nmin         1.00000       1.000000        1.000000       0.000000   \n25%    120273.75000     332.000000        5.000000      34.900000   \n50%    240546.50000    1569.000000       21.000000      59.900000   \n75%    360819.25000    2342.000000       43.000000      89.900000   \nmax    481092.00000    3071.000000      166.000000     999.000000   \n\n          customerID  returnShipment  \ncount  481092.000000   481092.000000  \nmean    33369.968376        0.482425  \nstd     23972.075259        0.499692  \nmin         6.000000        0.000000  \n25%     12891.000000        0.000000  \n50%     28426.000000        0.000000  \n75%     51141.000000        1.000000  \nmax     86611.000000        1.000000  ",
      "text/html": "<div>\n<style scoped>\n    .dataframe tbody tr th:only-of-type {\n        vertical-align: middle;\n    }\n\n    .dataframe tbody tr th {\n        vertical-align: top;\n    }\n\n    .dataframe thead th {\n        text-align: right;\n    }\n</style>\n<table border=\"1\" class=\"dataframe\">\n  <thead>\n    <tr style=\"text-align: right;\">\n      <th></th>\n      <th>orderItemID</th>\n      <th>itemID</th>\n      <th>manufacturerID</th>\n      <th>price</th>\n      <th>customerID</th>\n      <th>returnShipment</th>\n    </tr>\n  </thead>\n  <tbody>\n    <tr>\n      <th>count</th>\n      <td>481092.00000</td>\n      <td>481092.000000</td>\n      <td>481092.000000</td>\n      <td>481092.000000</td>\n      <td>481092.000000</td>\n      <td>481092.000000</td>\n    </tr>\n    <tr>\n      <th>mean</th>\n      <td>240546.50000</td>\n      <td>1399.764779</td>\n      <td>29.726109</td>\n      <td>70.440229</td>\n      <td>33369.968376</td>\n      <td>0.482425</td>\n    </tr>\n    <tr>\n      <th>std</th>\n      <td>138879.44219</td>\n      <td>931.075227</td>\n      <td>30.064934</td>\n      <td>45.502854</td>\n      <td>23972.075259</td>\n      <td>0.499692</td>\n    </tr>\n    <tr>\n      <th>min</th>\n      <td>1.00000</td>\n      <td>1.000000</td>\n      <td>1.000000</td>\n      <td>0.000000</td>\n      <td>6.000000</td>\n      <td>0.000000</td>\n    </tr>\n    <tr>\n      <th>25%</th>\n      <td>120273.75000</td>\n      <td>332.000000</td>\n      <td>5.000000</td>\n      <td>34.900000</td>\n      <td>12891.000000</td>\n      <td>0.000000</td>\n    </tr>\n    <tr>\n      <th>50%</th>\n      <td>240546.50000</td>\n      <td>1569.000000</td>\n      <td>21.000000</td>\n      <td>59.900000</td>\n      <td>28426.000000</td>\n      <td>0.000000</td>\n    </tr>\n    <tr>\n      <th>75%</th>\n      <td>360819.25000</td>\n      <td>2342.000000</td>\n      <td>43.000000</td>\n      <td>89.900000</td>\n      <td>51141.000000</td>\n      <td>1.000000</td>\n    </tr>\n    <tr>\n      <th>max</th>\n      <td>481092.00000</td>\n      <td>3071.000000</td>\n      <td>166.000000</td>\n      <td>999.000000</td>\n      <td>86611.000000</td>\n      <td>1.000000</td>\n    </tr>\n  </tbody>\n</table>\n</div>"
     },
     "execution_count": 665,
     "metadata": {},
     "output_type": "execute_result"
    }
   ],
   "source": [
    "# als weitere funktion, um den datensatz zu beschreiben (also uns \"mathematische größen\" anzeigen zu lassen), probieren wir df.describe() aus\n",
    "df.describe()"
   ]
  },
  {
   "cell_type": "markdown",
   "metadata": {},
   "source": [
    "**kommentar:**\n",
    "- die funktion df.describe() beschreibt nur für numerische spalten die anzahl, mittelwert, etc.\n",
    "- irreführend ist hierbei die spalte \"returnShipment\", da diese laut vorgabe des datensatzes ein boolean sein sollte und damit lediglich die ausprägungen (0/1) besitzen sollte, sehen wir auch einen mittelwert für diese spalte\n",
    "\n",
    "**to-do:**\n",
    "- auch die spalte returnShipment muss vom datentyp her angepasst werden"
   ]
  },
  {
   "cell_type": "markdown",
   "metadata": {},
   "source": [
    "# anpassung der null-values"
   ]
  },
  {
   "cell_type": "code",
   "execution_count": 666,
   "metadata": {},
   "outputs": [],
   "source": [
    "# zählen der richtigen null-values:\n",
    "# damit wir verstehen, wie viele null-values tatsächlich in den daten vorhanden sind, \n",
    "# schreiben wir eine eigene funktion, die die missing values ('?') zählt.\n",
    "\n",
    "# achtung: df.info() zählt nur spezielle numpy NaN values, daher brauchen wir diese funktion\n",
    "\n",
    "def count_actual_missing_values(initial_dataframe):\n",
    "    qc_df = pd.DataFrame(columns=['field', 'missing_values'])\n",
    "\n",
    "    for column in initial_dataframe:\n",
    "        \n",
    "        # berechne die anzahl von missing values pro spalte (definiert als '?' oder numpy.NaN)\n",
    "        if (df[column]=='?').sum() is not None or df[column].isna().sum() is not None:\n",
    "            missing_values = (df[column]=='?').sum() + df[column].isna().sum()\n",
    "        else:\n",
    "            missing_values = float('NaN')\n",
    "\n",
    "        new_row = {'field': column, 'missing_values': missing_values}\n",
    "        qc_df.loc[len(qc_df)] = new_row\n",
    "        \n",
    "    return qc_df"
   ]
  },
  {
   "cell_type": "code",
   "execution_count": 667,
   "metadata": {},
   "outputs": [
    {
     "data": {
      "text/plain": "             field missing_values\n0      orderItemID              0\n1        orderDate              0\n2     deliveryDate          39419\n3           itemID              0\n4             size              0\n5            color            143\n6   manufacturerID              0\n7            price              0\n8       customerID              0\n9       salutation              0\n10     dateOfBirth          48889\n11           state              0\n12    creationDate              0\n13  returnShipment              0",
      "text/html": "<div>\n<style scoped>\n    .dataframe tbody tr th:only-of-type {\n        vertical-align: middle;\n    }\n\n    .dataframe tbody tr th {\n        vertical-align: top;\n    }\n\n    .dataframe thead th {\n        text-align: right;\n    }\n</style>\n<table border=\"1\" class=\"dataframe\">\n  <thead>\n    <tr style=\"text-align: right;\">\n      <th></th>\n      <th>field</th>\n      <th>missing_values</th>\n    </tr>\n  </thead>\n  <tbody>\n    <tr>\n      <th>0</th>\n      <td>orderItemID</td>\n      <td>0</td>\n    </tr>\n    <tr>\n      <th>1</th>\n      <td>orderDate</td>\n      <td>0</td>\n    </tr>\n    <tr>\n      <th>2</th>\n      <td>deliveryDate</td>\n      <td>39419</td>\n    </tr>\n    <tr>\n      <th>3</th>\n      <td>itemID</td>\n      <td>0</td>\n    </tr>\n    <tr>\n      <th>4</th>\n      <td>size</td>\n      <td>0</td>\n    </tr>\n    <tr>\n      <th>5</th>\n      <td>color</td>\n      <td>143</td>\n    </tr>\n    <tr>\n      <th>6</th>\n      <td>manufacturerID</td>\n      <td>0</td>\n    </tr>\n    <tr>\n      <th>7</th>\n      <td>price</td>\n      <td>0</td>\n    </tr>\n    <tr>\n      <th>8</th>\n      <td>customerID</td>\n      <td>0</td>\n    </tr>\n    <tr>\n      <th>9</th>\n      <td>salutation</td>\n      <td>0</td>\n    </tr>\n    <tr>\n      <th>10</th>\n      <td>dateOfBirth</td>\n      <td>48889</td>\n    </tr>\n    <tr>\n      <th>11</th>\n      <td>state</td>\n      <td>0</td>\n    </tr>\n    <tr>\n      <th>12</th>\n      <td>creationDate</td>\n      <td>0</td>\n    </tr>\n    <tr>\n      <th>13</th>\n      <td>returnShipment</td>\n      <td>0</td>\n    </tr>\n  </tbody>\n</table>\n</div>"
     },
     "execution_count": 667,
     "metadata": {},
     "output_type": "execute_result"
    }
   ],
   "source": [
    "check_mv_df = count_actual_missing_values(df)\n",
    "check_mv_df"
   ]
  },
  {
   "cell_type": "markdown",
   "metadata": {},
   "source": [
    "**kommentar:**\n",
    "- wir sehen, dass in den spalten 'deliveryDate', 'color' und 'dateOfBirth' missing values vorhanden sind\n",
    "- schauen wir uns das zusatzmaterial (DMC 2014_documents/features.pdf) an, so sehen wir, dass sich die spalten mit fehlenden werten decken\n",
    "\n",
    "**to-do:**\n",
    "- wir wissen, dass die NaN werte nicht als numpy.NaN definiert sind, sondern als '?', dies wollen wir ändern"
   ]
  },
  {
   "cell_type": "code",
   "execution_count": 668,
   "metadata": {},
   "outputs": [],
   "source": [
    "# mit der funktion replace() kann man werte in einem datensatz ersetzen\n",
    "# in unserem fall ersetzen wir das '?' mit einem np.NaN value\n",
    "df.replace('?', np.nan, inplace=True)"
   ]
  },
  {
   "cell_type": "code",
   "execution_count": 669,
   "metadata": {},
   "outputs": [
    {
     "name": "stdout",
     "output_type": "stream",
     "text": [
      "<class 'pandas.core.frame.DataFrame'>\n",
      "RangeIndex: 481092 entries, 0 to 481091\n",
      "Data columns (total 14 columns):\n",
      " #   Column          Non-Null Count   Dtype  \n",
      "---  ------          --------------   -----  \n",
      " 0   orderItemID     481092 non-null  int64  \n",
      " 1   orderDate       481092 non-null  object \n",
      " 2   deliveryDate    441673 non-null  object \n",
      " 3   itemID          481092 non-null  int64  \n",
      " 4   size            481092 non-null  object \n",
      " 5   color           480949 non-null  object \n",
      " 6   manufacturerID  481092 non-null  int64  \n",
      " 7   price           481092 non-null  float64\n",
      " 8   customerID      481092 non-null  int64  \n",
      " 9   salutation      481092 non-null  object \n",
      " 10  dateOfBirth     432203 non-null  object \n",
      " 11  state           481092 non-null  object \n",
      " 12  creationDate    481092 non-null  object \n",
      " 13  returnShipment  481092 non-null  int64  \n",
      "dtypes: float64(1), int64(5), object(8)\n",
      "memory usage: 51.4+ MB\n"
     ]
    }
   ],
   "source": [
    "# nachdem wir das '?' ersetzt haben, gucken wir, ob die funktion info() jetzt das gewünsche ergebnis liefert\n",
    "df.info()"
   ]
  },
  {
   "cell_type": "markdown",
   "metadata": {},
   "source": [
    "**kommentar:**\n",
    "- wir sehen, dass unser \"suchen und ersetzen\" funktioniert hat und wir nun die \"richtigen\" missing-values aufgelistet bekommen"
   ]
  },
  {
   "cell_type": "code",
   "execution_count": 670,
   "metadata": {},
   "outputs": [
    {
     "data": {
      "text/plain": "   orderItemID   orderDate deliveryDate  itemID size  color  manufacturerID  \\\n0            1  2012-04-01   2012-04-03     186    m  denim              25   \n1            2  2012-04-01   2012-04-03      71   9+  ocher              21   \n2            3  2012-04-01   2012-04-03      71   9+  curry              21   \n3            4  2012-04-02          NaN      22    m  green              14   \n4            5  2012-04-02   1990-12-31     151   39  black              53   \n\n   price  customerID salutation dateOfBirth                 state  \\\n0  69.90         794        Mrs  1965-01-06    Baden-Wuerttemberg   \n1  69.95         794        Mrs  1965-01-06    Baden-Wuerttemberg   \n2  69.95         794        Mrs  1965-01-06    Baden-Wuerttemberg   \n3  39.90         808        Mrs  1959-11-09                Saxony   \n4  29.90         825        Mrs  1964-07-11  Rhineland-Palatinate   \n\n  creationDate  returnShipment  \n0   2011-04-25               0  \n1   2011-04-25               1  \n2   2011-04-25               1  \n3   2012-01-04               0  \n4   2011-02-16               0  ",
      "text/html": "<div>\n<style scoped>\n    .dataframe tbody tr th:only-of-type {\n        vertical-align: middle;\n    }\n\n    .dataframe tbody tr th {\n        vertical-align: top;\n    }\n\n    .dataframe thead th {\n        text-align: right;\n    }\n</style>\n<table border=\"1\" class=\"dataframe\">\n  <thead>\n    <tr style=\"text-align: right;\">\n      <th></th>\n      <th>orderItemID</th>\n      <th>orderDate</th>\n      <th>deliveryDate</th>\n      <th>itemID</th>\n      <th>size</th>\n      <th>color</th>\n      <th>manufacturerID</th>\n      <th>price</th>\n      <th>customerID</th>\n      <th>salutation</th>\n      <th>dateOfBirth</th>\n      <th>state</th>\n      <th>creationDate</th>\n      <th>returnShipment</th>\n    </tr>\n  </thead>\n  <tbody>\n    <tr>\n      <th>0</th>\n      <td>1</td>\n      <td>2012-04-01</td>\n      <td>2012-04-03</td>\n      <td>186</td>\n      <td>m</td>\n      <td>denim</td>\n      <td>25</td>\n      <td>69.90</td>\n      <td>794</td>\n      <td>Mrs</td>\n      <td>1965-01-06</td>\n      <td>Baden-Wuerttemberg</td>\n      <td>2011-04-25</td>\n      <td>0</td>\n    </tr>\n    <tr>\n      <th>1</th>\n      <td>2</td>\n      <td>2012-04-01</td>\n      <td>2012-04-03</td>\n      <td>71</td>\n      <td>9+</td>\n      <td>ocher</td>\n      <td>21</td>\n      <td>69.95</td>\n      <td>794</td>\n      <td>Mrs</td>\n      <td>1965-01-06</td>\n      <td>Baden-Wuerttemberg</td>\n      <td>2011-04-25</td>\n      <td>1</td>\n    </tr>\n    <tr>\n      <th>2</th>\n      <td>3</td>\n      <td>2012-04-01</td>\n      <td>2012-04-03</td>\n      <td>71</td>\n      <td>9+</td>\n      <td>curry</td>\n      <td>21</td>\n      <td>69.95</td>\n      <td>794</td>\n      <td>Mrs</td>\n      <td>1965-01-06</td>\n      <td>Baden-Wuerttemberg</td>\n      <td>2011-04-25</td>\n      <td>1</td>\n    </tr>\n    <tr>\n      <th>3</th>\n      <td>4</td>\n      <td>2012-04-02</td>\n      <td>NaN</td>\n      <td>22</td>\n      <td>m</td>\n      <td>green</td>\n      <td>14</td>\n      <td>39.90</td>\n      <td>808</td>\n      <td>Mrs</td>\n      <td>1959-11-09</td>\n      <td>Saxony</td>\n      <td>2012-01-04</td>\n      <td>0</td>\n    </tr>\n    <tr>\n      <th>4</th>\n      <td>5</td>\n      <td>2012-04-02</td>\n      <td>1990-12-31</td>\n      <td>151</td>\n      <td>39</td>\n      <td>black</td>\n      <td>53</td>\n      <td>29.90</td>\n      <td>825</td>\n      <td>Mrs</td>\n      <td>1964-07-11</td>\n      <td>Rhineland-Palatinate</td>\n      <td>2011-02-16</td>\n      <td>0</td>\n    </tr>\n  </tbody>\n</table>\n</div>"
     },
     "execution_count": 670,
     "metadata": {},
     "output_type": "execute_result"
    }
   ],
   "source": [
    "# der datensatz hat sich jetzt entsprechen verändert - in zeile 4 (index=3) sehen wir den NaN value\n",
    "df.head()"
   ]
  },
  {
   "cell_type": "markdown",
   "metadata": {},
   "source": [
    "**erledigtes to-do:**\n",
    "- missing values werden richtig gezählt"
   ]
  },
  {
   "cell_type": "markdown",
   "metadata": {},
   "source": [
    "# anpassung der datentypen für datumsfelder"
   ]
  },
  {
   "cell_type": "code",
   "execution_count": 671,
   "metadata": {},
   "outputs": [
    {
     "data": {
      "text/plain": "\"\\n# wir versuchen die datumsfelder mittels der pandas function to_datetime() zu konvertieren\\n# hierfür benötigen wir die .apply() function um die typkonvertierung anzuwenden\\n\\ndf[['orderDate', 'deliveryDate', 'dateOfBirth', 'creationDate']] = df[['orderDate', 'deliveryDate', 'dateOfBirth', 'creationDate']].apply(pd.to_datetime, format='%Y-%m-%d')\\n\""
     },
     "execution_count": 671,
     "metadata": {},
     "output_type": "execute_result"
    }
   ],
   "source": [
    "# an dieser stelle erhalten wir einen out of bounds fehler für den datentyp datetime:\n",
    "\n",
    "\"\"\"\n",
    "# wir versuchen die datumsfelder mittels der pandas function to_datetime() zu konvertieren\n",
    "# hierfür benötigen wir die .apply() function um die typkonvertierung anzuwenden\n",
    "\n",
    "df[['orderDate', 'deliveryDate', 'dateOfBirth', 'creationDate']] = \\\n",
    "df[['orderDate', 'deliveryDate', 'dateOfBirth', 'creationDate']].apply(pd.to_datetime, format='%Y-%m-%d')\n",
    "\"\"\""
   ]
  },
  {
   "cell_type": "markdown",
   "metadata": {},
   "source": [
    "**kommentar:**\n",
    "- als fehlermeldung erhalten wir eine OutOfBounds-Exception mit dem hinweis darauf, dass der timestamp '1655-04-19' nicht in der datetime range liegt\n",
    "- das angegebene datum ist fachlich anzuzweifeln, da es vermutlich keine order, delivery, creation oder geburtsdatum gibt, welches im jahr 1655 liegt"
   ]
  },
  {
   "cell_type": "code",
   "execution_count": 672,
   "metadata": {},
   "outputs": [
    {
     "name": "stdout",
     "output_type": "stream",
     "text": [
      "min timestamp: 1677-09-21 00:12:43.145224193, max timestamp: 2262-04-11 23:47:16.854775807\n"
     ]
    }
   ],
   "source": [
    "# wir wollen uns zunächst anschauen, welchen datumsbereich der pandas timestamp abdecken kann\n",
    "# hierfür verwenden wir die interne function .min und .max\n",
    "min_ts = pd.Timestamp.min\n",
    "max_ts = pd.Timestamp.max\n",
    "print(f'min timestamp: {min_ts}, max timestamp: {max_ts}')"
   ]
  },
  {
   "cell_type": "markdown",
   "metadata": {},
   "source": [
    "**kommentar:**\n",
    "- wir sehen, dass das jahr 1655 außerhalb der kleinsten ausprägung von timestamp (1677) liegt\n",
    "\n",
    "**to-do:**\n",
    "- betrachten der betroffenen datensätze"
   ]
  },
  {
   "cell_type": "code",
   "execution_count": 673,
   "metadata": {},
   "outputs": [
    {
     "data": {
      "text/plain": "        orderItemID   orderDate deliveryDate  itemID size  color  \\\n201497       201498  2012-09-12   2012-09-13    1662    l  brown   \n223802       223803  2012-09-22   2012-09-24    1662    m  brown   \n322553       322554  2013-01-08   2013-01-31    2429    M  black   \n\n        manufacturerID  price  customerID salutation dateOfBirth    state  \\\n201497              36  109.9       48469        Mrs  1655-04-19  Bavaria   \n223802              36  109.9       48469        Mrs  1655-04-19  Bavaria   \n322553              11   89.9       48469        Mrs  1655-04-19  Bavaria   \n\n       creationDate  returnShipment  \n201497   2011-02-16               1  \n223802   2011-02-16               1  \n322553   2011-02-16               0  ",
      "text/html": "<div>\n<style scoped>\n    .dataframe tbody tr th:only-of-type {\n        vertical-align: middle;\n    }\n\n    .dataframe tbody tr th {\n        vertical-align: top;\n    }\n\n    .dataframe thead th {\n        text-align: right;\n    }\n</style>\n<table border=\"1\" class=\"dataframe\">\n  <thead>\n    <tr style=\"text-align: right;\">\n      <th></th>\n      <th>orderItemID</th>\n      <th>orderDate</th>\n      <th>deliveryDate</th>\n      <th>itemID</th>\n      <th>size</th>\n      <th>color</th>\n      <th>manufacturerID</th>\n      <th>price</th>\n      <th>customerID</th>\n      <th>salutation</th>\n      <th>dateOfBirth</th>\n      <th>state</th>\n      <th>creationDate</th>\n      <th>returnShipment</th>\n    </tr>\n  </thead>\n  <tbody>\n    <tr>\n      <th>201497</th>\n      <td>201498</td>\n      <td>2012-09-12</td>\n      <td>2012-09-13</td>\n      <td>1662</td>\n      <td>l</td>\n      <td>brown</td>\n      <td>36</td>\n      <td>109.9</td>\n      <td>48469</td>\n      <td>Mrs</td>\n      <td>1655-04-19</td>\n      <td>Bavaria</td>\n      <td>2011-02-16</td>\n      <td>1</td>\n    </tr>\n    <tr>\n      <th>223802</th>\n      <td>223803</td>\n      <td>2012-09-22</td>\n      <td>2012-09-24</td>\n      <td>1662</td>\n      <td>m</td>\n      <td>brown</td>\n      <td>36</td>\n      <td>109.9</td>\n      <td>48469</td>\n      <td>Mrs</td>\n      <td>1655-04-19</td>\n      <td>Bavaria</td>\n      <td>2011-02-16</td>\n      <td>1</td>\n    </tr>\n    <tr>\n      <th>322553</th>\n      <td>322554</td>\n      <td>2013-01-08</td>\n      <td>2013-01-31</td>\n      <td>2429</td>\n      <td>M</td>\n      <td>black</td>\n      <td>11</td>\n      <td>89.9</td>\n      <td>48469</td>\n      <td>Mrs</td>\n      <td>1655-04-19</td>\n      <td>Bavaria</td>\n      <td>2011-02-16</td>\n      <td>0</td>\n    </tr>\n  </tbody>\n</table>\n</div>"
     },
     "execution_count": 673,
     "metadata": {},
     "output_type": "execute_result"
    }
   ],
   "source": [
    "# mit einer regular expression (mit welcher man strings maskieren kann) und der funktion df.query() können wir alle datensätze abfragen,\n",
    "# die ein dateOfBirth aus dem Jahr 1600 haben\n",
    "df.query(\"dateOfBirth.str.contains('16\\d\\d-\\d\\d-\\d\\d', na=False, regex=True)\")"
   ]
  },
  {
   "cell_type": "code",
   "execution_count": 674,
   "metadata": {},
   "outputs": [
    {
     "data": {
      "text/plain": "Empty DataFrame\nColumns: [orderItemID, orderDate, deliveryDate, itemID, size, color, manufacturerID, price, customerID, salutation, dateOfBirth, state, creationDate, returnShipment]\nIndex: []",
      "text/html": "<div>\n<style scoped>\n    .dataframe tbody tr th:only-of-type {\n        vertical-align: middle;\n    }\n\n    .dataframe tbody tr th {\n        vertical-align: top;\n    }\n\n    .dataframe thead th {\n        text-align: right;\n    }\n</style>\n<table border=\"1\" class=\"dataframe\">\n  <thead>\n    <tr style=\"text-align: right;\">\n      <th></th>\n      <th>orderItemID</th>\n      <th>orderDate</th>\n      <th>deliveryDate</th>\n      <th>itemID</th>\n      <th>size</th>\n      <th>color</th>\n      <th>manufacturerID</th>\n      <th>price</th>\n      <th>customerID</th>\n      <th>salutation</th>\n      <th>dateOfBirth</th>\n      <th>state</th>\n      <th>creationDate</th>\n      <th>returnShipment</th>\n    </tr>\n  </thead>\n  <tbody>\n  </tbody>\n</table>\n</div>"
     },
     "execution_count": 674,
     "metadata": {},
     "output_type": "execute_result"
    }
   ],
   "source": [
    "# mit einer regular expression (mit welcher man strings maskieren kann) und der funktion df.query() können wir alle datensätze abfragen,\n",
    "# die ein dateOfBirth aus dem Jahr 1700 haben\n",
    "df.query(\"dateOfBirth.str.contains('17\\d\\d-\\d\\d-\\d\\d', na=False, regex=True)\")"
   ]
  },
  {
   "cell_type": "code",
   "execution_count": 675,
   "metadata": {},
   "outputs": [
    {
     "data": {
      "text/plain": "Empty DataFrame\nColumns: [orderItemID, orderDate, deliveryDate, itemID, size, color, manufacturerID, price, customerID, salutation, dateOfBirth, state, creationDate, returnShipment]\nIndex: []",
      "text/html": "<div>\n<style scoped>\n    .dataframe tbody tr th:only-of-type {\n        vertical-align: middle;\n    }\n\n    .dataframe tbody tr th {\n        vertical-align: top;\n    }\n\n    .dataframe thead th {\n        text-align: right;\n    }\n</style>\n<table border=\"1\" class=\"dataframe\">\n  <thead>\n    <tr style=\"text-align: right;\">\n      <th></th>\n      <th>orderItemID</th>\n      <th>orderDate</th>\n      <th>deliveryDate</th>\n      <th>itemID</th>\n      <th>size</th>\n      <th>color</th>\n      <th>manufacturerID</th>\n      <th>price</th>\n      <th>customerID</th>\n      <th>salutation</th>\n      <th>dateOfBirth</th>\n      <th>state</th>\n      <th>creationDate</th>\n      <th>returnShipment</th>\n    </tr>\n  </thead>\n  <tbody>\n  </tbody>\n</table>\n</div>"
     },
     "execution_count": 675,
     "metadata": {},
     "output_type": "execute_result"
    }
   ],
   "source": [
    "# mit einer regular expression (mit welcher man strings maskieren kann) und der funktion df.query() können wir alle datensätze abfragen,\n",
    "# die ein dateOfBirth aus dem Jahr 1800 haben\n",
    "df.query(\"dateOfBirth.str.contains('18\\d\\d-\\d\\d-\\d\\d', na=False, regex=True)\")"
   ]
  },
  {
   "cell_type": "code",
   "execution_count": 676,
   "metadata": {},
   "outputs": [
    {
     "data": {
      "text/plain": "        orderItemID   orderDate deliveryDate  itemID size  color  \\\n0                 1  2012-04-01   2012-04-03     186    m  denim   \n1                 2  2012-04-01   2012-04-03      71   9+  ocher   \n2                 3  2012-04-01   2012-04-03      71   9+  curry   \n3                 4  2012-04-02          NaN      22    m  green   \n4                 5  2012-04-02   1990-12-31     151   39  black   \n...             ...         ...          ...     ...  ...    ...   \n481086       481087  2013-03-31   2013-04-09    2561   39   blue   \n481087       481088  2013-03-31   2013-04-09    2561  39+   blue   \n481089       481090  2013-03-31   1990-12-31    2458  XXL  black   \n481090       481091  2013-03-31   1990-12-31    2659  XXL  black   \n481091       481092  2013-03-31   1990-12-31    2375  XXL    red   \n\n        manufacturerID   price  customerID salutation dateOfBirth  \\\n0                   25   69.90         794        Mrs  1965-01-06   \n1                   21   69.95         794        Mrs  1965-01-06   \n2                   21   69.95         794        Mrs  1965-01-06   \n3                   14   39.90         808        Mrs  1959-11-09   \n4                   53   29.90         825        Mrs  1964-07-11   \n...                ...     ...         ...        ...         ...   \n481086               1  139.90        7032         Mr  1962-12-17   \n481087               1  139.90        7032         Mr  1962-12-17   \n481089               5   99.90       86611         Mr  1973-05-16   \n481090              49   99.90       86611         Mr  1973-05-16   \n481091              49  119.90       86611         Mr  1973-05-16   \n\n                       state creationDate  returnShipment  \n0         Baden-Wuerttemberg   2011-04-25               0  \n1         Baden-Wuerttemberg   2011-04-25               1  \n2         Baden-Wuerttemberg   2011-04-25               1  \n3                     Saxony   2012-01-04               0  \n4       Rhineland-Palatinate   2011-02-16               0  \n...                      ...          ...             ...  \n481086          Lower Saxony   2011-03-12               1  \n481087          Lower Saxony   2011-03-12               1  \n481089                Berlin   2013-03-31               0  \n481090                Berlin   2013-03-31               0  \n481091                Berlin   2013-03-31               0  \n\n[431953 rows x 14 columns]",
      "text/html": "<div>\n<style scoped>\n    .dataframe tbody tr th:only-of-type {\n        vertical-align: middle;\n    }\n\n    .dataframe tbody tr th {\n        vertical-align: top;\n    }\n\n    .dataframe thead th {\n        text-align: right;\n    }\n</style>\n<table border=\"1\" class=\"dataframe\">\n  <thead>\n    <tr style=\"text-align: right;\">\n      <th></th>\n      <th>orderItemID</th>\n      <th>orderDate</th>\n      <th>deliveryDate</th>\n      <th>itemID</th>\n      <th>size</th>\n      <th>color</th>\n      <th>manufacturerID</th>\n      <th>price</th>\n      <th>customerID</th>\n      <th>salutation</th>\n      <th>dateOfBirth</th>\n      <th>state</th>\n      <th>creationDate</th>\n      <th>returnShipment</th>\n    </tr>\n  </thead>\n  <tbody>\n    <tr>\n      <th>0</th>\n      <td>1</td>\n      <td>2012-04-01</td>\n      <td>2012-04-03</td>\n      <td>186</td>\n      <td>m</td>\n      <td>denim</td>\n      <td>25</td>\n      <td>69.90</td>\n      <td>794</td>\n      <td>Mrs</td>\n      <td>1965-01-06</td>\n      <td>Baden-Wuerttemberg</td>\n      <td>2011-04-25</td>\n      <td>0</td>\n    </tr>\n    <tr>\n      <th>1</th>\n      <td>2</td>\n      <td>2012-04-01</td>\n      <td>2012-04-03</td>\n      <td>71</td>\n      <td>9+</td>\n      <td>ocher</td>\n      <td>21</td>\n      <td>69.95</td>\n      <td>794</td>\n      <td>Mrs</td>\n      <td>1965-01-06</td>\n      <td>Baden-Wuerttemberg</td>\n      <td>2011-04-25</td>\n      <td>1</td>\n    </tr>\n    <tr>\n      <th>2</th>\n      <td>3</td>\n      <td>2012-04-01</td>\n      <td>2012-04-03</td>\n      <td>71</td>\n      <td>9+</td>\n      <td>curry</td>\n      <td>21</td>\n      <td>69.95</td>\n      <td>794</td>\n      <td>Mrs</td>\n      <td>1965-01-06</td>\n      <td>Baden-Wuerttemberg</td>\n      <td>2011-04-25</td>\n      <td>1</td>\n    </tr>\n    <tr>\n      <th>3</th>\n      <td>4</td>\n      <td>2012-04-02</td>\n      <td>NaN</td>\n      <td>22</td>\n      <td>m</td>\n      <td>green</td>\n      <td>14</td>\n      <td>39.90</td>\n      <td>808</td>\n      <td>Mrs</td>\n      <td>1959-11-09</td>\n      <td>Saxony</td>\n      <td>2012-01-04</td>\n      <td>0</td>\n    </tr>\n    <tr>\n      <th>4</th>\n      <td>5</td>\n      <td>2012-04-02</td>\n      <td>1990-12-31</td>\n      <td>151</td>\n      <td>39</td>\n      <td>black</td>\n      <td>53</td>\n      <td>29.90</td>\n      <td>825</td>\n      <td>Mrs</td>\n      <td>1964-07-11</td>\n      <td>Rhineland-Palatinate</td>\n      <td>2011-02-16</td>\n      <td>0</td>\n    </tr>\n    <tr>\n      <th>...</th>\n      <td>...</td>\n      <td>...</td>\n      <td>...</td>\n      <td>...</td>\n      <td>...</td>\n      <td>...</td>\n      <td>...</td>\n      <td>...</td>\n      <td>...</td>\n      <td>...</td>\n      <td>...</td>\n      <td>...</td>\n      <td>...</td>\n      <td>...</td>\n    </tr>\n    <tr>\n      <th>481086</th>\n      <td>481087</td>\n      <td>2013-03-31</td>\n      <td>2013-04-09</td>\n      <td>2561</td>\n      <td>39</td>\n      <td>blue</td>\n      <td>1</td>\n      <td>139.90</td>\n      <td>7032</td>\n      <td>Mr</td>\n      <td>1962-12-17</td>\n      <td>Lower Saxony</td>\n      <td>2011-03-12</td>\n      <td>1</td>\n    </tr>\n    <tr>\n      <th>481087</th>\n      <td>481088</td>\n      <td>2013-03-31</td>\n      <td>2013-04-09</td>\n      <td>2561</td>\n      <td>39+</td>\n      <td>blue</td>\n      <td>1</td>\n      <td>139.90</td>\n      <td>7032</td>\n      <td>Mr</td>\n      <td>1962-12-17</td>\n      <td>Lower Saxony</td>\n      <td>2011-03-12</td>\n      <td>1</td>\n    </tr>\n    <tr>\n      <th>481089</th>\n      <td>481090</td>\n      <td>2013-03-31</td>\n      <td>1990-12-31</td>\n      <td>2458</td>\n      <td>XXL</td>\n      <td>black</td>\n      <td>5</td>\n      <td>99.90</td>\n      <td>86611</td>\n      <td>Mr</td>\n      <td>1973-05-16</td>\n      <td>Berlin</td>\n      <td>2013-03-31</td>\n      <td>0</td>\n    </tr>\n    <tr>\n      <th>481090</th>\n      <td>481091</td>\n      <td>2013-03-31</td>\n      <td>1990-12-31</td>\n      <td>2659</td>\n      <td>XXL</td>\n      <td>black</td>\n      <td>49</td>\n      <td>99.90</td>\n      <td>86611</td>\n      <td>Mr</td>\n      <td>1973-05-16</td>\n      <td>Berlin</td>\n      <td>2013-03-31</td>\n      <td>0</td>\n    </tr>\n    <tr>\n      <th>481091</th>\n      <td>481092</td>\n      <td>2013-03-31</td>\n      <td>1990-12-31</td>\n      <td>2375</td>\n      <td>XXL</td>\n      <td>red</td>\n      <td>49</td>\n      <td>119.90</td>\n      <td>86611</td>\n      <td>Mr</td>\n      <td>1973-05-16</td>\n      <td>Berlin</td>\n      <td>2013-03-31</td>\n      <td>0</td>\n    </tr>\n  </tbody>\n</table>\n<p>431953 rows × 14 columns</p>\n</div>"
     },
     "execution_count": 676,
     "metadata": {},
     "output_type": "execute_result"
    }
   ],
   "source": [
    "# mit einer regular expression (mit welcher man strings maskieren kann) und der funktion df.query() können wir alle datensätze abfragen,\n",
    "# die ein dateOfBirth aus dem Jahr 1900 haben\n",
    "df.query(\"dateOfBirth.str.contains('19\\d\\d-\\d\\d-\\d\\d', na=False, regex=True)\")"
   ]
  },
  {
   "cell_type": "code",
   "execution_count": 677,
   "metadata": {},
   "outputs": [
    {
     "data": {
      "text/plain": "        orderItemID   orderDate deliveryDate  itemID     size       color  \\\n6495           6496  2012-04-06   2012-04-09     199       39       white   \n6496           6497  2012-04-06   2012-06-19      62  unsized       green   \n6497           6498  2012-04-06   2012-06-19     158       38       green   \n20584         20585  2012-04-15   2012-04-19      96      xxl        blau   \n20585         20586  2012-04-15   2012-04-19      96      xxl       green   \n...             ...         ...          ...     ...      ...         ...   \n440654       440655  2013-03-10   2013-03-12    2382        M  terracotta   \n464390       464391  2013-03-22          NaN    2869       43       black   \n464391       464392  2013-03-22          NaN    2552       4+        blue   \n465941       465942  2013-03-23   2013-04-01    2552       5+        blue   \n465942       465943  2013-03-23   2013-04-01    2869       43       black   \n\n        manufacturerID   price  customerID salutation dateOfBirth  \\\n6495                 4   69.95        3941        Mrs  2010-08-03   \n6496                 5   14.90        3941        Mrs  2010-08-03   \n6497                54   59.90        3941        Mrs  2010-08-03   \n20584                3   16.90        9222        Mrs  2011-04-11   \n20585                3   16.90        9222        Mrs  2011-04-11   \n...                ...     ...         ...        ...         ...   \n440654               3   49.90       49402        Mrs  2011-10-18   \n464390               1  149.90       84668        Mrs  2012-11-18   \n464391              19   89.90       84668        Mrs  2012-11-18   \n465941              19   89.90       84668        Mrs  2012-11-18   \n465942               1  149.90       84668        Mrs  2012-11-18   \n\n                     state creationDate  returnShipment  \n6495          Lower Saxony   2011-02-16               0  \n6496          Lower Saxony   2011-02-16               0  \n6497          Lower Saxony   2011-02-16               1  \n20584              Bavaria   2011-05-23               0  \n20585              Bavaria   2011-05-23               0  \n...                    ...          ...             ...  \n440654        Lower Saxony   2013-03-10               1  \n464390  Baden-Wuerttemberg   2013-03-22               0  \n464391  Baden-Wuerttemberg   2013-03-22               0  \n465941  Baden-Wuerttemberg   2013-03-22               1  \n465942  Baden-Wuerttemberg   2013-03-22               1  \n\n[247 rows x 14 columns]",
      "text/html": "<div>\n<style scoped>\n    .dataframe tbody tr th:only-of-type {\n        vertical-align: middle;\n    }\n\n    .dataframe tbody tr th {\n        vertical-align: top;\n    }\n\n    .dataframe thead th {\n        text-align: right;\n    }\n</style>\n<table border=\"1\" class=\"dataframe\">\n  <thead>\n    <tr style=\"text-align: right;\">\n      <th></th>\n      <th>orderItemID</th>\n      <th>orderDate</th>\n      <th>deliveryDate</th>\n      <th>itemID</th>\n      <th>size</th>\n      <th>color</th>\n      <th>manufacturerID</th>\n      <th>price</th>\n      <th>customerID</th>\n      <th>salutation</th>\n      <th>dateOfBirth</th>\n      <th>state</th>\n      <th>creationDate</th>\n      <th>returnShipment</th>\n    </tr>\n  </thead>\n  <tbody>\n    <tr>\n      <th>6495</th>\n      <td>6496</td>\n      <td>2012-04-06</td>\n      <td>2012-04-09</td>\n      <td>199</td>\n      <td>39</td>\n      <td>white</td>\n      <td>4</td>\n      <td>69.95</td>\n      <td>3941</td>\n      <td>Mrs</td>\n      <td>2010-08-03</td>\n      <td>Lower Saxony</td>\n      <td>2011-02-16</td>\n      <td>0</td>\n    </tr>\n    <tr>\n      <th>6496</th>\n      <td>6497</td>\n      <td>2012-04-06</td>\n      <td>2012-06-19</td>\n      <td>62</td>\n      <td>unsized</td>\n      <td>green</td>\n      <td>5</td>\n      <td>14.90</td>\n      <td>3941</td>\n      <td>Mrs</td>\n      <td>2010-08-03</td>\n      <td>Lower Saxony</td>\n      <td>2011-02-16</td>\n      <td>0</td>\n    </tr>\n    <tr>\n      <th>6497</th>\n      <td>6498</td>\n      <td>2012-04-06</td>\n      <td>2012-06-19</td>\n      <td>158</td>\n      <td>38</td>\n      <td>green</td>\n      <td>54</td>\n      <td>59.90</td>\n      <td>3941</td>\n      <td>Mrs</td>\n      <td>2010-08-03</td>\n      <td>Lower Saxony</td>\n      <td>2011-02-16</td>\n      <td>1</td>\n    </tr>\n    <tr>\n      <th>20584</th>\n      <td>20585</td>\n      <td>2012-04-15</td>\n      <td>2012-04-19</td>\n      <td>96</td>\n      <td>xxl</td>\n      <td>blau</td>\n      <td>3</td>\n      <td>16.90</td>\n      <td>9222</td>\n      <td>Mrs</td>\n      <td>2011-04-11</td>\n      <td>Bavaria</td>\n      <td>2011-05-23</td>\n      <td>0</td>\n    </tr>\n    <tr>\n      <th>20585</th>\n      <td>20586</td>\n      <td>2012-04-15</td>\n      <td>2012-04-19</td>\n      <td>96</td>\n      <td>xxl</td>\n      <td>green</td>\n      <td>3</td>\n      <td>16.90</td>\n      <td>9222</td>\n      <td>Mrs</td>\n      <td>2011-04-11</td>\n      <td>Bavaria</td>\n      <td>2011-05-23</td>\n      <td>0</td>\n    </tr>\n    <tr>\n      <th>...</th>\n      <td>...</td>\n      <td>...</td>\n      <td>...</td>\n      <td>...</td>\n      <td>...</td>\n      <td>...</td>\n      <td>...</td>\n      <td>...</td>\n      <td>...</td>\n      <td>...</td>\n      <td>...</td>\n      <td>...</td>\n      <td>...</td>\n      <td>...</td>\n    </tr>\n    <tr>\n      <th>440654</th>\n      <td>440655</td>\n      <td>2013-03-10</td>\n      <td>2013-03-12</td>\n      <td>2382</td>\n      <td>M</td>\n      <td>terracotta</td>\n      <td>3</td>\n      <td>49.90</td>\n      <td>49402</td>\n      <td>Mrs</td>\n      <td>2011-10-18</td>\n      <td>Lower Saxony</td>\n      <td>2013-03-10</td>\n      <td>1</td>\n    </tr>\n    <tr>\n      <th>464390</th>\n      <td>464391</td>\n      <td>2013-03-22</td>\n      <td>NaN</td>\n      <td>2869</td>\n      <td>43</td>\n      <td>black</td>\n      <td>1</td>\n      <td>149.90</td>\n      <td>84668</td>\n      <td>Mrs</td>\n      <td>2012-11-18</td>\n      <td>Baden-Wuerttemberg</td>\n      <td>2013-03-22</td>\n      <td>0</td>\n    </tr>\n    <tr>\n      <th>464391</th>\n      <td>464392</td>\n      <td>2013-03-22</td>\n      <td>NaN</td>\n      <td>2552</td>\n      <td>4+</td>\n      <td>blue</td>\n      <td>19</td>\n      <td>89.90</td>\n      <td>84668</td>\n      <td>Mrs</td>\n      <td>2012-11-18</td>\n      <td>Baden-Wuerttemberg</td>\n      <td>2013-03-22</td>\n      <td>0</td>\n    </tr>\n    <tr>\n      <th>465941</th>\n      <td>465942</td>\n      <td>2013-03-23</td>\n      <td>2013-04-01</td>\n      <td>2552</td>\n      <td>5+</td>\n      <td>blue</td>\n      <td>19</td>\n      <td>89.90</td>\n      <td>84668</td>\n      <td>Mrs</td>\n      <td>2012-11-18</td>\n      <td>Baden-Wuerttemberg</td>\n      <td>2013-03-22</td>\n      <td>1</td>\n    </tr>\n    <tr>\n      <th>465942</th>\n      <td>465943</td>\n      <td>2013-03-23</td>\n      <td>2013-04-01</td>\n      <td>2869</td>\n      <td>43</td>\n      <td>black</td>\n      <td>1</td>\n      <td>149.90</td>\n      <td>84668</td>\n      <td>Mrs</td>\n      <td>2012-11-18</td>\n      <td>Baden-Wuerttemberg</td>\n      <td>2013-03-22</td>\n      <td>1</td>\n    </tr>\n  </tbody>\n</table>\n<p>247 rows × 14 columns</p>\n</div>"
     },
     "execution_count": 677,
     "metadata": {},
     "output_type": "execute_result"
    }
   ],
   "source": [
    "# mit einer regular expression (mit welcher man strings maskieren kann) und der funktion df.query() können wir alle datensätze abfragen,\n",
    "# die ein dateOfBirth aus dem Jahr 2000 haben\n",
    "df.query(\"dateOfBirth.str.contains('20\\d\\d-\\d\\d-\\d\\d', na=False, regex=True)\")"
   ]
  },
  {
   "cell_type": "code",
   "execution_count": 678,
   "metadata": {},
   "outputs": [
    {
     "data": {
      "text/plain": "Empty DataFrame\nColumns: [orderItemID, orderDate, deliveryDate, itemID, size, color, manufacturerID, price, customerID, salutation, dateOfBirth, state, creationDate, returnShipment]\nIndex: []",
      "text/html": "<div>\n<style scoped>\n    .dataframe tbody tr th:only-of-type {\n        vertical-align: middle;\n    }\n\n    .dataframe tbody tr th {\n        vertical-align: top;\n    }\n\n    .dataframe thead th {\n        text-align: right;\n    }\n</style>\n<table border=\"1\" class=\"dataframe\">\n  <thead>\n    <tr style=\"text-align: right;\">\n      <th></th>\n      <th>orderItemID</th>\n      <th>orderDate</th>\n      <th>deliveryDate</th>\n      <th>itemID</th>\n      <th>size</th>\n      <th>color</th>\n      <th>manufacturerID</th>\n      <th>price</th>\n      <th>customerID</th>\n      <th>salutation</th>\n      <th>dateOfBirth</th>\n      <th>state</th>\n      <th>creationDate</th>\n      <th>returnShipment</th>\n    </tr>\n  </thead>\n  <tbody>\n  </tbody>\n</table>\n</div>"
     },
     "execution_count": 678,
     "metadata": {},
     "output_type": "execute_result"
    }
   ],
   "source": [
    "# mit einer regular expression (mit welcher man strings maskieren kann) und der funktion df.query() können wir alle datensätze abfragen,\n",
    "# die ein dateOfBirth aus dem Jahr 2100 haben\n",
    "df.query(\"dateOfBirth.str.contains('21\\d\\d-\\d\\d-\\d\\d', na=False, regex=True)\")"
   ]
  },
  {
   "cell_type": "markdown",
   "metadata": {},
   "source": [
    "**kommentar:**\n",
    "- wir haben uns alle jahrhunderte von 1600 - 2100 angeschaut, um ein gefühl dafür zu bekommen, in welchen \"clustern\" wir ausreißer finden\n",
    "- im 16. jahrhundert haben wir drei datensätze identifizieren können, die wir aufgrund der datenmenge von etwa 500.000 löschen werden\n",
    "\n",
    "**to-do:**\n",
    "- datensätze aus 1600 löschen"
   ]
  },
  {
   "cell_type": "code",
   "execution_count": 679,
   "metadata": {},
   "outputs": [],
   "source": [
    "# hier definieren wir ein pattern (muster), welches wir anschließend als maske verwenden, um die datensätze zu identifizieren, die wir löschen\n",
    "pattern = r'16\\d\\d-\\d\\d-\\d\\d'\n",
    "\n",
    "# hier wenden wir das pattern auf der spalte dateOfBirth an\n",
    "mask = df['dateOfBirth'].str.contains(pattern, na=False)\n",
    "\n",
    "# mit dem ~ operator können wir die maske auf dem gesamten datensatz löschen\n",
    "df = df[~mask]"
   ]
  },
  {
   "cell_type": "code",
   "execution_count": 680,
   "metadata": {},
   "outputs": [
    {
     "data": {
      "text/plain": "Empty DataFrame\nColumns: [orderItemID, orderDate, deliveryDate, itemID, size, color, manufacturerID, price, customerID, salutation, dateOfBirth, state, creationDate, returnShipment]\nIndex: []",
      "text/html": "<div>\n<style scoped>\n    .dataframe tbody tr th:only-of-type {\n        vertical-align: middle;\n    }\n\n    .dataframe tbody tr th {\n        vertical-align: top;\n    }\n\n    .dataframe thead th {\n        text-align: right;\n    }\n</style>\n<table border=\"1\" class=\"dataframe\">\n  <thead>\n    <tr style=\"text-align: right;\">\n      <th></th>\n      <th>orderItemID</th>\n      <th>orderDate</th>\n      <th>deliveryDate</th>\n      <th>itemID</th>\n      <th>size</th>\n      <th>color</th>\n      <th>manufacturerID</th>\n      <th>price</th>\n      <th>customerID</th>\n      <th>salutation</th>\n      <th>dateOfBirth</th>\n      <th>state</th>\n      <th>creationDate</th>\n      <th>returnShipment</th>\n    </tr>\n  </thead>\n  <tbody>\n  </tbody>\n</table>\n</div>"
     },
     "execution_count": 680,
     "metadata": {},
     "output_type": "execute_result"
    }
   ],
   "source": [
    "df.query(\"dateOfBirth.str.contains('16\\d\\d-\\d\\d-\\d\\d', na=False, regex=True)\")"
   ]
  },
  {
   "cell_type": "markdown",
   "metadata": {},
   "source": [
    "**kommentar:**\n",
    "- wir haben nun alle zeilen gelöscht, die aus dem 16. jahrhundert vorhanden waren\n",
    "- jetzt haben wir die möglichkeit den datentyp von object auf datetime zu ändern, um später damit besser rechnen zu können\n",
    "\n",
    "**to-do:**\n",
    "- datentyp für alle datumsfelder anpassen"
   ]
  },
  {
   "cell_type": "code",
   "execution_count": 681,
   "metadata": {},
   "outputs": [],
   "source": [
    "# diese funktion haben wir bereits versucht vorne zu verwenden, jedoch ohne erfolg, da 1655 out of bounds war\n",
    "# da wir nun die entsprechenden fehlerhaften zeilen gelöscht haben, können wir die funktion erneut ausführen\n",
    "\n",
    "df[['orderDate', 'deliveryDate', 'dateOfBirth', 'creationDate']] = \\\n",
    "df[['orderDate', 'deliveryDate', 'dateOfBirth', 'creationDate']].apply(pd.to_datetime, format='%Y-%m-%d')"
   ]
  },
  {
   "cell_type": "markdown",
   "metadata": {},
   "source": [
    "**kommentar:**\n",
    "- nachdem wir nun den datentyp angepasst haben, wollen wir das ergebnis validieren"
   ]
  },
  {
   "cell_type": "code",
   "execution_count": 682,
   "metadata": {},
   "outputs": [
    {
     "name": "stdout",
     "output_type": "stream",
     "text": [
      "<class 'pandas.core.frame.DataFrame'>\n",
      "Int64Index: 481089 entries, 0 to 481091\n",
      "Data columns (total 14 columns):\n",
      " #   Column          Non-Null Count   Dtype         \n",
      "---  ------          --------------   -----         \n",
      " 0   orderItemID     481089 non-null  int64         \n",
      " 1   orderDate       481089 non-null  datetime64[ns]\n",
      " 2   deliveryDate    441670 non-null  datetime64[ns]\n",
      " 3   itemID          481089 non-null  int64         \n",
      " 4   size            481089 non-null  object        \n",
      " 5   color           480946 non-null  object        \n",
      " 6   manufacturerID  481089 non-null  int64         \n",
      " 7   price           481089 non-null  float64       \n",
      " 8   customerID      481089 non-null  int64         \n",
      " 9   salutation      481089 non-null  object        \n",
      " 10  dateOfBirth     432200 non-null  datetime64[ns]\n",
      " 11  state           481089 non-null  object        \n",
      " 12  creationDate    481089 non-null  datetime64[ns]\n",
      " 13  returnShipment  481089 non-null  int64         \n",
      "dtypes: datetime64[ns](4), float64(1), int64(5), object(4)\n",
      "memory usage: 55.1+ MB\n"
     ]
    }
   ],
   "source": [
    "df.info()"
   ]
  },
  {
   "cell_type": "code",
   "execution_count": 683,
   "metadata": {},
   "outputs": [
    {
     "name": "stdout",
     "output_type": "stream",
     "text": [
      "<class 'pandas.core.frame.DataFrame'>\n",
      "Int64Index: 481089 entries, 0 to 481091\n",
      "Data columns (total 14 columns):\n",
      " #   Column          Non-Null Count   Dtype         \n",
      "---  ------          --------------   -----         \n",
      " 0   orderItemID     481089 non-null  int64         \n",
      " 1   orderDate       481089 non-null  datetime64[ns]\n",
      " 2   deliveryDate    441670 non-null  datetime64[ns]\n",
      " 3   itemID          481089 non-null  int64         \n",
      " 4   size            481089 non-null  object        \n",
      " 5   color           480946 non-null  object        \n",
      " 6   manufacturerID  481089 non-null  int64         \n",
      " 7   price           481089 non-null  float64       \n",
      " 8   customerID      481089 non-null  int64         \n",
      " 9   salutation      481089 non-null  object        \n",
      " 10  dateOfBirth     432200 non-null  datetime64[ns]\n",
      " 11  state           481089 non-null  object        \n",
      " 12  creationDate    481089 non-null  datetime64[ns]\n",
      " 13  returnShipment  481089 non-null  bool          \n",
      "dtypes: bool(1), datetime64[ns](4), float64(1), int64(4), object(4)\n",
      "memory usage: 51.8+ MB\n"
     ]
    }
   ],
   "source": [
    "# anpassung des datentyps int auf bool bei der spalte returnShipment\n",
    "\n",
    "df['returnShipment'] = df['returnShipment'].astype(bool)\n",
    "df.info()"
   ]
  },
  {
   "cell_type": "markdown",
   "metadata": {},
   "source": [
    "**kommentar:**\n",
    "- nachdem wir die fehlerhaften datensätze aus dem 16. jahrhundert gelöscht haben, wollen wir die weiteren unplausiblen datumsangaben untersuchen\n",
    "- hierfür extrahieren wir das alter zum zeitpunkt der bestellung, indem wir das orderDate-dateOfBirth berechnen\n",
    "\n",
    "**to-do:**\n",
    "- feature engineering \"age_at_order\""
   ]
  },
  {
   "cell_type": "code",
   "execution_count": 684,
   "metadata": {},
   "outputs": [
    {
     "data": {
      "text/plain": "   orderItemID  orderDate deliveryDate  itemID size  color  manufacturerID  \\\n0            1 2012-04-01   2012-04-03     186    m  denim              25   \n1            2 2012-04-01   2012-04-03      71   9+  ocher              21   \n2            3 2012-04-01   2012-04-03      71   9+  curry              21   \n3            4 2012-04-02          NaT      22    m  green              14   \n4            5 2012-04-02   1990-12-31     151   39  black              53   \n\n   price  customerID salutation dateOfBirth                 state  \\\n0  69.90         794        Mrs  1965-01-06    Baden-Wuerttemberg   \n1  69.95         794        Mrs  1965-01-06    Baden-Wuerttemberg   \n2  69.95         794        Mrs  1965-01-06    Baden-Wuerttemberg   \n3  39.90         808        Mrs  1959-11-09                Saxony   \n4  29.90         825        Mrs  1964-07-11  Rhineland-Palatinate   \n\n  creationDate  returnShipment  age_at_order  \n0   2011-04-25           False     47.265753  \n1   2011-04-25            True     47.265753  \n2   2011-04-25            True     47.265753  \n3   2012-01-04           False     52.432877  \n4   2011-02-16           False     47.758904  ",
      "text/html": "<div>\n<style scoped>\n    .dataframe tbody tr th:only-of-type {\n        vertical-align: middle;\n    }\n\n    .dataframe tbody tr th {\n        vertical-align: top;\n    }\n\n    .dataframe thead th {\n        text-align: right;\n    }\n</style>\n<table border=\"1\" class=\"dataframe\">\n  <thead>\n    <tr style=\"text-align: right;\">\n      <th></th>\n      <th>orderItemID</th>\n      <th>orderDate</th>\n      <th>deliveryDate</th>\n      <th>itemID</th>\n      <th>size</th>\n      <th>color</th>\n      <th>manufacturerID</th>\n      <th>price</th>\n      <th>customerID</th>\n      <th>salutation</th>\n      <th>dateOfBirth</th>\n      <th>state</th>\n      <th>creationDate</th>\n      <th>returnShipment</th>\n      <th>age_at_order</th>\n    </tr>\n  </thead>\n  <tbody>\n    <tr>\n      <th>0</th>\n      <td>1</td>\n      <td>2012-04-01</td>\n      <td>2012-04-03</td>\n      <td>186</td>\n      <td>m</td>\n      <td>denim</td>\n      <td>25</td>\n      <td>69.90</td>\n      <td>794</td>\n      <td>Mrs</td>\n      <td>1965-01-06</td>\n      <td>Baden-Wuerttemberg</td>\n      <td>2011-04-25</td>\n      <td>False</td>\n      <td>47.265753</td>\n    </tr>\n    <tr>\n      <th>1</th>\n      <td>2</td>\n      <td>2012-04-01</td>\n      <td>2012-04-03</td>\n      <td>71</td>\n      <td>9+</td>\n      <td>ocher</td>\n      <td>21</td>\n      <td>69.95</td>\n      <td>794</td>\n      <td>Mrs</td>\n      <td>1965-01-06</td>\n      <td>Baden-Wuerttemberg</td>\n      <td>2011-04-25</td>\n      <td>True</td>\n      <td>47.265753</td>\n    </tr>\n    <tr>\n      <th>2</th>\n      <td>3</td>\n      <td>2012-04-01</td>\n      <td>2012-04-03</td>\n      <td>71</td>\n      <td>9+</td>\n      <td>curry</td>\n      <td>21</td>\n      <td>69.95</td>\n      <td>794</td>\n      <td>Mrs</td>\n      <td>1965-01-06</td>\n      <td>Baden-Wuerttemberg</td>\n      <td>2011-04-25</td>\n      <td>True</td>\n      <td>47.265753</td>\n    </tr>\n    <tr>\n      <th>3</th>\n      <td>4</td>\n      <td>2012-04-02</td>\n      <td>NaT</td>\n      <td>22</td>\n      <td>m</td>\n      <td>green</td>\n      <td>14</td>\n      <td>39.90</td>\n      <td>808</td>\n      <td>Mrs</td>\n      <td>1959-11-09</td>\n      <td>Saxony</td>\n      <td>2012-01-04</td>\n      <td>False</td>\n      <td>52.432877</td>\n    </tr>\n    <tr>\n      <th>4</th>\n      <td>5</td>\n      <td>2012-04-02</td>\n      <td>1990-12-31</td>\n      <td>151</td>\n      <td>39</td>\n      <td>black</td>\n      <td>53</td>\n      <td>29.90</td>\n      <td>825</td>\n      <td>Mrs</td>\n      <td>1964-07-11</td>\n      <td>Rhineland-Palatinate</td>\n      <td>2011-02-16</td>\n      <td>False</td>\n      <td>47.758904</td>\n    </tr>\n  </tbody>\n</table>\n</div>"
     },
     "execution_count": 684,
     "metadata": {},
     "output_type": "execute_result"
    }
   ],
   "source": [
    "df['age_at_order'] = (df['orderDate'] - df['dateOfBirth']) / pd.Timedelta(days=365)\n",
    "df.head()"
   ]
  },
  {
   "cell_type": "code",
   "execution_count": 685,
   "metadata": {},
   "outputs": [
    {
     "data": {
      "text/plain": "        orderItemID  orderDate deliveryDate  itemID size  color  \\\n0                 1 2012-04-01   2012-04-03     186    m  denim   \n1                 2 2012-04-01   2012-04-03      71   9+  ocher   \n2                 3 2012-04-01   2012-04-03      71   9+  curry   \n3                 4 2012-04-02          NaT      22    m  green   \n4                 5 2012-04-02   1990-12-31     151   39  black   \n...             ...        ...          ...     ...  ...    ...   \n481087       481088 2013-03-31   2013-04-09    2561  39+   blue   \n481088       481089 2013-03-31   2013-04-02    2669   39   grey   \n481089       481090 2013-03-31   1990-12-31    2458  XXL  black   \n481090       481091 2013-03-31   1990-12-31    2659  XXL  black   \n481091       481092 2013-03-31   1990-12-31    2375  XXL    red   \n\n        manufacturerID   price  customerID salutation                 state  \\\n0                   25   69.90         794        Mrs    Baden-Wuerttemberg   \n1                   21   69.95         794        Mrs    Baden-Wuerttemberg   \n2                   21   69.95         794        Mrs    Baden-Wuerttemberg   \n3                   14   39.90         808        Mrs                Saxony   \n4                   53   29.90         825        Mrs  Rhineland-Palatinate   \n...                ...     ...         ...        ...                   ...   \n481087               1  139.90        7032         Mr          Lower Saxony   \n481088              18  130.00       86610        Mrs                Berlin   \n481089               5   99.90       86611         Mr                Berlin   \n481090              49   99.90       86611         Mr                Berlin   \n481091              49  119.90       86611         Mr                Berlin   \n\n       creationDate  returnShipment  age_at_order  \n0        2011-04-25           False     47.265753  \n1        2011-04-25            True     47.265753  \n2        2011-04-25            True     47.265753  \n3        2012-01-04           False     52.432877  \n4        2011-02-16           False     47.758904  \n...             ...             ...           ...  \n481087   2011-03-12            True     50.320548  \n481088   2012-03-24           False           NaN  \n481089   2013-03-31           False     39.901370  \n481090   2013-03-31           False     39.901370  \n481091   2013-03-31           False     39.901370  \n\n[475719 rows x 14 columns]",
      "text/html": "<div>\n<style scoped>\n    .dataframe tbody tr th:only-of-type {\n        vertical-align: middle;\n    }\n\n    .dataframe tbody tr th {\n        vertical-align: top;\n    }\n\n    .dataframe thead th {\n        text-align: right;\n    }\n</style>\n<table border=\"1\" class=\"dataframe\">\n  <thead>\n    <tr style=\"text-align: right;\">\n      <th></th>\n      <th>orderItemID</th>\n      <th>orderDate</th>\n      <th>deliveryDate</th>\n      <th>itemID</th>\n      <th>size</th>\n      <th>color</th>\n      <th>manufacturerID</th>\n      <th>price</th>\n      <th>customerID</th>\n      <th>salutation</th>\n      <th>state</th>\n      <th>creationDate</th>\n      <th>returnShipment</th>\n      <th>age_at_order</th>\n    </tr>\n  </thead>\n  <tbody>\n    <tr>\n      <th>0</th>\n      <td>1</td>\n      <td>2012-04-01</td>\n      <td>2012-04-03</td>\n      <td>186</td>\n      <td>m</td>\n      <td>denim</td>\n      <td>25</td>\n      <td>69.90</td>\n      <td>794</td>\n      <td>Mrs</td>\n      <td>Baden-Wuerttemberg</td>\n      <td>2011-04-25</td>\n      <td>False</td>\n      <td>47.265753</td>\n    </tr>\n    <tr>\n      <th>1</th>\n      <td>2</td>\n      <td>2012-04-01</td>\n      <td>2012-04-03</td>\n      <td>71</td>\n      <td>9+</td>\n      <td>ocher</td>\n      <td>21</td>\n      <td>69.95</td>\n      <td>794</td>\n      <td>Mrs</td>\n      <td>Baden-Wuerttemberg</td>\n      <td>2011-04-25</td>\n      <td>True</td>\n      <td>47.265753</td>\n    </tr>\n    <tr>\n      <th>2</th>\n      <td>3</td>\n      <td>2012-04-01</td>\n      <td>2012-04-03</td>\n      <td>71</td>\n      <td>9+</td>\n      <td>curry</td>\n      <td>21</td>\n      <td>69.95</td>\n      <td>794</td>\n      <td>Mrs</td>\n      <td>Baden-Wuerttemberg</td>\n      <td>2011-04-25</td>\n      <td>True</td>\n      <td>47.265753</td>\n    </tr>\n    <tr>\n      <th>3</th>\n      <td>4</td>\n      <td>2012-04-02</td>\n      <td>NaT</td>\n      <td>22</td>\n      <td>m</td>\n      <td>green</td>\n      <td>14</td>\n      <td>39.90</td>\n      <td>808</td>\n      <td>Mrs</td>\n      <td>Saxony</td>\n      <td>2012-01-04</td>\n      <td>False</td>\n      <td>52.432877</td>\n    </tr>\n    <tr>\n      <th>4</th>\n      <td>5</td>\n      <td>2012-04-02</td>\n      <td>1990-12-31</td>\n      <td>151</td>\n      <td>39</td>\n      <td>black</td>\n      <td>53</td>\n      <td>29.90</td>\n      <td>825</td>\n      <td>Mrs</td>\n      <td>Rhineland-Palatinate</td>\n      <td>2011-02-16</td>\n      <td>False</td>\n      <td>47.758904</td>\n    </tr>\n    <tr>\n      <th>...</th>\n      <td>...</td>\n      <td>...</td>\n      <td>...</td>\n      <td>...</td>\n      <td>...</td>\n      <td>...</td>\n      <td>...</td>\n      <td>...</td>\n      <td>...</td>\n      <td>...</td>\n      <td>...</td>\n      <td>...</td>\n      <td>...</td>\n      <td>...</td>\n    </tr>\n    <tr>\n      <th>481087</th>\n      <td>481088</td>\n      <td>2013-03-31</td>\n      <td>2013-04-09</td>\n      <td>2561</td>\n      <td>39+</td>\n      <td>blue</td>\n      <td>1</td>\n      <td>139.90</td>\n      <td>7032</td>\n      <td>Mr</td>\n      <td>Lower Saxony</td>\n      <td>2011-03-12</td>\n      <td>True</td>\n      <td>50.320548</td>\n    </tr>\n    <tr>\n      <th>481088</th>\n      <td>481089</td>\n      <td>2013-03-31</td>\n      <td>2013-04-02</td>\n      <td>2669</td>\n      <td>39</td>\n      <td>grey</td>\n      <td>18</td>\n      <td>130.00</td>\n      <td>86610</td>\n      <td>Mrs</td>\n      <td>Berlin</td>\n      <td>2012-03-24</td>\n      <td>False</td>\n      <td>NaN</td>\n    </tr>\n    <tr>\n      <th>481089</th>\n      <td>481090</td>\n      <td>2013-03-31</td>\n      <td>1990-12-31</td>\n      <td>2458</td>\n      <td>XXL</td>\n      <td>black</td>\n      <td>5</td>\n      <td>99.90</td>\n      <td>86611</td>\n      <td>Mr</td>\n      <td>Berlin</td>\n      <td>2013-03-31</td>\n      <td>False</td>\n      <td>39.901370</td>\n    </tr>\n    <tr>\n      <th>481090</th>\n      <td>481091</td>\n      <td>2013-03-31</td>\n      <td>1990-12-31</td>\n      <td>2659</td>\n      <td>XXL</td>\n      <td>black</td>\n      <td>49</td>\n      <td>99.90</td>\n      <td>86611</td>\n      <td>Mr</td>\n      <td>Berlin</td>\n      <td>2013-03-31</td>\n      <td>False</td>\n      <td>39.901370</td>\n    </tr>\n    <tr>\n      <th>481091</th>\n      <td>481092</td>\n      <td>2013-03-31</td>\n      <td>1990-12-31</td>\n      <td>2375</td>\n      <td>XXL</td>\n      <td>red</td>\n      <td>49</td>\n      <td>119.90</td>\n      <td>86611</td>\n      <td>Mr</td>\n      <td>Berlin</td>\n      <td>2013-03-31</td>\n      <td>False</td>\n      <td>39.901370</td>\n    </tr>\n  </tbody>\n</table>\n<p>475719 rows × 14 columns</p>\n</div>"
     },
     "execution_count": 685,
     "metadata": {},
     "output_type": "execute_result"
    }
   ],
   "source": [
    "df.drop(df.loc[df['age_at_order']<7].index, inplace=True)\n",
    "df.drop(df.loc[df['age_at_order']>=110].index, inplace=True)\n",
    "df.drop(columns=['dateOfBirth'])"
   ]
  },
  {
   "cell_type": "code",
   "execution_count": 686,
   "metadata": {},
   "outputs": [
    {
     "name": "stdout",
     "output_type": "stream",
     "text": [
      "<class 'pandas.core.frame.DataFrame'>\n",
      "Int64Index: 475719 entries, 0 to 481091\n",
      "Data columns (total 15 columns):\n",
      " #   Column          Non-Null Count   Dtype         \n",
      "---  ------          --------------   -----         \n",
      " 0   orderItemID     475719 non-null  int64         \n",
      " 1   orderDate       475719 non-null  datetime64[ns]\n",
      " 2   deliveryDate    436682 non-null  datetime64[ns]\n",
      " 3   itemID          475719 non-null  int64         \n",
      " 4   size            475719 non-null  object        \n",
      " 5   color           475577 non-null  object        \n",
      " 6   manufacturerID  475719 non-null  int64         \n",
      " 7   price           475719 non-null  float64       \n",
      " 8   customerID      475719 non-null  int64         \n",
      " 9   salutation      475719 non-null  object        \n",
      " 10  dateOfBirth     426830 non-null  datetime64[ns]\n",
      " 11  state           475719 non-null  object        \n",
      " 12  creationDate    475719 non-null  datetime64[ns]\n",
      " 13  returnShipment  475719 non-null  bool          \n",
      " 14  age_at_order    426830 non-null  float64       \n",
      "dtypes: bool(1), datetime64[ns](4), float64(2), int64(4), object(4)\n",
      "memory usage: 54.9+ MB\n"
     ]
    }
   ],
   "source": [
    "df.info()"
   ]
  },
  {
   "cell_type": "markdown",
   "metadata": {},
   "source": [
    "**kommentar:**\n",
    "- nachdem wir nun ein neues feature entwickelt haben, schauen wir uns die spalte \"price\" an\n",
    "- zunächst betrachten wir die verteilung der werte\n",
    "\n",
    "**to-do:**\n",
    "- query auswertung der spalte \"price\"\n",
    "- grafische auswertung (zb boxplot) der spalte \"price\""
   ]
  },
  {
   "cell_type": "code",
   "execution_count": 687,
   "metadata": {},
   "outputs": [
    {
     "data": {
      "text/plain": "<Figure size 640x480 with 1 Axes>",
      "image/png": "[encoded data removed]"
     },
     "metadata": {},
     "output_type": "display_data"
    }
   ],
   "source": [
    "# um eine ausreißeranalyse durchzuführen, schauen wir uns zunächst einen boxplot an\n",
    "df.boxplot(column='price')\n",
    "plt.show()"
   ]
  },
  {
   "cell_type": "code",
   "execution_count": 688,
   "metadata": {},
   "outputs": [
    {
     "data": {
      "text/plain": "        orderItemID  orderDate deliveryDate  itemID size       color  \\\n15               16 2012-04-02   2012-04-04     605   43  anthracite   \n593             594 2012-04-03   2012-04-04     682   41       brown   \n772             773 2012-04-01   2012-04-05     641    m       black   \n821             822 2012-04-03   2012-04-04     701    m  anthracite   \n1366           1367 2012-04-01   2012-04-04     738  11+        grey   \n...             ...        ...          ...     ...  ...         ...   \n479952       479953 2013-03-31   2013-05-01    2974   39     stained   \n479958       479959 2013-03-31   2013-04-03    2710   39       black   \n480095       480096 2013-03-31   2013-04-02    2500   38         red   \n480570       480571 2013-03-31   2013-04-03    2775   40        grey   \n480926       480927 2013-03-31   2013-04-03    2775   42       black   \n\n        manufacturerID   price  customerID salutation dateOfBirth  \\\n15                   1  199.90         860        Mrs  1963-08-15   \n593                 54  189.90        1336        Mrs  1976-08-01   \n772                 48  199.95        1423        Mrs  1944-10-26   \n821                 75  199.90        1453        Mrs  1964-03-11   \n1366                80  200.00        1733        Mrs  1966-06-05   \n...                ...     ...         ...        ...         ...   \n479952              55  189.00       86401        Mrs  1959-05-25   \n479958              55  189.00       86404        Mrs         NaT   \n480095             101  249.90       38189        Mrs  1966-03-29   \n480570               1  199.90       86492        Mrs  1963-05-29   \n480926               1  199.90       86547        Mrs  1961-03-06   \n\n                         state creationDate  returnShipment  age_at_order  \n15      North Rhine-Westphalia   2011-03-20           False     48.665753  \n593                Brandenburg   2011-08-26           False     35.695890  \n772     North Rhine-Westphalia   2012-04-01           False     67.476712  \n821               Lower Saxony   2011-02-16           False     48.095890  \n1366      Rhineland-Palatinate   2011-02-16           False     45.854795  \n...                        ...          ...             ...           ...  \n479952               Thuringia   2013-03-31            True     53.887671  \n479958      Baden-Wuerttemberg   2013-03-31           False           NaN  \n480095             Brandenburg   2011-04-24            True     47.038356  \n480570      Baden-Wuerttemberg   2013-03-31           False     49.873973  \n480926  North Rhine-Westphalia   2013-03-31           False     52.104110  \n\n[10980 rows x 15 columns]",
      "text/html": "<div>\n<style scoped>\n    .dataframe tbody tr th:only-of-type {\n        vertical-align: middle;\n    }\n\n    .dataframe tbody tr th {\n        vertical-align: top;\n    }\n\n    .dataframe thead th {\n        text-align: right;\n    }\n</style>\n<table border=\"1\" class=\"dataframe\">\n  <thead>\n    <tr style=\"text-align: right;\">\n      <th></th>\n      <th>orderItemID</th>\n      <th>orderDate</th>\n      <th>deliveryDate</th>\n      <th>itemID</th>\n      <th>size</th>\n      <th>color</th>\n      <th>manufacturerID</th>\n      <th>price</th>\n      <th>customerID</th>\n      <th>salutation</th>\n      <th>dateOfBirth</th>\n      <th>state</th>\n      <th>creationDate</th>\n      <th>returnShipment</th>\n      <th>age_at_order</th>\n    </tr>\n  </thead>\n  <tbody>\n    <tr>\n      <th>15</th>\n      <td>16</td>\n      <td>2012-04-02</td>\n      <td>2012-04-04</td>\n      <td>605</td>\n      <td>43</td>\n      <td>anthracite</td>\n      <td>1</td>\n      <td>199.90</td>\n      <td>860</td>\n      <td>Mrs</td>\n      <td>1963-08-15</td>\n      <td>North Rhine-Westphalia</td>\n      <td>2011-03-20</td>\n      <td>False</td>\n      <td>48.665753</td>\n    </tr>\n    <tr>\n      <th>593</th>\n      <td>594</td>\n      <td>2012-04-03</td>\n      <td>2012-04-04</td>\n      <td>682</td>\n      <td>41</td>\n      <td>brown</td>\n      <td>54</td>\n      <td>189.90</td>\n      <td>1336</td>\n      <td>Mrs</td>\n      <td>1976-08-01</td>\n      <td>Brandenburg</td>\n      <td>2011-08-26</td>\n      <td>False</td>\n      <td>35.695890</td>\n    </tr>\n    <tr>\n      <th>772</th>\n      <td>773</td>\n      <td>2012-04-01</td>\n      <td>2012-04-05</td>\n      <td>641</td>\n      <td>m</td>\n      <td>black</td>\n      <td>48</td>\n      <td>199.95</td>\n      <td>1423</td>\n      <td>Mrs</td>\n      <td>1944-10-26</td>\n      <td>North Rhine-Westphalia</td>\n      <td>2012-04-01</td>\n      <td>False</td>\n      <td>67.476712</td>\n    </tr>\n    <tr>\n      <th>821</th>\n      <td>822</td>\n      <td>2012-04-03</td>\n      <td>2012-04-04</td>\n      <td>701</td>\n      <td>m</td>\n      <td>anthracite</td>\n      <td>75</td>\n      <td>199.90</td>\n      <td>1453</td>\n      <td>Mrs</td>\n      <td>1964-03-11</td>\n      <td>Lower Saxony</td>\n      <td>2011-02-16</td>\n      <td>False</td>\n      <td>48.095890</td>\n    </tr>\n    <tr>\n      <th>1366</th>\n      <td>1367</td>\n      <td>2012-04-01</td>\n      <td>2012-04-04</td>\n      <td>738</td>\n      <td>11+</td>\n      <td>grey</td>\n      <td>80</td>\n      <td>200.00</td>\n      <td>1733</td>\n      <td>Mrs</td>\n      <td>1966-06-05</td>\n      <td>Rhineland-Palatinate</td>\n      <td>2011-02-16</td>\n      <td>False</td>\n      <td>45.854795</td>\n    </tr>\n    <tr>\n      <th>...</th>\n      <td>...</td>\n      <td>...</td>\n      <td>...</td>\n      <td>...</td>\n      <td>...</td>\n      <td>...</td>\n      <td>...</td>\n      <td>...</td>\n      <td>...</td>\n      <td>...</td>\n      <td>...</td>\n      <td>...</td>\n      <td>...</td>\n      <td>...</td>\n      <td>...</td>\n    </tr>\n    <tr>\n      <th>479952</th>\n      <td>479953</td>\n      <td>2013-03-31</td>\n      <td>2013-05-01</td>\n      <td>2974</td>\n      <td>39</td>\n      <td>stained</td>\n      <td>55</td>\n      <td>189.00</td>\n      <td>86401</td>\n      <td>Mrs</td>\n      <td>1959-05-25</td>\n      <td>Thuringia</td>\n      <td>2013-03-31</td>\n      <td>True</td>\n      <td>53.887671</td>\n    </tr>\n    <tr>\n      <th>479958</th>\n      <td>479959</td>\n      <td>2013-03-31</td>\n      <td>2013-04-03</td>\n      <td>2710</td>\n      <td>39</td>\n      <td>black</td>\n      <td>55</td>\n      <td>189.00</td>\n      <td>86404</td>\n      <td>Mrs</td>\n      <td>NaT</td>\n      <td>Baden-Wuerttemberg</td>\n      <td>2013-03-31</td>\n      <td>False</td>\n      <td>NaN</td>\n    </tr>\n    <tr>\n      <th>480095</th>\n      <td>480096</td>\n      <td>2013-03-31</td>\n      <td>2013-04-02</td>\n      <td>2500</td>\n      <td>38</td>\n      <td>red</td>\n      <td>101</td>\n      <td>249.90</td>\n      <td>38189</td>\n      <td>Mrs</td>\n      <td>1966-03-29</td>\n      <td>Brandenburg</td>\n      <td>2011-04-24</td>\n      <td>True</td>\n      <td>47.038356</td>\n    </tr>\n    <tr>\n      <th>480570</th>\n      <td>480571</td>\n      <td>2013-03-31</td>\n      <td>2013-04-03</td>\n      <td>2775</td>\n      <td>40</td>\n      <td>grey</td>\n      <td>1</td>\n      <td>199.90</td>\n      <td>86492</td>\n      <td>Mrs</td>\n      <td>1963-05-29</td>\n      <td>Baden-Wuerttemberg</td>\n      <td>2013-03-31</td>\n      <td>False</td>\n      <td>49.873973</td>\n    </tr>\n    <tr>\n      <th>480926</th>\n      <td>480927</td>\n      <td>2013-03-31</td>\n      <td>2013-04-03</td>\n      <td>2775</td>\n      <td>42</td>\n      <td>black</td>\n      <td>1</td>\n      <td>199.90</td>\n      <td>86547</td>\n      <td>Mrs</td>\n      <td>1961-03-06</td>\n      <td>North Rhine-Westphalia</td>\n      <td>2013-03-31</td>\n      <td>False</td>\n      <td>52.104110</td>\n    </tr>\n  </tbody>\n</table>\n<p>10980 rows × 15 columns</p>\n</div>"
     },
     "execution_count": 688,
     "metadata": {},
     "output_type": "execute_result"
    }
   ],
   "source": [
    "df[(df['price'] >= 180)]"
   ]
  },
  {
   "cell_type": "code",
   "execution_count": 689,
   "metadata": {},
   "outputs": [
    {
     "data": {
      "text/plain": "        orderItemID  orderDate deliveryDate  itemID     size   color  \\\n65               66 2012-04-02   2012-04-24     239  unsized   brown   \n71               72 2012-04-02   2012-04-16     553  unsized   green   \n986             987 2012-04-03   2012-04-26     239  unsized   brown   \n1250           1251 2012-04-03          NaT     157  unsized  purple   \n1673           1674 2012-04-04   2012-04-05      62  unsized   white   \n...             ...        ...          ...     ...      ...     ...   \n480659       480660 2013-03-31   2013-04-03    3069  unsized   black   \n480689       480690 2013-03-31   2013-04-03    3069  unsized   black   \n480705       480706 2013-03-31   2013-04-03    3069  unsized   black   \n480847       480848 2013-03-31   2013-04-03    3069  unsized   black   \n481038       481039 2013-03-31   2013-04-03    3069  unsized   black   \n\n        manufacturerID  price  customerID salutation dateOfBirth  \\\n65                  60    0.0         925        Mrs  1958-05-08   \n71                  86    0.0         937        Mrs  1955-09-12   \n986                 60    0.0        1543        Mrs  1962-08-14   \n1250                32    0.0        1687        Mrs         NaT   \n1673                 5    0.0        1848        Mrs  1957-11-02   \n...                ...    ...         ...        ...         ...   \n480659             157    0.0       13871        Mrs         NaT   \n480689             157    0.0       51305        Mrs  1961-03-11   \n480705             157    0.0       16759        Mrs  1965-09-04   \n480847             157    0.0       34356        Mrs  1949-11-19   \n481038             157    0.0        7964        Mrs  1959-12-16   \n\n                         state creationDate  returnShipment  age_at_order  \n65                       Hesse   2011-03-16           False     53.939726  \n71                       Hesse   2012-03-03           False     56.594521  \n986         Baden-Wuerttemberg   2011-11-05           False     49.671233  \n1250    North Rhine-Westphalia   2012-04-02           False           NaN  \n1673        Baden-Wuerttemberg   2011-02-16           False     54.457534  \n...                        ...          ...             ...           ...  \n480659  North Rhine-Westphalia   2012-04-23           False           NaN  \n480689      Baden-Wuerttemberg   2012-09-19           False     52.090411  \n480705             Brandenburg   2011-02-16           False     47.602740  \n480847  North Rhine-Westphalia   2011-05-01           False     63.405479  \n481038                   Hesse   2011-06-12           False     53.326027  \n\n[1683 rows x 15 columns]",
      "text/html": "<div>\n<style scoped>\n    .dataframe tbody tr th:only-of-type {\n        vertical-align: middle;\n    }\n\n    .dataframe tbody tr th {\n        vertical-align: top;\n    }\n\n    .dataframe thead th {\n        text-align: right;\n    }\n</style>\n<table border=\"1\" class=\"dataframe\">\n  <thead>\n    <tr style=\"text-align: right;\">\n      <th></th>\n      <th>orderItemID</th>\n      <th>orderDate</th>\n      <th>deliveryDate</th>\n      <th>itemID</th>\n      <th>size</th>\n      <th>color</th>\n      <th>manufacturerID</th>\n      <th>price</th>\n      <th>customerID</th>\n      <th>salutation</th>\n      <th>dateOfBirth</th>\n      <th>state</th>\n      <th>creationDate</th>\n      <th>returnShipment</th>\n      <th>age_at_order</th>\n    </tr>\n  </thead>\n  <tbody>\n    <tr>\n      <th>65</th>\n      <td>66</td>\n      <td>2012-04-02</td>\n      <td>2012-04-24</td>\n      <td>239</td>\n      <td>unsized</td>\n      <td>brown</td>\n      <td>60</td>\n      <td>0.0</td>\n      <td>925</td>\n      <td>Mrs</td>\n      <td>1958-05-08</td>\n      <td>Hesse</td>\n      <td>2011-03-16</td>\n      <td>False</td>\n      <td>53.939726</td>\n    </tr>\n    <tr>\n      <th>71</th>\n      <td>72</td>\n      <td>2012-04-02</td>\n      <td>2012-04-16</td>\n      <td>553</td>\n      <td>unsized</td>\n      <td>green</td>\n      <td>86</td>\n      <td>0.0</td>\n      <td>937</td>\n      <td>Mrs</td>\n      <td>1955-09-12</td>\n      <td>Hesse</td>\n      <td>2012-03-03</td>\n      <td>False</td>\n      <td>56.594521</td>\n    </tr>\n    <tr>\n      <th>986</th>\n      <td>987</td>\n      <td>2012-04-03</td>\n      <td>2012-04-26</td>\n      <td>239</td>\n      <td>unsized</td>\n      <td>brown</td>\n      <td>60</td>\n      <td>0.0</td>\n      <td>1543</td>\n      <td>Mrs</td>\n      <td>1962-08-14</td>\n      <td>Baden-Wuerttemberg</td>\n      <td>2011-11-05</td>\n      <td>False</td>\n      <td>49.671233</td>\n    </tr>\n    <tr>\n      <th>1250</th>\n      <td>1251</td>\n      <td>2012-04-03</td>\n      <td>NaT</td>\n      <td>157</td>\n      <td>unsized</td>\n      <td>purple</td>\n      <td>32</td>\n      <td>0.0</td>\n      <td>1687</td>\n      <td>Mrs</td>\n      <td>NaT</td>\n      <td>North Rhine-Westphalia</td>\n      <td>2012-04-02</td>\n      <td>False</td>\n      <td>NaN</td>\n    </tr>\n    <tr>\n      <th>1673</th>\n      <td>1674</td>\n      <td>2012-04-04</td>\n      <td>2012-04-05</td>\n      <td>62</td>\n      <td>unsized</td>\n      <td>white</td>\n      <td>5</td>\n      <td>0.0</td>\n      <td>1848</td>\n      <td>Mrs</td>\n      <td>1957-11-02</td>\n      <td>Baden-Wuerttemberg</td>\n      <td>2011-02-16</td>\n      <td>False</td>\n      <td>54.457534</td>\n    </tr>\n    <tr>\n      <th>...</th>\n      <td>...</td>\n      <td>...</td>\n      <td>...</td>\n      <td>...</td>\n      <td>...</td>\n      <td>...</td>\n      <td>...</td>\n      <td>...</td>\n      <td>...</td>\n      <td>...</td>\n      <td>...</td>\n      <td>...</td>\n      <td>...</td>\n      <td>...</td>\n      <td>...</td>\n    </tr>\n    <tr>\n      <th>480659</th>\n      <td>480660</td>\n      <td>2013-03-31</td>\n      <td>2013-04-03</td>\n      <td>3069</td>\n      <td>unsized</td>\n      <td>black</td>\n      <td>157</td>\n      <td>0.0</td>\n      <td>13871</td>\n      <td>Mrs</td>\n      <td>NaT</td>\n      <td>North Rhine-Westphalia</td>\n      <td>2012-04-23</td>\n      <td>False</td>\n      <td>NaN</td>\n    </tr>\n    <tr>\n      <th>480689</th>\n      <td>480690</td>\n      <td>2013-03-31</td>\n      <td>2013-04-03</td>\n      <td>3069</td>\n      <td>unsized</td>\n      <td>black</td>\n      <td>157</td>\n      <td>0.0</td>\n      <td>51305</td>\n      <td>Mrs</td>\n      <td>1961-03-11</td>\n      <td>Baden-Wuerttemberg</td>\n      <td>2012-09-19</td>\n      <td>False</td>\n      <td>52.090411</td>\n    </tr>\n    <tr>\n      <th>480705</th>\n      <td>480706</td>\n      <td>2013-03-31</td>\n      <td>2013-04-03</td>\n      <td>3069</td>\n      <td>unsized</td>\n      <td>black</td>\n      <td>157</td>\n      <td>0.0</td>\n      <td>16759</td>\n      <td>Mrs</td>\n      <td>1965-09-04</td>\n      <td>Brandenburg</td>\n      <td>2011-02-16</td>\n      <td>False</td>\n      <td>47.602740</td>\n    </tr>\n    <tr>\n      <th>480847</th>\n      <td>480848</td>\n      <td>2013-03-31</td>\n      <td>2013-04-03</td>\n      <td>3069</td>\n      <td>unsized</td>\n      <td>black</td>\n      <td>157</td>\n      <td>0.0</td>\n      <td>34356</td>\n      <td>Mrs</td>\n      <td>1949-11-19</td>\n      <td>North Rhine-Westphalia</td>\n      <td>2011-05-01</td>\n      <td>False</td>\n      <td>63.405479</td>\n    </tr>\n    <tr>\n      <th>481038</th>\n      <td>481039</td>\n      <td>2013-03-31</td>\n      <td>2013-04-03</td>\n      <td>3069</td>\n      <td>unsized</td>\n      <td>black</td>\n      <td>157</td>\n      <td>0.0</td>\n      <td>7964</td>\n      <td>Mrs</td>\n      <td>1959-12-16</td>\n      <td>Hesse</td>\n      <td>2011-06-12</td>\n      <td>False</td>\n      <td>53.326027</td>\n    </tr>\n  </tbody>\n</table>\n<p>1683 rows × 15 columns</p>\n</div>"
     },
     "execution_count": 689,
     "metadata": {},
     "output_type": "execute_result"
    }
   ],
   "source": [
    "df[(df['price'] == 0)]"
   ]
  },
  {
   "cell_type": "markdown",
   "source": [
    "**kommentar:**\n",
    "- nachdem wir uns um die spalte price gekümmert haben, schauen wir uns die spalte \"size\" an\n",
    "\n",
    "**to-do:**"
   ],
   "metadata": {
    "collapsed": false
   }
  },
  {
   "cell_type": "code",
   "execution_count": 690,
   "outputs": [
    {
     "data": {
      "text/plain": "122"
     },
     "execution_count": 690,
     "metadata": {},
     "output_type": "execute_result"
    }
   ],
   "source": [
    "len(df['size'].unique())"
   ],
   "metadata": {
    "collapsed": false
   }
  },
  {
   "cell_type": "code",
   "execution_count": 691,
   "outputs": [],
   "source": [
    "df['size'] = df['size'].str.lower()"
   ],
   "metadata": {
    "collapsed": false
   }
  },
  {
   "cell_type": "code",
   "execution_count": 692,
   "outputs": [
    {
     "data": {
      "text/plain": "115"
     },
     "execution_count": 692,
     "metadata": {},
     "output_type": "execute_result"
    }
   ],
   "source": [
    "len(df['size'].unique())"
   ],
   "metadata": {
    "collapsed": false
   }
  },
  {
   "cell_type": "code",
   "execution_count": 693,
   "outputs": [
    {
     "name": "stderr",
     "output_type": "stream",
     "text": [
      "C:\\Users\\JustusDonnerDörffler\\AppData\\Local\\Temp\\ipykernel_31844\\4026811609.py:8: FutureWarning: The default value of regex will change from True to False in a future version. In addition, single character regular expressions will *not* be treated as literal strings when regex=True.\n",
      "  df['size'] = df['size'].str.replace('+', '')\n"
     ]
    },
    {
     "data": {
      "text/plain": "0             m\n1           0-9\n2           0-9\n3             m\n4         30-39\n          ...  \n481087    30-39\n481088    30-39\n481089       xl\n481090       xl\n481091       xl\nName: size, Length: 475719, dtype: object"
     },
     "execution_count": 693,
     "metadata": {},
     "output_type": "execute_result"
    }
   ],
   "source": [
    "# option 1 (für alphanumerisch)\n",
    "# fasse alle *xl Werte zu xl zusammen\n",
    "mask = df['size'].str.contains('xl')\n",
    "df.loc[mask, 'size'] = 'xl'\n",
    "\n",
    "# option 2 (für numerische bis drei stellen)\n",
    "# \"+\" ignorieren da keine signifikante bedeutung bei größen\n",
    "df['size'] = df['size'].str.replace('+', '')\n",
    "\n",
    "# vier stellige größen mit \"/\" schreiben\n",
    "mask = df['size'].str.len() == 4\n",
    "mask &= df['size'].str.isnumeric()\n",
    "\n",
    "df.loc[mask, 'size'] = df.loc[mask, 'size'].str[:2] + '/' + df.loc[mask, 'size'].str[2:]\n",
    "\n",
    "# erstelle bins für die größen bis zu drei stellen\n",
    "bin_edges = range(0, 1000, 10)\n",
    "bin_labels = [f'{i}-{i+9}' for i in bin_edges[:-1]]\n",
    "\n",
    "mask = df['size'].str.len() <= 3\n",
    "mask &= df['size'].str.isnumeric()\n",
    "df.loc[mask, 'size'] = pd.cut(df.loc[mask, 'size'].astype(int), bins=bin_edges, labels=bin_labels)\n",
    "\n",
    "df['size']\n",
    "\n",
    "#id_counts = df['size'].value_counts()\n",
    "#result_df = pd.DataFrame({'size': id_counts.index, 'count': id_counts.values})\n",
    "#result_df.to_csv('output_files/size_counts.csv', index=False)"
   ],
   "metadata": {
    "collapsed": false
   }
  },
  {
   "cell_type": "code",
   "execution_count": 694,
   "outputs": [
    {
     "data": {
      "text/plain": "array(['m', '0-9', '30-39', 'xl', '40-49', 'l', 'unsized', 's', '150-159',\n       '20-29', '10-19', '110-119', '160-169', '100-109', '120-129',\n       '90-99', '130-139', '33/32', '50-59', '34/32', '34/34', '80-89',\n       '70-79', '170-179', '36/32', '38/32', '36/34', '40/32', 'xs',\n       '31/32', '40/34', '38/34', '29/32', '42/32', '33/34'], dtype=object)"
     },
     "execution_count": 694,
     "metadata": {},
     "output_type": "execute_result"
    }
   ],
   "source": [
    "df['size'].unique()"
   ],
   "metadata": {
    "collapsed": false
   }
  },
  {
   "cell_type": "code",
   "execution_count": 695,
   "outputs": [
    {
     "data": {
      "text/plain": "35"
     },
     "execution_count": 695,
     "metadata": {},
     "output_type": "execute_result"
    }
   ],
   "source": [
    "len(df['size'].unique())"
   ],
   "metadata": {
    "collapsed": false
   }
  },
  {
   "cell_type": "code",
   "execution_count": 697,
   "outputs": [
    {
     "data": {
      "text/plain": "        orderItemID  orderDate deliveryDate  itemID   size  color  \\\n0                 1 2012-04-01   2012-04-03     186      m  denim   \n1                 2 2012-04-01   2012-04-03      71    0-9  ocher   \n2                 3 2012-04-01   2012-04-03      71    0-9  curry   \n3                 4 2012-04-02          NaT      22      m  green   \n4                 5 2012-04-02   1990-12-31     151  30-39  black   \n...             ...        ...          ...     ...    ...    ...   \n481087       481088 2013-03-31   2013-04-09    2561  30-39   blue   \n481088       481089 2013-03-31   2013-04-02    2669  30-39   grey   \n481089       481090 2013-03-31   1990-12-31    2458     xl  black   \n481090       481091 2013-03-31   1990-12-31    2659     xl  black   \n481091       481092 2013-03-31   1990-12-31    2375     xl    red   \n\n        manufacturerID   price  customerID salutation dateOfBirth  \\\n0                   25   69.90         794        Mrs  1965-01-06   \n1                   21   69.95         794        Mrs  1965-01-06   \n2                   21   69.95         794        Mrs  1965-01-06   \n3                   14   39.90         808        Mrs  1959-11-09   \n4                   53   29.90         825        Mrs  1964-07-11   \n...                ...     ...         ...        ...         ...   \n481087               1  139.90        7032         Mr  1962-12-17   \n481088              18  130.00       86610        Mrs         NaT   \n481089               5   99.90       86611         Mr  1973-05-16   \n481090              49   99.90       86611         Mr  1973-05-16   \n481091              49  119.90       86611         Mr  1973-05-16   \n\n                       state creationDate  returnShipment  age_at_order  \n0         Baden-Wuerttemberg   2011-04-25           False     47.265753  \n1         Baden-Wuerttemberg   2011-04-25            True     47.265753  \n2         Baden-Wuerttemberg   2011-04-25            True     47.265753  \n3                     Saxony   2012-01-04           False     52.432877  \n4       Rhineland-Palatinate   2011-02-16           False     47.758904  \n...                      ...          ...             ...           ...  \n481087          Lower Saxony   2011-03-12            True     50.320548  \n481088                Berlin   2012-03-24           False           NaN  \n481089                Berlin   2013-03-31           False     39.901370  \n481090                Berlin   2013-03-31           False     39.901370  \n481091                Berlin   2013-03-31           False     39.901370  \n\n[475719 rows x 15 columns]",
      "text/html": "<div>\n<style scoped>\n    .dataframe tbody tr th:only-of-type {\n        vertical-align: middle;\n    }\n\n    .dataframe tbody tr th {\n        vertical-align: top;\n    }\n\n    .dataframe thead th {\n        text-align: right;\n    }\n</style>\n<table border=\"1\" class=\"dataframe\">\n  <thead>\n    <tr style=\"text-align: right;\">\n      <th></th>\n      <th>orderItemID</th>\n      <th>orderDate</th>\n      <th>deliveryDate</th>\n      <th>itemID</th>\n      <th>size</th>\n      <th>color</th>\n      <th>manufacturerID</th>\n      <th>price</th>\n      <th>customerID</th>\n      <th>salutation</th>\n      <th>dateOfBirth</th>\n      <th>state</th>\n      <th>creationDate</th>\n      <th>returnShipment</th>\n      <th>age_at_order</th>\n    </tr>\n  </thead>\n  <tbody>\n    <tr>\n      <th>0</th>\n      <td>1</td>\n      <td>2012-04-01</td>\n      <td>2012-04-03</td>\n      <td>186</td>\n      <td>m</td>\n      <td>denim</td>\n      <td>25</td>\n      <td>69.90</td>\n      <td>794</td>\n      <td>Mrs</td>\n      <td>1965-01-06</td>\n      <td>Baden-Wuerttemberg</td>\n      <td>2011-04-25</td>\n      <td>False</td>\n      <td>47.265753</td>\n    </tr>\n    <tr>\n      <th>1</th>\n      <td>2</td>\n      <td>2012-04-01</td>\n      <td>2012-04-03</td>\n      <td>71</td>\n      <td>0-9</td>\n      <td>ocher</td>\n      <td>21</td>\n      <td>69.95</td>\n      <td>794</td>\n      <td>Mrs</td>\n      <td>1965-01-06</td>\n      <td>Baden-Wuerttemberg</td>\n      <td>2011-04-25</td>\n      <td>True</td>\n      <td>47.265753</td>\n    </tr>\n    <tr>\n      <th>2</th>\n      <td>3</td>\n      <td>2012-04-01</td>\n      <td>2012-04-03</td>\n      <td>71</td>\n      <td>0-9</td>\n      <td>curry</td>\n      <td>21</td>\n      <td>69.95</td>\n      <td>794</td>\n      <td>Mrs</td>\n      <td>1965-01-06</td>\n      <td>Baden-Wuerttemberg</td>\n      <td>2011-04-25</td>\n      <td>True</td>\n      <td>47.265753</td>\n    </tr>\n    <tr>\n      <th>3</th>\n      <td>4</td>\n      <td>2012-04-02</td>\n      <td>NaT</td>\n      <td>22</td>\n      <td>m</td>\n      <td>green</td>\n      <td>14</td>\n      <td>39.90</td>\n      <td>808</td>\n      <td>Mrs</td>\n      <td>1959-11-09</td>\n      <td>Saxony</td>\n      <td>2012-01-04</td>\n      <td>False</td>\n      <td>52.432877</td>\n    </tr>\n    <tr>\n      <th>4</th>\n      <td>5</td>\n      <td>2012-04-02</td>\n      <td>1990-12-31</td>\n      <td>151</td>\n      <td>30-39</td>\n      <td>black</td>\n      <td>53</td>\n      <td>29.90</td>\n      <td>825</td>\n      <td>Mrs</td>\n      <td>1964-07-11</td>\n      <td>Rhineland-Palatinate</td>\n      <td>2011-02-16</td>\n      <td>False</td>\n      <td>47.758904</td>\n    </tr>\n    <tr>\n      <th>...</th>\n      <td>...</td>\n      <td>...</td>\n      <td>...</td>\n      <td>...</td>\n      <td>...</td>\n      <td>...</td>\n      <td>...</td>\n      <td>...</td>\n      <td>...</td>\n      <td>...</td>\n      <td>...</td>\n      <td>...</td>\n      <td>...</td>\n      <td>...</td>\n      <td>...</td>\n    </tr>\n    <tr>\n      <th>481087</th>\n      <td>481088</td>\n      <td>2013-03-31</td>\n      <td>2013-04-09</td>\n      <td>2561</td>\n      <td>30-39</td>\n      <td>blue</td>\n      <td>1</td>\n      <td>139.90</td>\n      <td>7032</td>\n      <td>Mr</td>\n      <td>1962-12-17</td>\n      <td>Lower Saxony</td>\n      <td>2011-03-12</td>\n      <td>True</td>\n      <td>50.320548</td>\n    </tr>\n    <tr>\n      <th>481088</th>\n      <td>481089</td>\n      <td>2013-03-31</td>\n      <td>2013-04-02</td>\n      <td>2669</td>\n      <td>30-39</td>\n      <td>grey</td>\n      <td>18</td>\n      <td>130.00</td>\n      <td>86610</td>\n      <td>Mrs</td>\n      <td>NaT</td>\n      <td>Berlin</td>\n      <td>2012-03-24</td>\n      <td>False</td>\n      <td>NaN</td>\n    </tr>\n    <tr>\n      <th>481089</th>\n      <td>481090</td>\n      <td>2013-03-31</td>\n      <td>1990-12-31</td>\n      <td>2458</td>\n      <td>xl</td>\n      <td>black</td>\n      <td>5</td>\n      <td>99.90</td>\n      <td>86611</td>\n      <td>Mr</td>\n      <td>1973-05-16</td>\n      <td>Berlin</td>\n      <td>2013-03-31</td>\n      <td>False</td>\n      <td>39.901370</td>\n    </tr>\n    <tr>\n      <th>481090</th>\n      <td>481091</td>\n      <td>2013-03-31</td>\n      <td>1990-12-31</td>\n      <td>2659</td>\n      <td>xl</td>\n      <td>black</td>\n      <td>49</td>\n      <td>99.90</td>\n      <td>86611</td>\n      <td>Mr</td>\n      <td>1973-05-16</td>\n      <td>Berlin</td>\n      <td>2013-03-31</td>\n      <td>False</td>\n      <td>39.901370</td>\n    </tr>\n    <tr>\n      <th>481091</th>\n      <td>481092</td>\n      <td>2013-03-31</td>\n      <td>1990-12-31</td>\n      <td>2375</td>\n      <td>xl</td>\n      <td>red</td>\n      <td>49</td>\n      <td>119.90</td>\n      <td>86611</td>\n      <td>Mr</td>\n      <td>1973-05-16</td>\n      <td>Berlin</td>\n      <td>2013-03-31</td>\n      <td>False</td>\n      <td>39.901370</td>\n    </tr>\n  </tbody>\n</table>\n<p>475719 rows × 15 columns</p>\n</div>"
     },
     "execution_count": 697,
     "metadata": {},
     "output_type": "execute_result"
    }
   ],
   "source": [
    "df"
   ],
   "metadata": {
    "collapsed": false
   }
  },
  {
   "cell_type": "markdown",
   "source": [
    "**kommentar:**\n",
    "- reduzierung von 122 unique values auf 35 unique values\n",
    "\n",
    "**idee für weitere \"bereinigung\"**\n",
    "- l & xl => large\n",
    "- m => medium\n",
    "- s & xs => small"
   ],
   "metadata": {
    "collapsed": false
   }
  }
 ],
 "metadata": {
  "kernelspec": {
   "display_name": "Python 3.9.6 64-bit",
   "language": "python",
   "name": "python3"
  },
  "language_info": {
   "codemirror_mode": {
    "name": "ipython",
    "version": 3
   },
   "file_extension": ".py",
   "mimetype": "text/x-python",
   "name": "python",
   "nbconvert_exporter": "python",
   "pygments_lexer": "ipython3",
   "version": "3.9.6"
  },
  "orig_nbformat": 4,
  "vscode": {
   "interpreter": {
    "hash": "aee8b7b246df8f9039afb4144a1f6fd8d2ca17a180786b69acc140d282b71a49"
   }
  }
 },
 "nbformat": 4,
 "nbformat_minor": 2
}
